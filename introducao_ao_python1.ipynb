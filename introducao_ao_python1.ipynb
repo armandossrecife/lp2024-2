{
  "nbformat": 4,
  "nbformat_minor": 0,
  "metadata": {
    "colab": {
      "provenance": [],
      "authorship_tag": "ABX9TyOTKf+VwOw3tWPVrTK8Ypbq",
      "include_colab_link": true
    },
    "kernelspec": {
      "name": "python3",
      "display_name": "Python 3"
    },
    "language_info": {
      "name": "python"
    }
  },
  "cells": [
    {
      "cell_type": "markdown",
      "metadata": {
        "id": "view-in-github",
        "colab_type": "text"
      },
      "source": [
        "<a href=\"https://colab.research.google.com/github/armandossrecife/lp2024-2/blob/main/introducao_ao_python1.ipynb\" target=\"_parent\"><img src=\"https://colab.research.google.com/assets/colab-badge.svg\" alt=\"Open In Colab\"/></a>"
      ]
    },
    {
      "cell_type": "markdown",
      "source": [
        "# Introdução ao Python"
      ],
      "metadata": {
        "id": "2B5iLjifBV51"
      }
    },
    {
      "cell_type": "markdown",
      "source": [
        "Tutorial Python disponível em https://docs.python.org/3/tutorial/index.html by Python.org"
      ],
      "metadata": {
        "id": "ICD4uA33Br4w"
      }
    },
    {
      "cell_type": "code",
      "source": [
        "print(\"Bem vindo ao Python!\")\n",
        "print(\"Bem vindo ao Google Colab\")"
      ],
      "metadata": {
        "colab": {
          "base_uri": "https://localhost:8080/"
        },
        "id": "0SzJw_HgBX3L",
        "outputId": "b9350c06-c6a0-487a-b476-c878c2e159e9"
      },
      "execution_count": null,
      "outputs": [
        {
          "output_type": "stream",
          "name": "stdout",
          "text": [
            "Bem vindo ao Python!\n",
            "Bem vindo ao Google Colab\n"
          ]
        }
      ]
    },
    {
      "cell_type": "markdown",
      "source": [
        "**Comentários em Python**"
      ],
      "metadata": {
        "id": "e0pKy6ZbXVxV"
      }
    },
    {
      "cell_type": "code",
      "source": [
        "# sample comment\n",
        "# This is Python Comment\n",
        "name = \"Introdução ao Python\"\n",
        "print(name)"
      ],
      "metadata": {
        "id": "jxYD8XFAXdFL",
        "outputId": "21db7753-cba2-4968-da96-e205c2a1e7a2",
        "colab": {
          "base_uri": "https://localhost:8080/"
        }
      },
      "execution_count": null,
      "outputs": [
        {
          "output_type": "stream",
          "name": "stdout",
          "text": [
            "Introdução ao Python\n"
          ]
        }
      ]
    },
    {
      "cell_type": "markdown",
      "source": [
        "**Palavras reservadas**\n",
        "\n",
        "|     |     |     |     |\n",
        "| --- | --- | --- | --- |\n",
        "| and | False | nonlocal |       |\n",
        "| as | finally | not |       |\n",
        "| assert | for | or |       |\n",
        "| break | from | pass |       |\n",
        "| class | global | raise |       |\n",
        "| continue | if | return |       |\n",
        "| def | import | True |       |\n",
        "| del | is | try |       |\n",
        "| elif | in | while |       |\n",
        "| else | lambda | with |       |\n",
        "| except | None | yield |       |\n",
        "\n"
      ],
      "metadata": {
        "id": "YVx4sDERXmLX"
      }
    },
    {
      "cell_type": "markdown",
      "source": [
        "**Variáveis**\n",
        "\n",
        "Variável Python são contêineres que armazenam valores.\n",
        "\n",
        "Python não é “tipado estaticamente”."
      ],
      "metadata": {
        "id": "-oV58VQRX9e6"
      }
    },
    {
      "cell_type": "code",
      "source": [
        "# An integer assignment\n",
        "age = 45\n",
        "\n",
        "# A floating point\n",
        "salary = 1456.8\n",
        "\n",
        "# A string\n",
        "name = \"John\"\n",
        "\n",
        "print(age)\n",
        "print(salary)\n",
        "print(name)"
      ],
      "metadata": {
        "id": "u2m2Gty4X_Ah",
        "outputId": "654bbf26-5ea6-47c8-b191-2e25b3f1f399",
        "colab": {
          "base_uri": "https://localhost:8080/"
        }
      },
      "execution_count": null,
      "outputs": [
        {
          "output_type": "stream",
          "name": "stdout",
          "text": [
            "45\n",
            "1456.8\n",
            "John\n"
          ]
        }
      ]
    },
    {
      "cell_type": "markdown",
      "source": [
        "**Tipos de dados**\n",
        "\n",
        "Os tipos de dados são a classificação ou categorização de itens de dados.\n",
        "Representa o tipo de valor que indica quais operações podem ser executadas em um determinado dado.\n",
        "\n",
        "**Numérico**: int, float, complex\n",
        "\n",
        "**Booleano**: True, False\n",
        "\n",
        "**Tipo Sequencial**: string\n",
        "\n",
        "**Não primitivos**: dicionário, lista, tupla, set\n"
      ],
      "metadata": {
        "id": "CnEtUlOUYFTN"
      }
    },
    {
      "cell_type": "code",
      "source": [
        "x = \"Hello World\" # string\n",
        "x = 50  # integer\n",
        "x = 60.5  # float\n",
        "x = 3j  # complex\n",
        "x = [\"geeks\", \"for\", \"geeks\"]  # list\n",
        "x = (\"geeks\", \"for\", \"geeks\")  # tuple\n",
        "x = {\"name\": \"Suraj\", \"age\": 24} # dict\n",
        "x = {\"geeks\", \"for\", \"geeks\"} # set\n",
        "x = True  # bool"
      ],
      "metadata": {
        "id": "fdSJ1AUeYvkG"
      },
      "execution_count": null,
      "outputs": []
    },
    {
      "cell_type": "markdown",
      "source": [
        "**Input/Output**\n",
        "\n",
        "Esta função primeiro pega a entrada do usuário e a converte em uma string. O tipo do objeto retornado sempre será <class ‘str’>. Ele não avalia a expressão, apenas retorna a instrução completa como String e a imprime."
      ],
      "metadata": {
        "id": "t7JNlz4iY3_H"
      }
    },
    {
      "cell_type": "code",
      "source": [
        "# Python program show input and Output\n",
        "nome = input(\"Qual o seu nome? \")\n",
        "print(nome)"
      ],
      "metadata": {
        "id": "O-q881wmY1KK",
        "outputId": "c754bb38-fe23-441f-e1d1-25bfd868c3fa",
        "colab": {
          "base_uri": "https://localhost:8080/"
        }
      },
      "execution_count": null,
      "outputs": [
        {
          "output_type": "stream",
          "name": "stdout",
          "text": [
            "Qual o seu nome? Armando\n",
            "Armando\n"
          ]
        }
      ]
    },
    {
      "cell_type": "code",
      "source": [
        "ano_corrente = int(input('Qual o ano corrente? '))\n",
        "data_nascimento = int(input('Qual seu ano de nascimento? '))\n",
        "\n",
        "idade = ano_corrente - data_nascimento\n",
        "print(f'Idade atual: {idade}')"
      ],
      "metadata": {
        "colab": {
          "base_uri": "https://localhost:8080/"
        },
        "id": "8xAhbnr-cqmi",
        "outputId": "e1203387-df98-4b5e-ffc7-f076cd3496be"
      },
      "execution_count": null,
      "outputs": [
        {
          "output_type": "stream",
          "name": "stdout",
          "text": [
            "Qual o ano corrente? 2024\n",
            "Qual seu ano de nascimento? 1979\n",
            "Idade atual: 45\n"
          ]
        }
      ]
    },
    {
      "cell_type": "markdown",
      "source": [
        "**Operadores**\n",
        "\n",
        "Operadores em geral são usados para realizar operações em valores e variáveis. Estes são símbolos padrão usados para fins de operações lógicas e aritméticas."
      ],
      "metadata": {
        "id": "Un-ktIzlZQSw"
      }
    },
    {
      "cell_type": "markdown",
      "source": [
        "**Operadores aritméticos**\n",
        "\n",
        "Operadores aritméticos Python são usados para realizar operações matemáticas básicas como adição, subtração, multiplicação e divisão.\n",
        "\n",
        "A precedência dos operadores aritméticos em Python é a seguinte:\n",
        "\n",
        "P – Parênteses\n",
        "\n",
        "E – Exponenciação\n",
        "\n",
        "M – Multiplicação (multiplicação e divisão têm a mesma precedência)\n",
        "\n",
        "D – Divisão\n",
        "\n",
        "A – Adição (Adição e subtração têm a mesma precedência)\n",
        "\n",
        "S – Subtração"
      ],
      "metadata": {
        "id": "c33jClNnZYpg"
      }
    },
    {
      "cell_type": "code",
      "source": [
        "a = 9\n",
        "b = 4\n",
        "add = a + b\n",
        "\n",
        "sub = a - b\n",
        "\n",
        "mul = a * b\n",
        "\n",
        "mod = a % b\n",
        "\n",
        "p = a ** b\n",
        "print(add)\n",
        "print(sub)\n",
        "print(mul)\n",
        "print(mod)\n",
        "print(p)"
      ],
      "metadata": {
        "id": "Ghk13umAZSRx",
        "outputId": "cd270019-662c-47af-84f5-197e1ce77556",
        "colab": {
          "base_uri": "https://localhost:8080/"
        }
      },
      "execution_count": null,
      "outputs": [
        {
          "output_type": "stream",
          "name": "stdout",
          "text": [
            "13\n",
            "5\n",
            "36\n",
            "1\n",
            "6561\n"
          ]
        }
      ]
    },
    {
      "cell_type": "markdown",
      "source": [
        "**Operadores lógicos**\n",
        "\n",
        "Os operadores lógicos Python executam operações lógicas AND, lógicas OR e lógicas NOT. É usado para combinar instruções condicionais.\n"
      ],
      "metadata": {
        "id": "Gwjg_KKnZs5V"
      }
    },
    {
      "cell_type": "code",
      "source": [
        "a = True\n",
        "b = False\n",
        "print(a and b)\n",
        "print(a or b)\n",
        "print(not a)"
      ],
      "metadata": {
        "id": "R5i_zYfmZu5O",
        "outputId": "91ce3f37-c025-4a49-f88b-81189a4c96f0",
        "colab": {
          "base_uri": "https://localhost:8080/"
        }
      },
      "execution_count": null,
      "outputs": [
        {
          "output_type": "stream",
          "name": "stdout",
          "text": [
            "False\n",
            "True\n",
            "False\n"
          ]
        }
      ]
    },
    {
      "cell_type": "code",
      "source": [
        "print(a == b)\n",
        "print(a != b)"
      ],
      "metadata": {
        "id": "tI3dOnh3aZS0",
        "outputId": "23899104-a569-450d-9bd9-c8154acdaffc",
        "colab": {
          "base_uri": "https://localhost:8080/"
        }
      },
      "execution_count": null,
      "outputs": [
        {
          "output_type": "stream",
          "name": "stdout",
          "text": [
            "False\n",
            "True\n"
          ]
        }
      ]
    },
    {
      "cell_type": "markdown",
      "source": [
        "**Operadores de Atribuição**\n",
        "\n",
        "Operadores de atribuição Python são usados para atribuir valores às variáveis."
      ],
      "metadata": {
        "id": "K06W9gXNZ-XR"
      }
    },
    {
      "cell_type": "code",
      "source": [
        "a = 10\n",
        "b = a\n",
        "print(b)\n",
        "b += a\n",
        "print(b)\n",
        "b -= a\n",
        "print(b)\n",
        "b *= a\n",
        "print(b)"
      ],
      "metadata": {
        "id": "YYhzCfw9Z_vK",
        "outputId": "a3c4e153-377f-4209-db05-ccef3d642919",
        "colab": {
          "base_uri": "https://localhost:8080/"
        }
      },
      "execution_count": null,
      "outputs": [
        {
          "output_type": "stream",
          "name": "stdout",
          "text": [
            "10\n",
            "20\n",
            "10\n",
            "100\n"
          ]
        }
      ]
    },
    {
      "cell_type": "markdown",
      "source": [
        "Exemplo:"
      ],
      "metadata": {
        "id": "_ddY-VYcB8fB"
      }
    },
    {
      "cell_type": "code",
      "source": [
        "idade = 18\n",
        "if idade >= 18:\n",
        "  print(\"Pode fazer o teste para tirar a habilitação\")\n",
        "else:\n",
        "  print(\"Ainda não pode dirigir.\")"
      ],
      "metadata": {
        "colab": {
          "base_uri": "https://localhost:8080/"
        },
        "id": "eaDSju3tBaX8",
        "outputId": "78e16a85-e400-46f9-e535-0fcd55440e1b"
      },
      "execution_count": null,
      "outputs": [
        {
          "output_type": "stream",
          "name": "stdout",
          "text": [
            "Pode fazer o teste para tirar a habilitação\n"
          ]
        }
      ]
    },
    {
      "cell_type": "markdown",
      "source": [
        "**Uso de identação para marcar blocos de código**"
      ],
      "metadata": {
        "id": "9ZaWisXbRDPN"
      }
    },
    {
      "cell_type": "code",
      "source": [
        "for num in range(10,20):\n",
        "  for i in range(2, num):\n",
        "    if num % i == 0:\n",
        "      j = num / i\n",
        "      print(f'{num} equals {i}*{j}')\n",
        "      break\n",
        "    else:\n",
        "      print(f'{num} is a prime number')\n",
        "      break"
      ],
      "metadata": {
        "colab": {
          "base_uri": "https://localhost:8080/"
        },
        "id": "CYSjhbVsCCaK",
        "outputId": "1c6cadb1-f7c5-4e86-8093-343c3146e0ef"
      },
      "execution_count": null,
      "outputs": [
        {
          "output_type": "stream",
          "name": "stdout",
          "text": [
            "10 equals 2*5.0\n",
            "11 is a prime number\n",
            "12 equals 2*6.0\n",
            "13 is a prime number\n",
            "14 equals 2*7.0\n",
            "15 is a prime number\n",
            "16 equals 2*8.0\n",
            "17 is a prime number\n",
            "18 equals 2*9.0\n",
            "19 is a prime number\n"
          ]
        }
      ]
    },
    {
      "cell_type": "markdown",
      "source": [
        "**Exemplo de lista** de nomes de alunos"
      ],
      "metadata": {
        "id": "UwFreGokRjCe"
      }
    },
    {
      "cell_type": "code",
      "source": [
        "lista_alunos = ['maria', 'francisco', 'antônio']\n",
        "lista_alunos.sort()\n",
        "for item in lista_alunos:\n",
        "  print(item)"
      ],
      "metadata": {
        "colab": {
          "base_uri": "https://localhost:8080/"
        },
        "id": "2IouS0cCRZfI",
        "outputId": "f560617d-ff99-48da-99fe-76d4f42800dd"
      },
      "execution_count": null,
      "outputs": [
        {
          "output_type": "stream",
          "name": "stdout",
          "text": [
            "antônio\n",
            "francisco\n",
            "maria\n"
          ]
        }
      ]
    },
    {
      "cell_type": "code",
      "source": [
        "for item in lista_alunos:\n",
        "  print(item.capitalize())"
      ],
      "metadata": {
        "colab": {
          "base_uri": "https://localhost:8080/"
        },
        "id": "Osl90lEeRhJO",
        "outputId": "6b44319e-5bb2-4320-ca00-29f67494315f"
      },
      "execution_count": null,
      "outputs": [
        {
          "output_type": "stream",
          "name": "stdout",
          "text": [
            "Antônio\n",
            "Francisco\n",
            "Maria\n"
          ]
        }
      ]
    },
    {
      "cell_type": "markdown",
      "source": [
        "**Exemplo de código**"
      ],
      "metadata": {
        "id": "Qjnwau_vTDw6"
      }
    },
    {
      "cell_type": "code",
      "source": [
        "# Declaracao de variaveis\n",
        "ano_corrente = 2024\n",
        "periodo_corrente = 1\n",
        "\n",
        "curso1 = \"Ciência da Computação\"\n",
        "curso2 = \"Matemática\"\n",
        "curso3 = \"Estatística\"\n",
        "\n",
        "disciplina1 = \"Introdução a Ciência da Computação\"\n",
        "disciplina2 = \"Laboratório de Programação\"\n",
        "disciplina3 = \"Engenharia de Software\"\n",
        "\n",
        "aluno1 = \"Maria Joaquina\"\n",
        "aluno2 = \"Francisco da Silva\"\n",
        "aluno3 = \"Antônio Carlos\"\n",
        "aluno4 = \"Carlos Sampaio\"\n",
        "aluno5 = \"Eduarda Monteiro\"\n",
        "\n",
        "lista_alunos_2024_1 = [aluno1, aluno2, aluno3]\n",
        "lista_alunos_2023_2 = [aluno4, aluno5]\n",
        "\n",
        "lista_alunos_disciplina1 = lista_alunos_2024_1\n",
        "\n",
        "if ano_corrente==2024 and periodo_corrente==1:\n",
        "  mensagem = \"Bem vindos a disciplina \" + disciplina1\n",
        "  print(mensagem)\n",
        "  for item in lista_alunos_disciplina1:\n",
        "    print(item)"
      ],
      "metadata": {
        "colab": {
          "base_uri": "https://localhost:8080/"
        },
        "id": "xg-e7tdqSlb_",
        "outputId": "c24021a8-33e2-4463-a708-fc13a6107537"
      },
      "execution_count": null,
      "outputs": [
        {
          "output_type": "stream",
          "name": "stdout",
          "text": [
            "Bem vindos a disciplina Introdução a Ciência da Computação\n",
            "Maria Joaquina\n",
            "Francisco da Silva\n",
            "Antônio Carlos\n"
          ]
        }
      ]
    }
  ]
}