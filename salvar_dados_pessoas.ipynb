{
  "nbformat": 4,
  "nbformat_minor": 0,
  "metadata": {
    "colab": {
      "provenance": [],
      "authorship_tag": "ABX9TyP9Uxmjq0Z3ZG+fH4RyaBEa",
      "include_colab_link": true
    },
    "kernelspec": {
      "name": "python3",
      "display_name": "Python 3"
    },
    "language_info": {
      "name": "python"
    }
  },
  "cells": [
    {
      "cell_type": "markdown",
      "metadata": {
        "id": "view-in-github",
        "colab_type": "text"
      },
      "source": [
        "<a href=\"https://colab.research.google.com/github/armandossrecife/lp2024-2/blob/main/salvar_dados_pessoas.ipynb\" target=\"_parent\"><img src=\"https://colab.research.google.com/assets/colab-badge.svg\" alt=\"Open In Colab\"/></a>"
      ]
    },
    {
      "cell_type": "markdown",
      "source": [
        "# Revisão"
      ],
      "metadata": {
        "id": "X1G29eJ3SuHZ"
      }
    },
    {
      "cell_type": "code",
      "execution_count": 1,
      "metadata": {
        "id": "oC3gY3k2HAGW"
      },
      "outputs": [],
      "source": [
        "pessoas = {}"
      ]
    },
    {
      "cell_type": "code",
      "source": [
        "pessoas['100'] = {'nome':'Maria', 'telefone':'86-999998888'}"
      ],
      "metadata": {
        "id": "97MvpOlCIH-O"
      },
      "execution_count": 2,
      "outputs": []
    },
    {
      "cell_type": "code",
      "source": [
        "pessoas['200'] = {'nome':'Carla', 'telefone':'8697777666'}"
      ],
      "metadata": {
        "id": "r_aDQTPaNqO8"
      },
      "execution_count": 3,
      "outputs": []
    },
    {
      "cell_type": "code",
      "source": [
        "for item in pessoas.items():\n",
        "    print(item)"
      ],
      "metadata": {
        "colab": {
          "base_uri": "https://localhost:8080/"
        },
        "id": "iCrULk_7Nz-E",
        "outputId": "c81d2a5c-883e-419c-c3c7-0d658ce666a7"
      },
      "execution_count": 4,
      "outputs": [
        {
          "output_type": "stream",
          "name": "stdout",
          "text": [
            "('100', {'nome': 'Maria', 'telefone': '86-999998888'})\n",
            "('200', {'nome': 'Carla', 'telefone': '8697777666'})\n"
          ]
        }
      ]
    },
    {
      "cell_type": "code",
      "source": [
        "pessoas"
      ],
      "metadata": {
        "colab": {
          "base_uri": "https://localhost:8080/"
        },
        "id": "3xQ0AfCZQxTp",
        "outputId": "40391e31-43c0-4fb9-bcd1-93d0a915f913"
      },
      "execution_count": 5,
      "outputs": [
        {
          "output_type": "execute_result",
          "data": {
            "text/plain": [
              "{'100': {'nome': 'Maria', 'telefone': '86-999998888'},\n",
              " '200': {'nome': 'Carla', 'telefone': '8697777666'}}"
            ]
          },
          "metadata": {},
          "execution_count": 5
        }
      ]
    },
    {
      "cell_type": "code",
      "source": [
        "!ls"
      ],
      "metadata": {
        "colab": {
          "base_uri": "https://localhost:8080/"
        },
        "id": "06WMNf99Q3yJ",
        "outputId": "c2caa9bf-d371-4796-b7a2-562f3bd34452"
      },
      "execution_count": 6,
      "outputs": [
        {
          "output_type": "stream",
          "name": "stdout",
          "text": [
            "sample_data\n"
          ]
        }
      ]
    },
    {
      "cell_type": "code",
      "source": [
        "!lsb_release -a"
      ],
      "metadata": {
        "colab": {
          "base_uri": "https://localhost:8080/"
        },
        "id": "PD8CwxraRAAm",
        "outputId": "9c067b3d-4c85-4e2d-9aab-3b973034a619"
      },
      "execution_count": 7,
      "outputs": [
        {
          "output_type": "stream",
          "name": "stdout",
          "text": [
            "No LSB modules are available.\n",
            "Distributor ID:\tUbuntu\n",
            "Description:\tUbuntu 22.04.3 LTS\n",
            "Release:\t22.04\n",
            "Codename:\tjammy\n"
          ]
        }
      ]
    },
    {
      "cell_type": "code",
      "source": [
        "pessoas['200']['telefone']"
      ],
      "metadata": {
        "colab": {
          "base_uri": "https://localhost:8080/",
          "height": 0
        },
        "id": "EaNMcm_mOnhX",
        "outputId": "772d8864-91aa-40cf-ec99-ac446ab9e90b"
      },
      "execution_count": 23,
      "outputs": [
        {
          "output_type": "execute_result",
          "data": {
            "text/plain": [
              "'8697777666'"
            ],
            "application/vnd.google.colaboratory.intrinsic+json": {
              "type": "string"
            }
          },
          "metadata": {},
          "execution_count": 23
        }
      ]
    },
    {
      "cell_type": "code",
      "source": [
        "pessoas['300'] = {'nome':'Carla', 'telefone':'8697777665'}"
      ],
      "metadata": {
        "id": "t-lh3YqgPcNx"
      },
      "execution_count": 25,
      "outputs": []
    },
    {
      "cell_type": "code",
      "source": [
        "pessoas"
      ],
      "metadata": {
        "colab": {
          "base_uri": "https://localhost:8080/"
        },
        "id": "AHuC9eybPjRr",
        "outputId": "90901f51-a866-4de7-bdf9-f600eb1d0c75"
      },
      "execution_count": 26,
      "outputs": [
        {
          "output_type": "execute_result",
          "data": {
            "text/plain": [
              "{'100': {'nome': 'Maria', 'telefone': '86-999998888'},\n",
              " '200': {'nome': 'Carla', 'telefone': '8697777666'},\n",
              " '300': {'nome': 'Carla', 'telefone': '8697777665'}}"
            ]
          },
          "metadata": {},
          "execution_count": 26
        }
      ]
    },
    {
      "cell_type": "code",
      "source": [
        "pessoas['300']['nome']"
      ],
      "metadata": {
        "colab": {
          "base_uri": "https://localhost:8080/",
          "height": 0
        },
        "id": "ngMW8LG7PqtK",
        "outputId": "28e7ac43-71de-4952-e9a8-dba0631b6905"
      },
      "execution_count": 27,
      "outputs": [
        {
          "output_type": "execute_result",
          "data": {
            "text/plain": [
              "'Carla'"
            ],
            "application/vnd.google.colaboratory.intrinsic+json": {
              "type": "string"
            }
          },
          "metadata": {},
          "execution_count": 27
        }
      ]
    },
    {
      "cell_type": "code",
      "source": [
        "for item in pessoas.items():\n",
        "  print(item)"
      ],
      "metadata": {
        "colab": {
          "base_uri": "https://localhost:8080/"
        },
        "id": "tM3R1NWESHSN",
        "outputId": "1441b5c9-10c3-44ff-832f-20f50599d885"
      },
      "execution_count": 8,
      "outputs": [
        {
          "output_type": "stream",
          "name": "stdout",
          "text": [
            "('100', {'nome': 'Maria', 'telefone': '86-999998888'})\n",
            "('200', {'nome': 'Carla', 'telefone': '8697777666'})\n"
          ]
        }
      ]
    },
    {
      "cell_type": "code",
      "source": [
        "with open('pessoas.txt', 'w') as arquivo:\n",
        "  for item in pessoas.items():\n",
        "    arquivo.write(str(item))"
      ],
      "metadata": {
        "id": "X0ENNsG2Nakq"
      },
      "execution_count": 9,
      "outputs": []
    },
    {
      "cell_type": "markdown",
      "source": [
        "# Exercício para salvar pessoas em arquivo"
      ],
      "metadata": {
        "id": "NN_G902cSwi2"
      }
    },
    {
      "cell_type": "code",
      "source": [
        "pessoas = {}"
      ],
      "metadata": {
        "id": "kr1GrdmkSydN"
      },
      "execution_count": 10,
      "outputs": []
    },
    {
      "cell_type": "code",
      "source": [
        "def ler_dados():\n",
        "  cpf = input('Digite o CPF: ')\n",
        "  nome = input('Digite o nome: ')\n",
        "  telefone = input('Digite o telefone: ')\n",
        "  return cpf, nome, telefone"
      ],
      "metadata": {
        "id": "UMPu-0IwTTuq"
      },
      "execution_count": 12,
      "outputs": []
    },
    {
      "cell_type": "code",
      "source": [
        "meu_cpf, meu_nome, meu_telefone = ler_dados()"
      ],
      "metadata": {
        "colab": {
          "base_uri": "https://localhost:8080/"
        },
        "id": "byM0aVq_Thro",
        "outputId": "220d8b02-79ba-4db9-fb8f-1289694a3f71"
      },
      "execution_count": 13,
      "outputs": [
        {
          "name": "stdout",
          "output_type": "stream",
          "text": [
            "Digite o CPF: 1\n",
            "Digite o nome: Maria\n",
            "Digite o telefone: 869888777666\n"
          ]
        }
      ]
    },
    {
      "cell_type": "code",
      "source": [
        "print(f\"CPF: {meu_cpf}, NOME: {meu_nome}, TELEFONE: {meu_telefone}\")"
      ],
      "metadata": {
        "colab": {
          "base_uri": "https://localhost:8080/"
        },
        "id": "9ThyqHbZUZgf",
        "outputId": "98cc932d-0cc9-4898-8bb3-e0d54ff366b4"
      },
      "execution_count": 15,
      "outputs": [
        {
          "output_type": "stream",
          "name": "stdout",
          "text": [
            "CPF: 1, NOME: Maria, TELEFONE: 869888777666\n"
          ]
        }
      ]
    },
    {
      "cell_type": "code",
      "source": [
        "def ler_dados():\n",
        "  cpf = input('Digite o CPF: ')\n",
        "  nome = input('Digite o nome: ')\n",
        "  telefone = input('Digite o telefone: ')\n",
        "  return cpf, nome, telefone\n",
        "\n",
        "def cadastrar_pessoa():\n",
        "  cpf, nome, telefone = ler_dados()\n",
        "  pessoas[cpf] = {'nome':nome, 'telefone':telefone}"
      ],
      "metadata": {
        "id": "o4f0alJiUfGB"
      },
      "execution_count": 16,
      "outputs": []
    },
    {
      "cell_type": "code",
      "source": [
        "pessoas"
      ],
      "metadata": {
        "colab": {
          "base_uri": "https://localhost:8080/"
        },
        "id": "n6WqHuOpVc20",
        "outputId": "5ef636ba-2c2a-4e48-9e99-5f37b46a8e83"
      },
      "execution_count": 17,
      "outputs": [
        {
          "output_type": "execute_result",
          "data": {
            "text/plain": [
              "{}"
            ]
          },
          "metadata": {},
          "execution_count": 17
        }
      ]
    },
    {
      "cell_type": "code",
      "source": [
        "cadastrar_pessoa()"
      ],
      "metadata": {
        "colab": {
          "base_uri": "https://localhost:8080/"
        },
        "id": "EM2NLvHNVdSB",
        "outputId": "996f4adb-4501-4703-ae28-7842911cbd6e"
      },
      "execution_count": 18,
      "outputs": [
        {
          "name": "stdout",
          "output_type": "stream",
          "text": [
            "Digite o CPF: 1\n",
            "Digite o nome: Carla\n",
            "Digite o telefone: (86)999998888\n"
          ]
        }
      ]
    },
    {
      "cell_type": "code",
      "source": [
        "pessoas"
      ],
      "metadata": {
        "colab": {
          "base_uri": "https://localhost:8080/"
        },
        "id": "-lT9MMpTVfwY",
        "outputId": "db95f172-a9c5-4118-e672-2749d798d3c1"
      },
      "execution_count": 19,
      "outputs": [
        {
          "output_type": "execute_result",
          "data": {
            "text/plain": [
              "{'1': {'nome': 'Carla', 'telefone': '(86)999998888'}}"
            ]
          },
          "metadata": {},
          "execution_count": 19
        }
      ]
    },
    {
      "cell_type": "code",
      "source": [
        "cadastrar_pessoa()"
      ],
      "metadata": {
        "colab": {
          "base_uri": "https://localhost:8080/"
        },
        "id": "g-9_-xcoVs4G",
        "outputId": "e97cd269-cb93-4e17-9b73-231b1b00cac6"
      },
      "execution_count": 20,
      "outputs": [
        {
          "name": "stdout",
          "output_type": "stream",
          "text": [
            "Digite o CPF: 2\n",
            "Digite o nome: Francisco\n",
            "Digite o telefone: (85)988887777\n"
          ]
        }
      ]
    },
    {
      "cell_type": "code",
      "source": [
        "pessoas"
      ],
      "metadata": {
        "colab": {
          "base_uri": "https://localhost:8080/"
        },
        "id": "Eml24NcxVxg0",
        "outputId": "5783b2b7-4c33-45c5-af25-b69215c4a768"
      },
      "execution_count": 21,
      "outputs": [
        {
          "output_type": "execute_result",
          "data": {
            "text/plain": [
              "{'1': {'nome': 'Carla', 'telefone': '(86)999998888'},\n",
              " '2': {'nome': 'Francisco', 'telefone': '(85)988887777'}}"
            ]
          },
          "metadata": {},
          "execution_count": 21
        }
      ]
    },
    {
      "cell_type": "code",
      "source": [
        "for item in pessoas.items():\n",
        "  print(item)"
      ],
      "metadata": {
        "colab": {
          "base_uri": "https://localhost:8080/"
        },
        "id": "lKudPrpuV6M-",
        "outputId": "360d54a5-e7c4-407e-dd5a-cd0a9e7b804c"
      },
      "execution_count": 22,
      "outputs": [
        {
          "output_type": "stream",
          "name": "stdout",
          "text": [
            "('1', {'nome': 'Carla', 'telefone': '(86)999998888'})\n",
            "('2', {'nome': 'Francisco', 'telefone': '(85)988887777'})\n"
          ]
        }
      ]
    },
    {
      "cell_type": "code",
      "source": [
        "for chave, valor in pessoas.items():\n",
        "  print(chave, valor)"
      ],
      "metadata": {
        "colab": {
          "base_uri": "https://localhost:8080/"
        },
        "id": "Wn62bGhrV-1J",
        "outputId": "f72a4def-b615-42fe-b2c3-70f90a57efa4"
      },
      "execution_count": 23,
      "outputs": [
        {
          "output_type": "stream",
          "name": "stdout",
          "text": [
            "1 {'nome': 'Carla', 'telefone': '(86)999998888'}\n",
            "2 {'nome': 'Francisco', 'telefone': '(85)988887777'}\n"
          ]
        }
      ]
    },
    {
      "cell_type": "code",
      "source": [
        "for chave, valor in pessoas.items():\n",
        "  print(chave, valor['nome'], valor['telefone'])"
      ],
      "metadata": {
        "colab": {
          "base_uri": "https://localhost:8080/"
        },
        "id": "c5E1TxcGWDXA",
        "outputId": "e63766e0-b97e-4f79-fa7d-a03e9659dbd7"
      },
      "execution_count": 24,
      "outputs": [
        {
          "output_type": "stream",
          "name": "stdout",
          "text": [
            "1 Carla (86)999998888\n",
            "2 Francisco (85)988887777\n"
          ]
        }
      ]
    },
    {
      "cell_type": "code",
      "source": [
        "for chave, valor in pessoas.items():\n",
        "  print(f\"CPF: {chave}, NOME: {valor['nome']}, TELEFONE: {valor['telefone']}\")"
      ],
      "metadata": {
        "colab": {
          "base_uri": "https://localhost:8080/"
        },
        "id": "9iYkxc73WKAJ",
        "outputId": "3646bf52-e424-43a4-d162-63209c36293a"
      },
      "execution_count": 25,
      "outputs": [
        {
          "output_type": "stream",
          "name": "stdout",
          "text": [
            "CPF: 1, NOME: Carla, TELEFONE: (86)999998888\n",
            "CPF: 2, NOME: Francisco, TELEFONE: (85)988887777\n"
          ]
        }
      ]
    },
    {
      "cell_type": "code",
      "source": [
        "def ler_dados():\n",
        "  cpf = input('Digite o CPF: ')\n",
        "  nome = input('Digite o nome: ')\n",
        "  telefone = input('Digite o telefone: ')\n",
        "  return cpf, nome, telefone\n",
        "\n",
        "def cadastrar_pessoa():\n",
        "  cpf, nome, telefone = ler_dados()\n",
        "  pessoas[cpf] = {'nome':nome, 'telefone':telefone}\n",
        "\n",
        "def listar_pessoas():\n",
        "  for chave, valor in pessoas.items():\n",
        "    print(f\"CPF: {chave}, NOME: {valor['nome']}, TELEFONE: {valor['telefone']}\")"
      ],
      "metadata": {
        "id": "V9dYQws2WS1t"
      },
      "execution_count": 26,
      "outputs": []
    },
    {
      "cell_type": "code",
      "source": [
        "listar_pessoas()"
      ],
      "metadata": {
        "colab": {
          "base_uri": "https://localhost:8080/"
        },
        "id": "4bZkuXBxW_hd",
        "outputId": "fa40aeb6-be92-4333-bf3d-1984f85ba910"
      },
      "execution_count": 28,
      "outputs": [
        {
          "output_type": "stream",
          "name": "stdout",
          "text": [
            "CPF: 1, NOME: Carla, TELEFONE: (86)999998888\n",
            "CPF: 2, NOME: Francisco, TELEFONE: (85)988887777\n"
          ]
        }
      ]
    },
    {
      "cell_type": "code",
      "source": [
        "cadastrar_pessoa()"
      ],
      "metadata": {
        "colab": {
          "base_uri": "https://localhost:8080/"
        },
        "id": "xPVD1kITXA8V",
        "outputId": "6dd6755c-cd38-4be4-d2ce-0c9b85f1ba59"
      },
      "execution_count": 30,
      "outputs": [
        {
          "name": "stdout",
          "output_type": "stream",
          "text": [
            "Digite o CPF: 3\n",
            "Digite o nome: Maria Joaquina\n",
            "Digite o telefone: (81)988887777\n"
          ]
        }
      ]
    },
    {
      "cell_type": "code",
      "source": [
        "listar_pessoas()"
      ],
      "metadata": {
        "colab": {
          "base_uri": "https://localhost:8080/"
        },
        "id": "zYBDUPCDXGFN",
        "outputId": "cd9d0190-56b8-4dc7-af23-079d8f768955"
      },
      "execution_count": 31,
      "outputs": [
        {
          "output_type": "stream",
          "name": "stdout",
          "text": [
            "CPF: 1, NOME: Carla, TELEFONE: (86)999998888\n",
            "CPF: 2, NOME: Francisco, TELEFONE: (85)988887777\n",
            "CPF: 3, NOME: Maria Joaquina, TELEFONE: (81)988887777\n"
          ]
        }
      ]
    },
    {
      "cell_type": "code",
      "source": [
        "for chave, valor in pessoas.items():\n",
        "  linha = f\"{chave},{valor['nome']},{valor['telefone']}\"\n",
        "  print(linha)"
      ],
      "metadata": {
        "colab": {
          "base_uri": "https://localhost:8080/"
        },
        "id": "az59kCOBXNpU",
        "outputId": "878791c5-ed0f-42cd-8de6-503bd7b629f2"
      },
      "execution_count": 32,
      "outputs": [
        {
          "output_type": "stream",
          "name": "stdout",
          "text": [
            "1,Carla,(86)999998888\n",
            "2,Francisco,(85)988887777\n",
            "3,Maria Joaquina,(81)988887777\n"
          ]
        }
      ]
    },
    {
      "cell_type": "code",
      "source": [
        "def ler_dados():\n",
        "  cpf = input('Digite o CPF: ')\n",
        "  nome = input('Digite o nome: ')\n",
        "  telefone = input('Digite o telefone: ')\n",
        "  return cpf, nome, telefone\n",
        "\n",
        "def cadastrar_pessoa():\n",
        "  cpf, nome, telefone = ler_dados()\n",
        "  pessoas[cpf] = {'nome':nome, 'telefone':telefone}\n",
        "\n",
        "def listar_pessoas():\n",
        "  for chave, valor in pessoas.items():\n",
        "    print(f\"CPF: {chave}, NOME: {valor['nome']}, TELEFONE: {valor['telefone']}\")\n",
        "\n",
        "def salvar_dados(pessoas):\n",
        "  with open('pessoas.txt', mode='w') as arquivo:\n",
        "    for chave, valor in pessoas.items():\n",
        "      linha = f\"{chave},{valor['nome']},{valor['telefone']}\\n\"\n",
        "      arquivo.write(linha)"
      ],
      "metadata": {
        "id": "yfeAxW1nXrdj"
      },
      "execution_count": 35,
      "outputs": []
    },
    {
      "cell_type": "code",
      "source": [
        "pessoas"
      ],
      "metadata": {
        "colab": {
          "base_uri": "https://localhost:8080/"
        },
        "id": "CpailN2PYuTg",
        "outputId": "1e88e11d-478f-4dc5-cab2-0b7987d26ee5"
      },
      "execution_count": 36,
      "outputs": [
        {
          "output_type": "execute_result",
          "data": {
            "text/plain": [
              "{'1': {'nome': 'Carla', 'telefone': '(86)999998888'},\n",
              " '2': {'nome': 'Francisco', 'telefone': '(85)988887777'},\n",
              " '3': {'nome': 'Maria Joaquina', 'telefone': '(81)988887777'}}"
            ]
          },
          "metadata": {},
          "execution_count": 36
        }
      ]
    },
    {
      "cell_type": "code",
      "source": [
        "cadastrar_pessoa()"
      ],
      "metadata": {
        "colab": {
          "base_uri": "https://localhost:8080/"
        },
        "id": "dta1wWQpYvsy",
        "outputId": "e21e24d7-b3a5-4bff-a964-a003261fb58e"
      },
      "execution_count": 37,
      "outputs": [
        {
          "name": "stdout",
          "output_type": "stream",
          "text": [
            "Digite o CPF: 4\n",
            "Digite o nome: Daniele\n",
            "Digite o telefone: (86)97788776\n"
          ]
        }
      ]
    },
    {
      "cell_type": "code",
      "source": [
        "pessoas"
      ],
      "metadata": {
        "colab": {
          "base_uri": "https://localhost:8080/"
        },
        "id": "hY7iCiYgZCEO",
        "outputId": "76c04a4a-bf02-407a-b01b-0bd6b645a1f8"
      },
      "execution_count": 38,
      "outputs": [
        {
          "output_type": "execute_result",
          "data": {
            "text/plain": [
              "{'1': {'nome': 'Carla', 'telefone': '(86)999998888'},\n",
              " '2': {'nome': 'Francisco', 'telefone': '(85)988887777'},\n",
              " '3': {'nome': 'Maria Joaquina', 'telefone': '(81)988887777'},\n",
              " '4': {'nome': 'Daniele', 'telefone': '(86)97788776'}}"
            ]
          },
          "metadata": {},
          "execution_count": 38
        }
      ]
    },
    {
      "cell_type": "code",
      "source": [
        "salvar_dados(pessoas)"
      ],
      "metadata": {
        "id": "XVSJb1xFZG29"
      },
      "execution_count": 39,
      "outputs": []
    },
    {
      "cell_type": "code",
      "source": [
        "!cat pessoas.txt"
      ],
      "metadata": {
        "colab": {
          "base_uri": "https://localhost:8080/"
        },
        "id": "vRo9DazpZJuH",
        "outputId": "3ee2bcfe-cd53-44aa-dd37-f3d8ff7dbf77"
      },
      "execution_count": 40,
      "outputs": [
        {
          "output_type": "stream",
          "name": "stdout",
          "text": [
            "1,Carla,(86)999998888\n",
            "2,Francisco,(85)988887777\n",
            "3,Maria Joaquina,(81)988887777\n",
            "4,Daniele,(86)97788776\n"
          ]
        }
      ]
    },
    {
      "cell_type": "code",
      "source": [
        "pessoas = {}"
      ],
      "metadata": {
        "id": "gtx3U6LVZLiq"
      },
      "execution_count": 41,
      "outputs": []
    },
    {
      "cell_type": "code",
      "source": [
        "pessoas"
      ],
      "metadata": {
        "colab": {
          "base_uri": "https://localhost:8080/"
        },
        "id": "rXcPWF2wZWcr",
        "outputId": "d39c97cd-c6ac-48d2-901b-ec565681f0aa"
      },
      "execution_count": 42,
      "outputs": [
        {
          "output_type": "execute_result",
          "data": {
            "text/plain": [
              "{}"
            ]
          },
          "metadata": {},
          "execution_count": 42
        }
      ]
    },
    {
      "cell_type": "code",
      "source": [
        "!cat pessoas.txt"
      ],
      "metadata": {
        "colab": {
          "base_uri": "https://localhost:8080/"
        },
        "id": "1MQdulMZZXUw",
        "outputId": "86f1b149-6b6f-47e2-b6c7-8274c838414e"
      },
      "execution_count": 43,
      "outputs": [
        {
          "output_type": "stream",
          "name": "stdout",
          "text": [
            "1,Carla,(86)999998888\n",
            "2,Francisco,(85)988887777\n",
            "3,Maria Joaquina,(81)988887777\n",
            "4,Daniele,(86)97788776\n"
          ]
        }
      ]
    },
    {
      "cell_type": "code",
      "source": [
        "with open('pessoas.txt', mode='r') as arquivo:\n",
        "  for linha in arquivo:\n",
        "    print(linha, end='')"
      ],
      "metadata": {
        "colab": {
          "base_uri": "https://localhost:8080/"
        },
        "id": "2b6FxZAPZbYA",
        "outputId": "6ffe487b-f40e-4530-981e-e0fd052501d5"
      },
      "execution_count": 46,
      "outputs": [
        {
          "output_type": "stream",
          "name": "stdout",
          "text": [
            "1,Carla,(86)999998888\n",
            "2,Francisco,(85)988887777\n",
            "3,Maria Joaquina,(81)988887777\n",
            "4,Daniele,(86)97788776\n"
          ]
        }
      ]
    },
    {
      "cell_type": "code",
      "source": [
        "minha_string = \"1,Carla,(86)999998888\"\n",
        "print(minha_string)"
      ],
      "metadata": {
        "colab": {
          "base_uri": "https://localhost:8080/"
        },
        "id": "8a-vjBjBbMX9",
        "outputId": "3943e911-d066-489a-c5d2-4101c6b9d158"
      },
      "execution_count": 48,
      "outputs": [
        {
          "output_type": "stream",
          "name": "stdout",
          "text": [
            "1,Carla,(86)999998888\n"
          ]
        }
      ]
    },
    {
      "cell_type": "code",
      "source": [
        "minha_string.split(',')"
      ],
      "metadata": {
        "colab": {
          "base_uri": "https://localhost:8080/"
        },
        "id": "W1EAzZmNbVmL",
        "outputId": "fbb24ea3-ca3e-49eb-9167-a41e12f9c5a5"
      },
      "execution_count": 49,
      "outputs": [
        {
          "output_type": "execute_result",
          "data": {
            "text/plain": [
              "['1', 'Carla', '(86)999998888']"
            ]
          },
          "metadata": {},
          "execution_count": 49
        }
      ]
    },
    {
      "cell_type": "code",
      "source": [
        "with open('pessoas.txt', mode='r') as arquivo:\n",
        "  for linha in arquivo:\n",
        "    cpf, nome, telefone = linha.split(',')\n",
        "    print(cpf, nome, telefone)"
      ],
      "metadata": {
        "colab": {
          "base_uri": "https://localhost:8080/"
        },
        "id": "yUVJyl-qZuT9",
        "outputId": "75971059-8b5b-42d0-8a68-5ddae5adcb77"
      },
      "execution_count": 47,
      "outputs": [
        {
          "output_type": "stream",
          "name": "stdout",
          "text": [
            "1 Carla (86)999998888\n",
            "\n",
            "2 Francisco (85)988887777\n",
            "\n",
            "3 Maria Joaquina (81)988887777\n",
            "\n",
            "4 Daniele (86)97788776\n",
            "\n"
          ]
        }
      ]
    },
    {
      "cell_type": "code",
      "source": [
        "with open('pessoas.txt', mode='r') as arquivo:\n",
        "  for linha in arquivo:\n",
        "    cpf, nome, telefone = linha.split(',')\n",
        "    pessoas[cpf]={'nome':nome, 'telefone':telefone}"
      ],
      "metadata": {
        "id": "zo8ebYmlbHty"
      },
      "execution_count": 59,
      "outputs": []
    },
    {
      "cell_type": "code",
      "source": [
        "pessoas"
      ],
      "metadata": {
        "colab": {
          "base_uri": "https://localhost:8080/"
        },
        "id": "Ya9VoJcHb40K",
        "outputId": "0e5e0243-6275-40b0-c7e6-57785f5a600e"
      },
      "execution_count": 51,
      "outputs": [
        {
          "output_type": "execute_result",
          "data": {
            "text/plain": [
              "{'1': {'nome': 'Carla', 'telefone': '(86)999998888\\n'},\n",
              " '2': {'nome': 'Francisco', 'telefone': '(85)988887777\\n'},\n",
              " '3': {'nome': 'Maria Joaquina', 'telefone': '(81)988887777\\n'},\n",
              " '4': {'nome': 'Daniele', 'telefone': '(86)97788776\\n'}}"
            ]
          },
          "metadata": {},
          "execution_count": 51
        }
      ]
    },
    {
      "cell_type": "code",
      "source": [
        "for item in pessoas.items():\n",
        "  print(item)"
      ],
      "metadata": {
        "colab": {
          "base_uri": "https://localhost:8080/"
        },
        "id": "Z5kx2wZzb5x2",
        "outputId": "4082ed5e-d6cf-48b6-ffe4-e8e0e4ffe5d2"
      },
      "execution_count": 52,
      "outputs": [
        {
          "output_type": "stream",
          "name": "stdout",
          "text": [
            "('1', {'nome': 'Carla', 'telefone': '(86)999998888\\n'})\n",
            "('2', {'nome': 'Francisco', 'telefone': '(85)988887777\\n'})\n",
            "('3', {'nome': 'Maria Joaquina', 'telefone': '(81)988887777\\n'})\n",
            "('4', {'nome': 'Daniele', 'telefone': '(86)97788776\\n'})\n"
          ]
        }
      ]
    },
    {
      "cell_type": "code",
      "source": [
        "pessoas"
      ],
      "metadata": {
        "colab": {
          "base_uri": "https://localhost:8080/"
        },
        "id": "7e1J44WJcHfV",
        "outputId": "86e7795f-d457-4f37-b1c0-13b10ba76e76"
      },
      "execution_count": 53,
      "outputs": [
        {
          "output_type": "execute_result",
          "data": {
            "text/plain": [
              "{'1': {'nome': 'Carla', 'telefone': '(86)999998888\\n'},\n",
              " '2': {'nome': 'Francisco', 'telefone': '(85)988887777\\n'},\n",
              " '3': {'nome': 'Maria Joaquina', 'telefone': '(81)988887777\\n'},\n",
              " '4': {'nome': 'Daniele', 'telefone': '(86)97788776\\n'}}"
            ]
          },
          "metadata": {},
          "execution_count": 53
        }
      ]
    },
    {
      "cell_type": "code",
      "source": [
        "pessoas = {}"
      ],
      "metadata": {
        "id": "WOFs64h7coJW"
      },
      "execution_count": 54,
      "outputs": []
    },
    {
      "cell_type": "code",
      "source": [
        "pessoas"
      ],
      "metadata": {
        "colab": {
          "base_uri": "https://localhost:8080/"
        },
        "id": "UkZWDaPscpmK",
        "outputId": "d0dfea56-d69e-4ff5-a765-9d79b06a85f7"
      },
      "execution_count": 55,
      "outputs": [
        {
          "output_type": "execute_result",
          "data": {
            "text/plain": [
              "{}"
            ]
          },
          "metadata": {},
          "execution_count": 55
        }
      ]
    },
    {
      "cell_type": "code",
      "source": [
        "def ler_dados():\n",
        "  cpf = input('Digite o CPF: ')\n",
        "  nome = input('Digite o nome: ')\n",
        "  telefone = input('Digite o telefone: ')\n",
        "  return cpf, nome, telefone\n",
        "\n",
        "def cadastrar_pessoa():\n",
        "  cpf, nome, telefone = ler_dados()\n",
        "  pessoas[cpf] = {'nome':nome, 'telefone':telefone}\n",
        "\n",
        "def listar_pessoas():\n",
        "  for chave, valor in pessoas.items():\n",
        "    print(f\"CPF: {chave}, NOME: {valor['nome']}, TELEFONE: {valor['telefone']}\")\n",
        "\n",
        "def salvar_dados(pessoas):\n",
        "  with open('pessoas.txt', mode='w') as arquivo:\n",
        "    for chave, valor in pessoas.items():\n",
        "      linha = f\"{chave},{valor['nome']},{valor['telefone']}\\n\"\n",
        "      arquivo.write(linha)\n",
        "\n",
        "def carregar_dados(pessoas):\n",
        "  with open('pessoas.txt', mode='r') as arquivo:\n",
        "    for linha in arquivo:\n",
        "      cpf, nome, telefone = linha.split(',')\n",
        "      pessoas[cpf]={'nome':nome, 'telefone':telefone}"
      ],
      "metadata": {
        "id": "vBCjMj3Qcqv0"
      },
      "execution_count": 56,
      "outputs": []
    },
    {
      "cell_type": "markdown",
      "source": [
        "# Versão estável do exercício de salvar dados de pessoas"
      ],
      "metadata": {
        "id": "f_gjvM6_c7KL"
      }
    },
    {
      "cell_type": "code",
      "source": [
        "def ler_dados():\n",
        "  cpf = input('Digite o CPF: ')\n",
        "  nome = input('Digite o nome: ')\n",
        "  telefone = input('Digite o telefone: ')\n",
        "  return cpf, nome, telefone\n",
        "\n",
        "def cadastrar_pessoa():\n",
        "  cpf, nome, telefone = ler_dados()\n",
        "  pessoas[cpf] = {'nome':nome, 'telefone':telefone}\n",
        "\n",
        "def listar_pessoas():\n",
        "  for chave, valor in pessoas.items():\n",
        "    print(f\"CPF: {chave}, NOME: {valor['nome']}, TELEFONE: {valor['telefone']}\")\n",
        "\n",
        "def salvar_dados(pessoas):\n",
        "  with open('pessoas.txt', mode='w') as arquivo:\n",
        "    for chave, valor in pessoas.items():\n",
        "      linha = f\"{chave},{valor['nome']},{valor['telefone']}\\n\"\n",
        "      arquivo.write(linha)\n",
        "\n",
        "def carregar_dados(pessoas):\n",
        "  with open('pessoas.txt', mode='r') as arquivo:\n",
        "    for linha in arquivo:\n",
        "      cpf, nome, telefone = linha.split(',')\n",
        "      pessoas[cpf]={'nome':nome, 'telefone':telefone}"
      ],
      "metadata": {
        "id": "bZ8XeK4Xc5rh"
      },
      "execution_count": 57,
      "outputs": []
    },
    {
      "cell_type": "code",
      "source": [],
      "metadata": {
        "id": "D_BzMZWYdXKB"
      },
      "execution_count": null,
      "outputs": []
    }
  ]
}