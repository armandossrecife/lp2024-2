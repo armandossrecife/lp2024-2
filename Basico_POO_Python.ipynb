{
  "nbformat": 4,
  "nbformat_minor": 0,
  "metadata": {
    "colab": {
      "provenance": [],
      "authorship_tag": "ABX9TyMw0fEnn10099RNf6IME5FJ",
      "include_colab_link": true
    },
    "kernelspec": {
      "name": "python3",
      "display_name": "Python 3"
    },
    "language_info": {
      "name": "python"
    }
  },
  "cells": [
    {
      "cell_type": "markdown",
      "metadata": {
        "id": "view-in-github",
        "colab_type": "text"
      },
      "source": [
        "<a href=\"https://colab.research.google.com/github/armandossrecife/lp2024-2/blob/main/Basico_POO_Python.ipynb\" target=\"_parent\"><img src=\"https://colab.research.google.com/assets/colab-badge.svg\" alt=\"Open In Colab\"/></a>"
      ]
    },
    {
      "cell_type": "markdown",
      "source": [
        "# POO básico em Python\n",
        "\n",
        "Paradigma que trabalha baseado em objetos. Os objetos podem conter dados e operações.\n",
        "\n",
        "Um objeto pode conter propriedades (atributos) ou operações (métodos)\n",
        "\n",
        "https://docs.python.org/3/tutorial/classes.html\n",
        "\n",
        "Mais detalhes de uma forma mais didádica em https://www.geeksforgeeks.org/python-oops-concepts/"
      ],
      "metadata": {
        "id": "UrPgOiFF_z2A"
      }
    },
    {
      "cell_type": "markdown",
      "source": [
        "## Conceitos Básicos de POO\n",
        "\n",
        "Programação Orientada a Objetos (POO) é um paradigma de programação que se baseia na organização do código em objetos que interagem entre si.\n",
        "\n",
        "Em POO, objetos são instâncias de classes, que são estruturas que definem propriedades e comportamentos dos objetos.\n",
        "\n",
        "As classes são utilizadas para criar objetos do mesmo tipo, com atributos e métodos em comum.\n",
        "\n",
        "Atributos são características ou propriedades dos objetos, enquanto métodos são as ações que os objetos podem realizar.\n",
        "\n",
        "POO oferece uma abordagem mais modular, reutilizável e escalável para o desenvolvimento de software."
      ],
      "metadata": {
        "id": "LnwVtYFq_32k"
      }
    },
    {
      "cell_type": "markdown",
      "source": [
        "### Classes em Python\n",
        "\n",
        "Declaração de classe\n",
        "\n",
        "Construtor\n",
        "\n",
        "Atributos de instância e atributos de classe\n",
        "\n",
        "Métodos de uma classe"
      ],
      "metadata": {
        "id": "YzJTgTaNFj3g"
      }
    },
    {
      "cell_type": "markdown",
      "source": [
        "Criando uma classe\n",
        "\n",
        "Definindo uma classe com um construtor init inicializando abributos\n",
        "\n",
        "Obs: Neste caso, ao instanciar uma classe é preciso informar os valores dos atributos\n",
        "\n",
        "O parâmetro **self** é uma referência à instância atual da classe e é usado para acessar variáveis que pertencem à classe."
      ],
      "metadata": {
        "id": "d44S2fPB3DKe"
      }
    },
    {
      "cell_type": "code",
      "source": [
        "class Pessoa:\n",
        "  # metodo que define as propriedades de pessoa\n",
        "  def __init__(self, cpf, nome, data_nascimento):\n",
        "        self.cpf = cpf\n",
        "        self.nome = nome\n",
        "        self.data_nascimento = data_nascimento\n",
        "\n",
        "# Instancia pessoa1 a partir da classe Pessoa, passando os dados de Maria\n",
        "pessoa1 = Pessoa('12345678911', 'Maria', '01/01/2000')\n",
        "\n",
        "# Instancia pessoa2 a partir da classe Pessoa, passando os dados de Ana\n",
        "pessoa2 = Pessoa('12345678912', 'Ana', '01/01/2010')"
      ],
      "metadata": {
        "id": "f9HYvt4k3E1K"
      },
      "execution_count": 1,
      "outputs": []
    },
    {
      "cell_type": "markdown",
      "source": [
        "Criando uma classe de forma simplificada\n",
        "\n",
        "Definindo atributos de uma classe\n",
        "\n",
        "Obs: os atributos de uma classe, por padrão, devem ser inicializados."
      ],
      "metadata": {
        "id": "_HeLmgwV31Rr"
      }
    },
    {
      "cell_type": "code",
      "source": [
        "# A classe Pessoa tambem pode ser criada da forma simplificada abaixo:\n",
        "# mas as propriedades precisam ser inicializadas\n",
        "class Pessoa:\n",
        "  cpf=''\n",
        "  nome=''\n",
        "  nascimento=''\n",
        "\n",
        "# Instancia pessoa1 a partir da classe Pessoa, passando os dados de Maria\n",
        "pessoa1 = Pessoa()\n",
        "pessoa1.cpf = '12345678911'\n",
        "pessoa1.nome = 'Maria'\n",
        "pessoa1.data_nascimento = '01/01/2000'"
      ],
      "metadata": {
        "id": "IA4s12Dk33iH"
      },
      "execution_count": null,
      "outputs": []
    },
    {
      "cell_type": "markdown",
      "source": [
        "A forma mais correta e usar o metodo **__init__()** e criar metodos para acessar as propriedades"
      ],
      "metadata": {
        "id": "61hQH_j63qQe"
      }
    },
    {
      "cell_type": "code",
      "source": [
        "class Pessoa:\n",
        "    def __init__(self, cpf, nome, data_nascimento):\n",
        "        self.cpf = cpf\n",
        "        self.nome = nome\n",
        "        self.data_nascimento = data_nascimento\n",
        "\n",
        "    def calcular_idade(self):\n",
        "        # Lógica para calcular a idade com base na data de nascimento\n",
        "        # Retorna a idade da pessoa\n",
        "        pass\n",
        "\n",
        "    def validar_cpf(self):\n",
        "        # Lógica para validar o CPF\n",
        "        # Retorna True se o CPF é válido, False caso contrário\n",
        "        pass"
      ],
      "metadata": {
        "id": "hcLxEEye_29r"
      },
      "execution_count": 2,
      "outputs": []
    },
    {
      "cell_type": "markdown",
      "source": [
        "Criando a classe Aluno"
      ],
      "metadata": {
        "id": "bbc6fxsA4bB7"
      }
    },
    {
      "cell_type": "code",
      "source": [
        "class Aluno:\n",
        "  def __init__(self, matricula, nome, notas):\n",
        "    self.matricula = matricula\n",
        "    self.nome = nome\n",
        "    self.notas = notas\n",
        "\n",
        "  def calcula_media(self):\n",
        "    soma_notas = sum(self.notas)\n",
        "    qtd_notas = len(self.notas)\n",
        "    media = soma_notas/qtd_notas\n",
        "    return media"
      ],
      "metadata": {
        "id": "0X0C5Taq4cLV"
      },
      "execution_count": 3,
      "outputs": []
    },
    {
      "cell_type": "code",
      "source": [
        "# Cria uma lista para armazenar alunos\n",
        "lista_alunos = []\n",
        "\n",
        "# Instancia o aluno1\n",
        "aluno1 = Aluno('123456', 'Carla', [10,9,8.5])\n",
        "# Instancia o aluno2\n",
        "aluno2 = Aluno('3333456', 'Francisco', [9,7.5,6.5])\n",
        "# Instancia o aluno3\n",
        "aluno3 = Aluno('33356444', 'José', [9,9,9])\n",
        "\n",
        "# insere os 3 alunos na lista de alunos\n",
        "lista_alunos.append(aluno1)\n",
        "lista_alunos.append(aluno2)\n",
        "lista_alunos.append(aluno3)\n",
        "\n",
        "# Mostra os dados de todos os alunos salvos na lista\n",
        "for elemento in lista_alunos:\n",
        "  print(f'Matrícula: {elemento.matricula}, Nome: {elemento.nome}, Notas: {elemento.notas}, Média: {elemento.calcula_media()}')\n"
      ],
      "metadata": {
        "id": "qwIVSxId4hp2",
        "outputId": "d56ec744-af1f-4cd2-9034-7a6d7057d93d",
        "colab": {
          "base_uri": "https://localhost:8080/"
        }
      },
      "execution_count": 4,
      "outputs": [
        {
          "output_type": "stream",
          "name": "stdout",
          "text": [
            "Matrícula: 123456, Nome: Carla, Notas: [10, 9, 8.5], Média: 9.166666666666666\n",
            "Matrícula: 3333456, Nome: Francisco, Notas: [9, 7.5, 6.5], Média: 7.666666666666667\n",
            "Matrícula: 33356444, Nome: José, Notas: [9, 9, 9], Média: 9.0\n"
          ]
        }
      ]
    },
    {
      "cell_type": "markdown",
      "source": [
        "Método especial __str__\n",
        "\n",
        "Obs: Mostra os dados definidos no método ao imprimir(exibir) a referência do objeto\n",
        "\n",
        "O método __str__ no python representa os objetos de classe como uma string - ele pode ser usado para classes."
      ],
      "metadata": {
        "id": "QgeoobLB4qUs"
      }
    },
    {
      "cell_type": "code",
      "source": [
        "class Aluno:\n",
        "  def __init__(self, matricula, nome, notas):\n",
        "    self.matricula = matricula\n",
        "    self.nome = nome\n",
        "    self.notas = notas\n",
        "\n",
        "  def calcula_media(self):\n",
        "    soma_notas = sum(self.notas)\n",
        "    qtd_notas = len(self.notas)\n",
        "    media = soma_notas/qtd_notas\n",
        "    return media\n",
        "\n",
        "  def __str__(self):\n",
        "    return '(' + self.matricula + ',' + self.nome + ')'"
      ],
      "metadata": {
        "id": "I0mEjG634o6R"
      },
      "execution_count": 5,
      "outputs": []
    },
    {
      "cell_type": "code",
      "source": [
        "# Instancia o aluno1\n",
        "aluno1 = Aluno('123456', 'Carla', [10,9,8.5])\n",
        "\n",
        "print(aluno1)"
      ],
      "metadata": {
        "id": "_Z-SUcL34wYA",
        "outputId": "14e0e502-3224-4857-ac56-046e7054dcaf",
        "colab": {
          "base_uri": "https://localhost:8080/"
        }
      },
      "execution_count": 6,
      "outputs": [
        {
          "output_type": "stream",
          "name": "stdout",
          "text": [
            "(123456,Carla)\n"
          ]
        }
      ]
    },
    {
      "cell_type": "markdown",
      "source": [
        "Exemplo completo de uma classe Pessoa"
      ],
      "metadata": {
        "id": "ucfx7RxyDvoS"
      }
    },
    {
      "cell_type": "code",
      "source": [
        "import datetime\n",
        "import re\n",
        "\n",
        "class Pessoa:\n",
        "    def __init__(self, cpf, nome, data_nascimento):\n",
        "        self.cpf = cpf\n",
        "        self.nome = nome\n",
        "        self.data_nascimento = data_nascimento\n",
        "\n",
        "    '''\n",
        "    ^ e $ indicam o início e o fim da string, respectivamente.\n",
        "    (0[1-9]|1[0-9]|2[0-9]|3[0-1]) representa o dia da data de nascimento, permitindo valores de 01 a 31.\n",
        "    (0[1-9]|1[0-2]) representa o mês da data de nascimento, permitindo valores de 01 a 12.\n",
        "    (19|20)\\d{2} representa o ano da data de nascimento, permitindo valores de 1900 a 2099.\n",
        "    '''\n",
        "    def validar_data_nascimento(self):\n",
        "      pattern = r\"^(0[1-9]|1[0-9]|2[0-9]|3[0-1])/(0[1-9]|1[0-2])/(19|20)\\d{2}$\"\n",
        "      if re.match(pattern, self.data_nascimento):\n",
        "          return True\n",
        "      else:\n",
        "          return False\n",
        "\n",
        "    def calcular_idade(self):\n",
        "        hoje = datetime.datetime.now()\n",
        "        ano_corrente = hoje.year\n",
        "        if self.validar_data_nascimento():\n",
        "          data_temp = self.data_nascimento.split(\"/\")\n",
        "          ano_nascimento = int(data_temp[2])\n",
        "          idade = ano_corrente - ano_nascimento\n",
        "          return idade\n",
        "\n",
        "    '''\n",
        "    ^ e $ indicam o início e o fim da string, respectivamente.\n",
        "    \\d{11} representa exatamente 11 dígitos numéricos.\n",
        "    '''\n",
        "    def validar_cpf(self):\n",
        "      pattern = r\"^\\d{11}$\"\n",
        "      if re.match(pattern, self.cpf):\n",
        "        return True\n",
        "      else:\n",
        "        return False"
      ],
      "metadata": {
        "id": "FTxJ8QD4AFXe"
      },
      "execution_count": 8,
      "outputs": []
    },
    {
      "cell_type": "code",
      "source": [
        "pessoa1 = Pessoa(\"12345678900\",\"João\", \"01/01/1990\")\n",
        "print(f\"CPF: {pessoa1.cpf}\")\n",
        "print(f\"Nome: {pessoa1.nome}\")  # Saída: João\n",
        "print(f\"Idade: {pessoa1.calcular_idade()}\")  # Chama o método calcular_idade da classe Pessoa"
      ],
      "metadata": {
        "colab": {
          "base_uri": "https://localhost:8080/"
        },
        "id": "-e5bJMiTD39K",
        "outputId": "e52bda14-6343-4af1-861f-13436ef60cc1"
      },
      "execution_count": 9,
      "outputs": [
        {
          "output_type": "stream",
          "name": "stdout",
          "text": [
            "CPF: 12345678900\n",
            "Nome: João\n",
            "Idade: 34\n"
          ]
        }
      ]
    },
    {
      "cell_type": "markdown",
      "source": [
        "### Herança em Python\n",
        "\n",
        "Conceito de herança\n",
        "\n",
        "Criação de classes filhas (subclasses)\n",
        "\n",
        "Sobrescrita de métodos"
      ],
      "metadata": {
        "id": "tQj9FVDPEM65"
      }
    },
    {
      "cell_type": "code",
      "source": [
        "class Usuario(Pessoa):\n",
        "    def __init__(self, cpf, nome, data_nascimento, email, nome_usuario, senha):\n",
        "        super().__init__(cpf, nome, data_nascimento)\n",
        "        self.email = email\n",
        "        self.nome_usuario = nome_usuario\n",
        "        self.senha = senha"
      ],
      "metadata": {
        "id": "w5C_BYf1EAn_"
      },
      "execution_count": 10,
      "outputs": []
    },
    {
      "cell_type": "code",
      "source": [
        "usuario1 = Usuario(pessoa1.cpf, pessoa1.nome,pessoa1.data_nascimento, 'joao@gmail.com', 'joao', '123456')\n",
        "\n",
        "print(f'Criado o usuario1!')\n",
        "print(f\"Dados do usuario1: {usuario1.nome_usuario}, {usuario1.data_nascimento}, {usuario1.cpf}, {usuario1.email}, {usuario1.nome_usuario}, {usuario1.senha}\")\n",
        "print(f\"Idade do usuario1: {usuario1.calcular_idade()}\")"
      ],
      "metadata": {
        "colab": {
          "base_uri": "https://localhost:8080/"
        },
        "id": "37M1om8hEWdy",
        "outputId": "4403c544-9c31-4d51-ba09-a8acdd1f2e65"
      },
      "execution_count": 11,
      "outputs": [
        {
          "output_type": "stream",
          "name": "stdout",
          "text": [
            "Criado o usuario1!\n",
            "Dados do usuario1: joao, 01/01/1990, 12345678900, joao@gmail.com, joao, 123456\n",
            "Idade do usuario1: 34\n"
          ]
        }
      ]
    },
    {
      "cell_type": "markdown",
      "source": [
        "## Criando um validador de dados"
      ],
      "metadata": {
        "id": "oPOTB8JBxNt4"
      }
    },
    {
      "cell_type": "code",
      "source": [
        "import datetime\n",
        "import re\n",
        "import os\n",
        "\n",
        "class PessoaSimples:\n",
        "    def __init__(self, cpf, nome, data_nascimento):\n",
        "        self.cpf = cpf\n",
        "        self.nome = nome\n",
        "        self.data_nascimento = data_nascimento\n",
        "\n",
        "    def calcular_idade(self):\n",
        "        hoje = datetime.datetime.now()\n",
        "        ano_corrente = hoje.year\n",
        "        if self.data_nascimento:\n",
        "          data_temp = self.data_nascimento.split(\"/\")\n",
        "          ano_nascimento = int(data_temp[2])\n",
        "          idade = ano_corrente - ano_nascimento\n",
        "          return idade"
      ],
      "metadata": {
        "id": "8Ld_AgI7xT0m"
      },
      "execution_count": 12,
      "outputs": []
    },
    {
      "cell_type": "code",
      "source": [
        "# Cria uma instância de Pessoa\n",
        "pessoa1 = PessoaSimples('12345678910', 'Armando Soares Sousa', '19/02/1979')"
      ],
      "metadata": {
        "id": "RUw02NnGxVPA"
      },
      "execution_count": 13,
      "outputs": []
    },
    {
      "cell_type": "code",
      "source": [
        "# Mostra dados da pessoa1\n",
        "print(f\"Nome: {pessoa1.nome}, cpf: {pessoa1.cpf}, data nascimento: {pessoa1.data_nascimento}, idade: {pessoa1.calcular_idade()}\")"
      ],
      "metadata": {
        "id": "fTC2asfUxaRi",
        "outputId": "b63cf8f9-0670-452a-addd-42af3dc24e48",
        "colab": {
          "base_uri": "https://localhost:8080/"
        }
      },
      "execution_count": 14,
      "outputs": [
        {
          "output_type": "stream",
          "name": "stdout",
          "text": [
            "Nome: Armando Soares Sousa, cpf: 12345678910, data nascimento: 19/02/1979, idade: 45\n"
          ]
        }
      ]
    },
    {
      "cell_type": "code",
      "source": [
        "# re (Regular Expression)\n",
        "# https://en.wikipedia.org/wiki/Regular_expression\n",
        "# https://docs.python.org/3/library/re.html\n",
        "# https://www.geeksforgeeks.org/python-regex\n",
        "\n",
        "class ValidadorDados:\n",
        "  def __init__(self):\n",
        "    self.cpf = \"\"\n",
        "    self.data_nascimento = \"\"\n",
        "    self.email = \"\"\n",
        "    self.cep = \"\"\n",
        "    self.telefone = \"\"\n",
        "\n",
        "  '''\n",
        "    ^ e $ indicam o início e o fim da string, respectivamente.\n",
        "    \\d{11} representa exatamente 11 dígitos numéricos [0..9].\n",
        "  '''\n",
        "  def validar_cpf(self):\n",
        "    pattern = r\"^\\d{11}$\"\n",
        "    if re.match(pattern, self.cpf):\n",
        "      return True\n",
        "    else:\n",
        "      return False\n",
        "\n",
        "  '''\n",
        "    ^ e $ indicam o início e o fim da string, respectivamente.\n",
        "    (0[1-9]|1[0-9]|2[0-9]|3[0-1]) representa o dia da data de nascimento, permitindo valores de 01 a 31.\n",
        "    (0[1-9]|1[0-2]) representa o mês da data de nascimento, permitindo valores de 01 a 12.\n",
        "    (19|20)\\d{2} representa o ano da data de nascimento, permitindo valores de 1900 a 2099.\n",
        "  '''\n",
        "  def validar_data_nascimento(self):\n",
        "    pattern = r\"^(0[1-9]|1[0-9]|2[0-9]|3[0-1])/(0[1-9]|1[0-2])/(19|20)\\d{2}$\"\n",
        "    if re.match(pattern, self.data_nascimento):\n",
        "        return True\n",
        "    else:\n",
        "        return False\n",
        "\n",
        "  '''\n",
        "  ^: Corresponde ao início da string.\n",
        "  [a-zA-Z0-9_.+-]+: Corresponde a um ou mais caracteres do conjunto (letras, números, sublinhado, ponto, sinal de adição, hífen).\n",
        "  @: Corresponde ao símbolo \"@\".\n",
        "  [a-zA-Z0-9-]+.: Corresponde a um ou mais caracteres do conjunto (letras, números, hífen) seguido por um ponto literal.\n",
        "  [a-zA-Z0-9-.]+$: Corresponde a um ou mais caracteres do conjunto (letras, números, hífen, ponto) no final da string.\n",
        "  '''\n",
        "  def validar_email(self):\n",
        "    pattern = r\"(^[a-zA-Z0-9_.+-]+@[a-zA-Z0-9-]+\\.[a-zA-Z0-9-.]+$)\"  # Email regex pattern\n",
        "    if re.match(pattern, self.email):\n",
        "      return True\n",
        "    else:\n",
        "      return False\n",
        "\n",
        "  '''\n",
        "  \\d{5}: Exactly five digits before the hyphen.\n",
        "  -: A literal hyphen.\n",
        "  \\d{3}: Exactly three digits after the hyphen.\n",
        "  '''\n",
        "  def validar_cep(self):\n",
        "    pattern = r\"\\d{5}-\\d{3}\"  # CEP regex pattern\n",
        "    if re.match(pattern, self.cep):\n",
        "      return True\n",
        "    else:\n",
        "      return False\n",
        "\n",
        "  '''\n",
        "  ^: Corresponde ao início da string.\n",
        "  \\(\\d{2}\\): Corresponde a parênteses de abertura, dois dígitos para o código de área e parênteses de fechamento\n",
        "  (?:\\s)?: Corresponde a um espaço opcional (grupo de captura não captura).\n",
        "  \\d{5}: Cinco dígitos para a primeira parte do número de telefone.\n",
        "  (?:\\s|-)?: Corresponde a outro espaço opcional (grupo de captura não captura).\n",
        "  \\d{4}: Quatro dígitos para a segunda parte do número de telefone.\n",
        "  $: Corresponde ao final da string.\n",
        "  '''\n",
        "  def validar_telefone(self):\n",
        "    pattern = r\"^\\(\\d{2}\\)(?:\\s)?\\d{5}(?:\\s|-)?\\d{4}$\"\n",
        "    if re.match(pattern, self.telefone):\n",
        "      return True\n",
        "    else:\n",
        "      return False"
      ],
      "metadata": {
        "id": "-KRqWFI-xc9f"
      },
      "execution_count": 15,
      "outputs": []
    },
    {
      "cell_type": "code",
      "source": [
        "validadorDados = ValidadorDados()\n",
        "validadorDados.cpf = '12345678910'\n",
        "validadorDados.data_nascimento = '19/02/1979'\n",
        "validadorDados.email = 'armando@ufpi.edu.br'\n",
        "validadorDados.cep = '64000-000'\n",
        "validadorDados.telefone = '(99)99999-9999'\n",
        "\n",
        "print(validadorDados.validar_cpf())\n",
        "print(validadorDados.validar_data_nascimento())\n",
        "print(validadorDados.validar_email())\n",
        "print(validadorDados.validar_cep())\n",
        "print(validadorDados.validar_telefone())"
      ],
      "metadata": {
        "id": "AFj8itjzxf4_",
        "outputId": "0b816e32-0963-401b-c553-a778625ab50d",
        "colab": {
          "base_uri": "https://localhost:8080/"
        }
      },
      "execution_count": 16,
      "outputs": [
        {
          "output_type": "stream",
          "name": "stdout",
          "text": [
            "True\n",
            "True\n",
            "True\n",
            "True\n",
            "True\n"
          ]
        }
      ]
    },
    {
      "cell_type": "code",
      "source": [
        "class PessoaValida:\n",
        "    def __init__(self, cpf, nome, data_nascimento):\n",
        "        self.cpf = cpf\n",
        "        self.nome = nome\n",
        "        self.data_nascimento = data_nascimento\n",
        "        self.validador = ValidadorDados()\n",
        "        self.valida_dados()\n",
        "\n",
        "    def calcular_idade(self):\n",
        "        hoje = datetime.datetime.now()\n",
        "        ano_corrente = hoje.year\n",
        "        if self.data_nascimento:\n",
        "          data_temp = self.data_nascimento.split(\"/\")\n",
        "          ano_nascimento = int(data_temp[2])\n",
        "          idade = ano_corrente - ano_nascimento\n",
        "          return idade\n",
        "\n",
        "    def valida_dados(self):\n",
        "      self.validador.cpf = self.cpf\n",
        "      self.validador.data_nascimento = self.data_nascimento\n",
        "      if not self.validador.validar_cpf():\n",
        "        raise ValueError('CPF inválido!')\n",
        "      if not self.validador.validar_data_nascimento():\n",
        "        raise ValueError('Data de nascimento inválida')"
      ],
      "metadata": {
        "id": "Lwz1w2Gzxix4"
      },
      "execution_count": 18,
      "outputs": []
    },
    {
      "cell_type": "code",
      "source": [
        "pessoa_valida1 = PessoaValida('12345678912', 'Armando Soares Sousa', '19/02/1979')"
      ],
      "metadata": {
        "id": "lrQCPaPgxlUJ"
      },
      "execution_count": 19,
      "outputs": []
    },
    {
      "cell_type": "code",
      "source": [
        "try:\n",
        "  pessoa_valida1 = PessoaValida('12345678912', 'Armando Soares Sousa', '19/02/197')\n",
        "except Exception as ex:\n",
        "  print(f\"{str(ex)}\")"
      ],
      "metadata": {
        "id": "_TdHzSJjxn-T",
        "outputId": "2f04f261-89fb-4f80-9c07-35e141db5350",
        "colab": {
          "base_uri": "https://localhost:8080/"
        }
      },
      "execution_count": 20,
      "outputs": [
        {
          "output_type": "stream",
          "name": "stdout",
          "text": [
            "Data de nascimento inválida\n"
          ]
        }
      ]
    },
    {
      "cell_type": "code",
      "source": [
        "# Cria uma instância de Pessoa\n",
        "try:\n",
        "  pessoa_valida1 = PessoaValida('12345678912', 'Armando Soares Sousa', '19/02/1979')\n",
        "except Exception as ex:\n",
        "  print(f\"{str(ex)}\")"
      ],
      "metadata": {
        "id": "SCJm7L8sxs80"
      },
      "execution_count": 21,
      "outputs": []
    },
    {
      "cell_type": "markdown",
      "source": [
        "## Aplicando POO em programas estruturados"
      ],
      "metadata": {
        "id": "2y8mZyp8FxS1"
      }
    },
    {
      "cell_type": "code",
      "source": [
        "import datetime\n",
        "import re\n",
        "import os\n",
        "\n",
        "class PessoaValida:\n",
        "    def __init__(self, cpf, nome, data_nascimento):\n",
        "        self.cpf = cpf\n",
        "        self.nome = nome\n",
        "        self.data_nascimento = data_nascimento\n",
        "        self.validador = ValidadorDados()\n",
        "        self.valida_dados()\n",
        "\n",
        "    def calcular_idade(self):\n",
        "        hoje = datetime.datetime.now()\n",
        "        ano_corrente = hoje.year\n",
        "        if self.data_nascimento:\n",
        "          data_temp = self.data_nascimento.split(\"/\")\n",
        "          ano_nascimento = int(data_temp[2])\n",
        "          idade = ano_corrente - ano_nascimento\n",
        "          return idade\n",
        "\n",
        "    def valida_dados(self):\n",
        "      self.validador.cpf = self.cpf\n",
        "      self.validador.data_nascimento = self.data_nascimento\n",
        "      if not self.validador.validar_cpf():\n",
        "        raise ValueError('CPF inválido!')\n",
        "      if not self.validador.validar_data_nascimento():\n",
        "        raise ValueError('Data de nascimento inválida')\n",
        "\n",
        "class ManipulaArquivoTexto:\n",
        "  # contrutor da classe\n",
        "  def __init__(self, nome_arquivo):\n",
        "    self.nome_arquivo = nome_arquivo\n",
        "    self.inicializa_arquivo(self.nome_arquivo)\n",
        "\n",
        "  def arquivo_existe(self,nome_arquivo):\n",
        "    if os.path.exists(nome_arquivo):\n",
        "        return True\n",
        "    else:\n",
        "        return False\n",
        "\n",
        "  def inicializa_arquivo(self, nome_arquivo):\n",
        "    if not self.arquivo_existe(nome_arquivo):\n",
        "        with open(nome_arquivo, mode=\"w\") as file:\n",
        "            print(f'Arquivo {nome_arquivo} criado com sucesso!')\n",
        "    else:\n",
        "        print(f'Arquivo {nome_arquivo} inicializado com sucesso!')\n",
        "\n",
        "  def carrega_contatos(self):\n",
        "    contatos = {}\n",
        "    if self.arquivo_existe(self.nome_arquivo):\n",
        "        with open(self.nome_arquivo, mode='r') as file:\n",
        "            for linha in file:\n",
        "                cpf, nome, data_nascimento = linha.strip().split(';')\n",
        "                contatos[cpf] = (nome, data_nascimento)\n",
        "        return contatos\n",
        "    else:\n",
        "        return dict()\n",
        "\n",
        "  def salvar_contatos(self, contatos):\n",
        "    with open(self.nome_arquivo, mode='w') as file:\n",
        "        for cpf, dados in contatos.items():\n",
        "            nome, data_nascimento = dados\n",
        "            nova_linha = '\\n'\n",
        "            file.write(f\"{cpf};{nome};{data_nascimento}{nova_linha}\")\n",
        "\n",
        "  def insere_contato(self, pessoa):\n",
        "    contatos = self.carrega_contatos()\n",
        "    if pessoa.cpf not in contatos:\n",
        "        registro = pessoa.cpf + ';' + pessoa.nome + ';' + pessoa.data_nascimento\n",
        "        with open(self.nome_arquivo, 'a') as file_temp:\n",
        "            conteudo = registro + \"\\n\"\n",
        "            file_temp.write(conteudo)\n",
        "    else:\n",
        "        # Levanta uma excecao para quem chamou este metodo\n",
        "        raise ValueError(\"CPF já existe!\")\n",
        "\n",
        "  def listar_contatos(self):\n",
        "    lista_conteudo = []\n",
        "    if self.arquivo_existe(self.nome_arquivo):\n",
        "      with open(self.nome_arquivo, mode='r') as file_temp:\n",
        "        for linha in file_temp:\n",
        "          lista_conteudo.append(linha)\n",
        "    else:\n",
        "      raise ValueError(f'O arquivo {self.nome_arquivo} ainda não existe!')\n",
        "    return lista_conteudo\n",
        "\n",
        "  def remover_contato(self, pessoa):\n",
        "    contatos = self.carrega_contatos()\n",
        "    if contatos:\n",
        "        if pessoa.cpf:\n",
        "            if pessoa.cpf in contatos:\n",
        "                del contatos[pessoa.cpf]\n",
        "                self.salvar_contatos(contatos)\n",
        "            else:\n",
        "                raise ValueError(\"CPF não existe!\")\n",
        "    else:\n",
        "        raise ValueError(\"Agenda vazia!\")\n",
        "\n",
        "  def pesquisar_contato_por_cpf(self, cpf):\n",
        "    contatos = self.carrega_contatos()\n",
        "    if contatos:\n",
        "        if cpf in contatos:\n",
        "            return contatos[cpf]\n",
        "        else:\n",
        "            return None\n",
        "    else:\n",
        "        return None\n",
        "\n",
        "class MyAgenda:\n",
        "  def __init__(self, manipuladorArquivosTexto):\n",
        "    self.manipuladorArquivosTexto = manipuladorArquivosTexto\n",
        "\n",
        "  def ler_dados_pessoa(self):\n",
        "    try:\n",
        "      cpf = input(\"Qual o cpf \")\n",
        "      nome = input(\"Qual o nome? \")\n",
        "      data_nascimento = input(\"Qual a data de nascimento? \")\n",
        "      pessoa_temp = PessoaValida(cpf, nome, data_nascimento)\n",
        "      return pessoa_temp\n",
        "    except Exception as ex:\n",
        "      print(f\"{str(ex)}\")\n",
        "      return None\n",
        "\n",
        "  def menu(self):\n",
        "    print(\"1. Insere pessoa\")\n",
        "    print(\"2. Listar conteúdo do arquivo\")\n",
        "    print(\"3. SAIR\")\n",
        "\n",
        "  def executa_agenda(self):\n",
        "    while True:\n",
        "      self.menu()\n",
        "      opcao = input(\"Qual a sua opção? \")\n",
        "      if opcao == '1':\n",
        "        pessoa_temp = self.ler_dados_pessoa()\n",
        "        if pessoa_temp:\n",
        "          try:\n",
        "            self.manipuladorArquivosTexto.insere_contato(pessoa=pessoa_temp)\n",
        "          except Exception as ex:\n",
        "            print(f\"{str(ex)}\")\n",
        "        else:\n",
        "          print('Informe os dados corretos!')\n",
        "      elif opcao == '2':\n",
        "        lista_contatos = self.manipuladorArquivosTexto.listar_contatos()\n",
        "        if lista_contatos:\n",
        "          for each in lista_contatos:\n",
        "            print(each, end='')\n",
        "        else:\n",
        "          print(\"Lista vazia!\")\n",
        "      elif opcao == '3':\n",
        "        break\n",
        "      else:\n",
        "        print(\"Opção inválida!\")"
      ],
      "metadata": {
        "id": "08I2yqO5JTjz"
      },
      "execution_count": 23,
      "outputs": []
    },
    {
      "cell_type": "code",
      "source": [
        "# programa principal (main) - Faz a integracao de todos as classes do programa\n",
        "meu_arquivo_texto = ManipulaArquivoTexto(\"pessoas.txt\")\n",
        "minha_agenda = MyAgenda(meu_arquivo_texto)\n",
        "minha_agenda.executa_agenda()"
      ],
      "metadata": {
        "id": "1_x-j6xMnYgU",
        "colab": {
          "base_uri": "https://localhost:8080/"
        },
        "outputId": "c348e2c5-c052-4dbf-d6f4-929e9d80fde8"
      },
      "execution_count": 25,
      "outputs": [
        {
          "name": "stdout",
          "output_type": "stream",
          "text": [
            "Arquivo pessoas.txt inicializado com sucesso!\n",
            "1. Insere pessoa\n",
            "2. Listar conteúdo do arquivo\n",
            "3. SAIR\n",
            "Qual a sua opção? 2\n",
            "12345678910;Armando;19/02/1979\n",
            "1. Insere pessoa\n",
            "2. Listar conteúdo do arquivo\n",
            "3. SAIR\n",
            "Qual a sua opção? 3\n"
          ]
        }
      ]
    },
    {
      "cell_type": "code",
      "source": [],
      "metadata": {
        "id": "V9FTG_YzHN5D"
      },
      "execution_count": null,
      "outputs": []
    }
  ]
}