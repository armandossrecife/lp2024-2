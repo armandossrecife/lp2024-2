{
  "nbformat": 4,
  "nbformat_minor": 0,
  "metadata": {
    "colab": {
      "provenance": [],
      "authorship_tag": "ABX9TyOLFJa0rlrYhkfdKL0K6G4m",
      "include_colab_link": true
    },
    "kernelspec": {
      "name": "python3",
      "display_name": "Python 3"
    },
    "language_info": {
      "name": "python"
    }
  },
  "cells": [
    {
      "cell_type": "markdown",
      "metadata": {
        "id": "view-in-github",
        "colab_type": "text"
      },
      "source": [
        "<a href=\"https://colab.research.google.com/github/armandossrecife/lp2024-2/blob/main/poo_private.ipynb\" target=\"_parent\"><img src=\"https://colab.research.google.com/assets/colab-badge.svg\" alt=\"Open In Colab\"/></a>"
      ]
    },
    {
      "cell_type": "code",
      "execution_count": 18,
      "metadata": {
        "id": "mYZbWDBiLbEa"
      },
      "outputs": [],
      "source": [
        "class Pessoa:\n",
        "    def __init__(self, nome, idade, cpf):\n",
        "        self.nome = nome\n",
        "        self.idade = idade\n",
        "        self.cpf = cpf\n",
        "        self.__religiao = 'Cristianismo'\n",
        "        self.__password = ''\n",
        "\n",
        "    def mostra_religiao(self, admin):\n",
        "        if admin:\n",
        "            print(self.__religiao)\n",
        "        else:\n",
        "            print('Sem permissão')\n",
        "\n",
        "    def __cria_password(self):\n",
        "        self.__password = '123456'\n",
        "\n",
        "    def mostra_password(self, admin):\n",
        "        if admin:\n",
        "          print(self.__password)\n",
        "        else:\n",
        "          print('Sem permissão')\n",
        "\n",
        "    def configura_password(self, admin):\n",
        "        if admin:\n",
        "          self.__cria_password()\n",
        "          print('Novo password criado com sucesso!')\n",
        "        else:\n",
        "          print('Sem permissão')"
      ]
    },
    {
      "cell_type": "code",
      "source": [
        "p1 = Pessoa('João', 30, '123.456.789-00')\n",
        "p2 = Pessoa('Maria', 25, '987.654.321-00')\n",
        "\n",
        "print(p1.nome, p1.idade, p1.cpf)\n",
        "print(p2.nome, p2.idade, p2.cpf)"
      ],
      "metadata": {
        "colab": {
          "base_uri": "https://localhost:8080/"
        },
        "id": "M0R-FYtdLdsA",
        "outputId": "f7712606-c826-49e1-f9b2-125bcafe5f91"
      },
      "execution_count": 19,
      "outputs": [
        {
          "output_type": "stream",
          "name": "stdout",
          "text": [
            "João 30 123.456.789-00\n",
            "Maria 25 987.654.321-00\n"
          ]
        }
      ]
    },
    {
      "cell_type": "code",
      "source": [
        "p1.mostra_religiao(admin=True)"
      ],
      "metadata": {
        "colab": {
          "base_uri": "https://localhost:8080/"
        },
        "id": "mqK8ybUQLlE3",
        "outputId": "3ebcf98f-41f6-4189-a055-0a4281707732"
      },
      "execution_count": 20,
      "outputs": [
        {
          "output_type": "stream",
          "name": "stdout",
          "text": [
            "Cristianismo\n"
          ]
        }
      ]
    },
    {
      "cell_type": "code",
      "source": [
        "p1.configura_password(admin=False)"
      ],
      "metadata": {
        "colab": {
          "base_uri": "https://localhost:8080/"
        },
        "id": "aPwP-d3eMwMg",
        "outputId": "a3744162-b34d-4d9f-eff5-8d98f16af583"
      },
      "execution_count": 22,
      "outputs": [
        {
          "output_type": "stream",
          "name": "stdout",
          "text": [
            "Sem permissão\n"
          ]
        }
      ]
    },
    {
      "cell_type": "code",
      "source": [
        "p1.configura_password(admin=True)"
      ],
      "metadata": {
        "colab": {
          "base_uri": "https://localhost:8080/"
        },
        "id": "Df1o-jTaMt5l",
        "outputId": "dce1ecf2-d8d2-4727-ac52-54ab7e371181"
      },
      "execution_count": 23,
      "outputs": [
        {
          "output_type": "stream",
          "name": "stdout",
          "text": [
            "Novo password criado com sucesso!\n"
          ]
        }
      ]
    },
    {
      "cell_type": "code",
      "source": [
        "p1.mostra_password(admin=True)"
      ],
      "metadata": {
        "colab": {
          "base_uri": "https://localhost:8080/"
        },
        "id": "C2An5ZBcNTXa",
        "outputId": "fce8eece-a3e0-45e8-de19-fe0a44d4f7e3"
      },
      "execution_count": 24,
      "outputs": [
        {
          "output_type": "stream",
          "name": "stdout",
          "text": [
            "123456\n"
          ]
        }
      ]
    },
    {
      "cell_type": "code",
      "source": [
        "p1.mostra_password(admin=False)"
      ],
      "metadata": {
        "colab": {
          "base_uri": "https://localhost:8080/"
        },
        "id": "wehD3rYINU7Q",
        "outputId": "ba5ea058-979b-4d4d-cb12-3b022995bd41"
      },
      "execution_count": 25,
      "outputs": [
        {
          "output_type": "stream",
          "name": "stdout",
          "text": [
            "Sem permissão\n"
          ]
        }
      ]
    },
    {
      "cell_type": "code",
      "source": [],
      "metadata": {
        "id": "eIbAez-8NXpd"
      },
      "execution_count": null,
      "outputs": []
    }
  ]
}