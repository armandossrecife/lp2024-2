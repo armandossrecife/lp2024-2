{
  "nbformat": 4,
  "nbformat_minor": 0,
  "metadata": {
    "colab": {
      "provenance": [],
      "authorship_tag": "ABX9TyMWXXsyg54rBllUDzObOV+H",
      "include_colab_link": true
    },
    "kernelspec": {
      "name": "python3",
      "display_name": "Python 3"
    },
    "language_info": {
      "name": "python"
    }
  },
  "cells": [
    {
      "cell_type": "markdown",
      "metadata": {
        "id": "view-in-github",
        "colab_type": "text"
      },
      "source": [
        "<a href=\"https://colab.research.google.com/github/armandossrecife/lp2024-2/blob/main/dicionarios.ipynb\" target=\"_parent\"><img src=\"https://colab.research.google.com/assets/colab-badge.svg\" alt=\"Open In Colab\"/></a>"
      ]
    },
    {
      "cell_type": "markdown",
      "source": [
        "# Dicionários"
      ],
      "metadata": {
        "id": "inf-hCJXqTAX"
      }
    },
    {
      "cell_type": "code",
      "source": [
        "pessoas = {'777': 'Armando Soares Sousa',\n",
        "           '888':'Maria Joaquina de Amaral',\n",
        "           '222':'Ana Carla'}"
      ],
      "metadata": {
        "id": "V0Q9bigBqTxK"
      },
      "execution_count": 1,
      "outputs": []
    },
    {
      "cell_type": "code",
      "source": [
        "pessoas['333'] = 'Francisco da Silva'"
      ],
      "metadata": {
        "id": "CimIvLnoJNk5"
      },
      "execution_count": 2,
      "outputs": []
    },
    {
      "cell_type": "code",
      "source": [
        "pessoas"
      ],
      "metadata": {
        "colab": {
          "base_uri": "https://localhost:8080/"
        },
        "id": "LHxW4Fgqlo0p",
        "outputId": "f47967b6-5df4-4894-9e77-ea0dbea8fa3e"
      },
      "execution_count": 4,
      "outputs": [
        {
          "output_type": "execute_result",
          "data": {
            "text/plain": [
              "{'777': 'Armando Soares Sousa',\n",
              " '888': 'Maria Joaquina de Amaral',\n",
              " '222': 'Ana Carla',\n",
              " '333': 'Francisco da Silva'}"
            ]
          },
          "metadata": {},
          "execution_count": 4
        }
      ]
    },
    {
      "cell_type": "code",
      "source": [
        "pessoas.pop(333)"
      ],
      "metadata": {
        "colab": {
          "base_uri": "https://localhost:8080/",
          "height": 141
        },
        "id": "EFXA4bHUJVhh",
        "outputId": "6d8ac363-7e68-4316-cf34-43d88ee263ac"
      },
      "execution_count": 3,
      "outputs": [
        {
          "output_type": "error",
          "ename": "KeyError",
          "evalue": "333",
          "traceback": [
            "\u001b[0;31m---------------------------------------------------------------------------\u001b[0m",
            "\u001b[0;31mKeyError\u001b[0m                                  Traceback (most recent call last)",
            "\u001b[0;32m<ipython-input-3-cd573c71b78f>\u001b[0m in \u001b[0;36m<cell line: 1>\u001b[0;34m()\u001b[0m\n\u001b[0;32m----> 1\u001b[0;31m \u001b[0mpessoas\u001b[0m\u001b[0;34m.\u001b[0m\u001b[0mpop\u001b[0m\u001b[0;34m(\u001b[0m\u001b[0;36m333\u001b[0m\u001b[0;34m)\u001b[0m\u001b[0;34m\u001b[0m\u001b[0;34m\u001b[0m\u001b[0m\n\u001b[0m",
            "\u001b[0;31mKeyError\u001b[0m: 333"
          ]
        }
      ]
    },
    {
      "cell_type": "code",
      "source": [
        "pessoas['777'] = 'Cláudia Amaro'\n"
      ],
      "metadata": {
        "id": "P2usI3HWJxyS"
      },
      "execution_count": null,
      "outputs": []
    },
    {
      "cell_type": "code",
      "source": [
        "try:\n",
        "  pessoas.pop('12345')\n",
        "except Exception:\n",
        "  print('Erro ao remover o elemento')"
      ],
      "metadata": {
        "id": "sCvVScTLKBEg"
      },
      "execution_count": null,
      "outputs": []
    },
    {
      "cell_type": "code",
      "source": [
        "print(pessoas)"
      ],
      "metadata": {
        "id": "iZYqvY7wJJG1"
      },
      "execution_count": null,
      "outputs": []
    },
    {
      "cell_type": "code",
      "source": [
        "meus_alunos = {\n",
        "    11: 'Armando',\n",
        "    27: 'Maria',\n",
        "    33: 'Ana'\n",
        "}"
      ],
      "metadata": {
        "id": "xSYv60UJDx6S"
      },
      "execution_count": null,
      "outputs": []
    },
    {
      "cell_type": "code",
      "source": [
        "meus_alunos[11]"
      ],
      "metadata": {
        "id": "kyOjw8E-EK9x"
      },
      "execution_count": null,
      "outputs": []
    },
    {
      "cell_type": "code",
      "source": [
        "meus_alunos[11] = 'Armando Soares Sousa'\n",
        "print(meus_alunos)"
      ],
      "metadata": {
        "id": "db0r8EduEY-Q"
      },
      "execution_count": null,
      "outputs": []
    },
    {
      "cell_type": "code",
      "source": [
        "meus_alunos[27] = 'Maria Joaquina'"
      ],
      "metadata": {
        "id": "AfhlE6nTEe-q"
      },
      "execution_count": null,
      "outputs": []
    },
    {
      "cell_type": "code",
      "source": [
        "meus_alunos[44] = 'Francisco da Silva'\n"
      ],
      "metadata": {
        "id": "xIA5n0ijEnff"
      },
      "execution_count": null,
      "outputs": []
    },
    {
      "cell_type": "code",
      "source": [
        "print(mues_)"
      ],
      "metadata": {
        "id": "8k7EIG4wI7J_"
      },
      "execution_count": null,
      "outputs": []
    },
    {
      "cell_type": "code",
      "source": [
        "print(meus_alunos)"
      ],
      "metadata": {
        "id": "C2FColhFqgOA"
      },
      "execution_count": null,
      "outputs": []
    },
    {
      "cell_type": "code",
      "source": [
        "pessoas['cpf1']"
      ],
      "metadata": {
        "id": "9G236fmxCt02"
      },
      "execution_count": null,
      "outputs": []
    },
    {
      "cell_type": "code",
      "source": [
        "pessoas['cpf3']"
      ],
      "metadata": {
        "id": "rL7BC5dUC4nq"
      },
      "execution_count": null,
      "outputs": []
    },
    {
      "cell_type": "code",
      "source": [
        "for chave in pessoas.keys():\n",
        "  print(chave)"
      ],
      "metadata": {
        "id": "Rt859L-IDPSf"
      },
      "execution_count": null,
      "outputs": []
    },
    {
      "cell_type": "code",
      "source": [
        "for nomes in pessoas.values():\n",
        "  print(nomes)"
      ],
      "metadata": {
        "id": "j4q7X90ZDXqz"
      },
      "execution_count": null,
      "outputs": []
    },
    {
      "cell_type": "code",
      "source": [
        "for item in pessoas.items():\n",
        "  print(item)"
      ],
      "metadata": {
        "id": "vMd4UXiADhti"
      },
      "execution_count": null,
      "outputs": []
    },
    {
      "cell_type": "code",
      "source": [
        "for item in pessoas.items():\n",
        "  print(item)"
      ],
      "metadata": {
        "id": "ClkosfpUqhnj"
      },
      "execution_count": null,
      "outputs": []
    },
    {
      "cell_type": "code",
      "source": [
        "for chave in pessoas.keys():\n",
        "  print(chave)"
      ],
      "metadata": {
        "id": "7kqyfeuDqk5j"
      },
      "execution_count": null,
      "outputs": []
    },
    {
      "cell_type": "code",
      "source": [
        "for valor in pessoas.values():\n",
        "  print(valor)"
      ],
      "metadata": {
        "id": "mH8ufw-UqrIs"
      },
      "execution_count": null,
      "outputs": []
    },
    {
      "cell_type": "code",
      "source": [
        "for k, v in pessoas.items():\n",
        "  print(k,v)"
      ],
      "metadata": {
        "id": "YN91v4HLqwmI"
      },
      "execution_count": null,
      "outputs": []
    },
    {
      "cell_type": "code",
      "source": [
        "len(pessoas)"
      ],
      "metadata": {
        "id": "4ZF5XP8Uqzr8"
      },
      "execution_count": null,
      "outputs": []
    },
    {
      "cell_type": "code",
      "source": [
        "pessoas['cpf4'] = 'Francisco Santos'"
      ],
      "metadata": {
        "id": "7DGVBtZ-q2Ai"
      },
      "execution_count": null,
      "outputs": []
    },
    {
      "cell_type": "code",
      "source": [
        "print(pessoas)"
      ],
      "metadata": {
        "id": "LAfHfOOQq7hv"
      },
      "execution_count": null,
      "outputs": []
    },
    {
      "cell_type": "code",
      "source": [
        "pessoas.pop('cpf1')"
      ],
      "metadata": {
        "id": "L2UvZvLfq8ad"
      },
      "execution_count": null,
      "outputs": []
    },
    {
      "cell_type": "code",
      "source": [
        "pessoas"
      ],
      "metadata": {
        "id": "MeUBgmAIr2MU"
      },
      "execution_count": null,
      "outputs": []
    },
    {
      "cell_type": "code",
      "source": [
        "'cpf4' in pessoas"
      ],
      "metadata": {
        "id": "VX09ytnZr3Rs"
      },
      "execution_count": null,
      "outputs": []
    },
    {
      "cell_type": "code",
      "source": [
        "alunos = {'mat1': ['Armando', [10, 8, 9]], 'mat2':['Maria', [8,9,9]], 'mat3':['Carla', [8,7,6]]}"
      ],
      "metadata": {
        "id": "6Ue0C3qyr7B7"
      },
      "execution_count": null,
      "outputs": []
    },
    {
      "cell_type": "code",
      "source": [
        "alunos"
      ],
      "metadata": {
        "id": "tEtG-ly6sLqr"
      },
      "execution_count": null,
      "outputs": []
    },
    {
      "cell_type": "code",
      "source": [
        "for matricula in alunos.keys():\n",
        "  print(matricula)"
      ],
      "metadata": {
        "id": "gxxGYF2lsMOi"
      },
      "execution_count": null,
      "outputs": []
    },
    {
      "cell_type": "code",
      "source": [
        "for aluno in alunos.values():\n",
        "  print(aluno)"
      ],
      "metadata": {
        "id": "WRO_A8YmsOeO"
      },
      "execution_count": null,
      "outputs": []
    },
    {
      "cell_type": "code",
      "source": [
        "agenda = {'id1':['Armando', 'Endereço1', ['12345678', '8899887766']],\n",
        "          'id2':['Maria', 'Endereço2', ['88997766']]\n",
        "          }\n",
        "print(agenda)"
      ],
      "metadata": {
        "id": "p2CV4VtLsQxo"
      },
      "execution_count": null,
      "outputs": []
    },
    {
      "cell_type": "code",
      "source": [],
      "metadata": {
        "id": "DOU-XdPTtHNW"
      },
      "execution_count": null,
      "outputs": []
    },
    {
      "cell_type": "code",
      "source": [
        "d1 = {\n",
        "    1: 'a', 2: 'b', 3: 'c'\n",
        "}"
      ],
      "metadata": {
        "id": "K9GzWf_3MW2X"
      },
      "execution_count": null,
      "outputs": []
    },
    {
      "cell_type": "code",
      "source": [
        "d2 = d1.copy()"
      ],
      "metadata": {
        "id": "Y8stBdIxMbdA"
      },
      "execution_count": null,
      "outputs": []
    },
    {
      "cell_type": "code",
      "source": [
        "print(d2)"
      ],
      "metadata": {
        "id": "wSrBwyrcMfeG"
      },
      "execution_count": null,
      "outputs": []
    },
    {
      "cell_type": "code",
      "source": [],
      "metadata": {
        "id": "ySmwlKt4MgoJ"
      },
      "execution_count": null,
      "outputs": []
    }
  ]
}