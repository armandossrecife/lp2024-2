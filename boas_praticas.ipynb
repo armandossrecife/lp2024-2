{
  "nbformat": 4,
  "nbformat_minor": 0,
  "metadata": {
    "colab": {
      "provenance": [],
      "authorship_tag": "ABX9TyN7rDGmIn5uDPkhAqjGsXsV",
      "include_colab_link": true
    },
    "kernelspec": {
      "name": "python3",
      "display_name": "Python 3"
    },
    "language_info": {
      "name": "python"
    }
  },
  "cells": [
    {
      "cell_type": "markdown",
      "metadata": {
        "id": "view-in-github",
        "colab_type": "text"
      },
      "source": [
        "<a href=\"https://colab.research.google.com/github/armandossrecife/lp2024-2/blob/main/boas_praticas.ipynb\" target=\"_parent\"><img src=\"https://colab.research.google.com/assets/colab-badge.svg\" alt=\"Open In Colab\"/></a>"
      ]
    },
    {
      "cell_type": "markdown",
      "source": [
        "# Boas Práticas de Programação"
      ],
      "metadata": {
        "id": "6axozNq4GH81"
      }
    },
    {
      "cell_type": "markdown",
      "source": [
        "## Geral\n",
        "\n",
        "Geral de Boas práticas de programação\n",
        "\n",
        "Aqui estão algumas boas práticas de programação em Python que podem ajudar a escrever código mais legível, eficiente e de fácil manutenção:\n",
        "\n",
        "1. Siga a PEP 8: A PEP 8 é um guia de estilo para a escrita de código Python. Ela define convenções para formatação de código, nomeação de variáveis e funções, uso de espaços em branco, entre outros aspectos. Seguir as diretrizes da PEP 8 ajuda a manter um estilo consistente e facilita a leitura e compreensão do código.\n",
        "\n",
        "2. Escreva código legível: Escolha nomes descritivos para variáveis, funções e classes. Comente o código quando necessário para explicar a lógica ou o propósito de determinadas partes. Quebre linhas longas em múltiplas linhas para melhorar a legibilidade.\n",
        "\n",
        "3. Utilize estruturas de dados adequadas: Python possui uma ampla gama de estruturas de dados integradas, como listas, dicionários, conjuntos, etc. Escolha a estrutura de dados mais apropriada para cada caso, levando em consideração a eficiência e a semântica do código.\n",
        "\n",
        "4. Evite repetição de código: Identifique trechos de código que se repetem e os coloque em funções ou métodos reutilizáveis. Isso torna o código mais conciso, mais fácil de manter e evita a duplicação de esforços.\n",
        "\n",
        "5. Faça uso de bibliotecas e módulos: Aproveite as bibliotecas e módulos disponíveis na comunidade Python. Isso permite que você reutilize soluções já implementadas e evite reinventar a roda. Sempre que possível, procure bibliotecas confiáveis e amplamente utilizadas para tarefas comuns.\n",
        "\n",
        "6. Trate exceções de forma adequada: Utilize blocos try-except para capturar e tratar exceções de maneira apropriada. Isso ajuda a garantir que o código seja robusto e evita que erros inesperados interrompam a execução do programa.\n",
        "\n",
        "7. Escreva testes unitários: Desenvolva testes unitários para verificar o comportamento correto do seu código. Isso ajuda a identificar problemas antecipadamente, facilita a depuração e melhora a confiabilidade do sistema.\n",
        "\n",
        "8. Documente o código: Utilize docstrings para documentar suas funções, métodos e classes. Forneça informações claras sobre o propósito, os parâmetros e os valores de retorno das suas funções. Isso ajuda outros desenvolvedores a entenderem e utilizarem seu código.\n",
        "\n",
        "9. Mantenha o código organizado: Utilize espaços em branco e indentação adequados para tornar a estrutura do código clara e consistente. Organize seus arquivos e diretórios de forma lógica e consistente.\n",
        "\n",
        "10. Atualize-se constantemente: Aprenda e explore as novas funcionalidades e recursos do Python. A linguagem está em constante evolução, e estar atualizado com as novidades pode ajudar a melhorar a qualidade e a eficiência do seu código.\n",
        "\n",
        "Lembrando que essas são apenas algumas boas práticas gerais. Cada projeto pode ter suas próprias necessidades e requisitos específicos. O importante é sempre buscar escrever um código claro, eficiente e de fácil manutenção."
      ],
      "metadata": {
        "id": "qJAWk4XpGKr0"
      }
    },
    {
      "cell_type": "markdown",
      "source": [
        "# Introdução\n",
        "\n",
        "As melhores práticas de programação são importantes para escrever código claro, legível e de fácil manutenção. Nesta apresentação, abordaremos algumas dessas práticas, juntamente com exemplos em Python."
      ],
      "metadata": {
        "id": "D00yGG-ZGU5C"
      }
    },
    {
      "cell_type": "markdown",
      "source": [
        "## Utilize Nomes Significativos\n",
        "\n",
        "- Escolha nomes claros e descritivos para variáveis, funções e estruturas.\n",
        "- Reflita o propósito da estrutura no programa.\n"
      ],
      "metadata": {
        "id": "s1gRBgGDGakY"
      }
    },
    {
      "cell_type": "code",
      "source": [
        "# Exemplo de nome significativo para variável\n",
        "idade = 25\n",
        "\n",
        "# Exemplo de nome significativo para função\n",
        "def calcular_media(notas):\n",
        "    # Código para calcular a média das notas\n",
        "    pass"
      ],
      "metadata": {
        "id": "_To7DcmPGeRb"
      },
      "execution_count": null,
      "outputs": []
    },
    {
      "cell_type": "markdown",
      "source": [
        "## Utilize Comentários\n",
        "\n",
        "- Explique o que o código faz e como funciona.\n",
        "- Facilita a compreensão e manutenção do código por outros programadores.\n"
      ],
      "metadata": {
        "id": "po4f2S1EGn8_"
      }
    },
    {
      "cell_type": "code",
      "source": [
        "# Função para calcular o fatorial de um número\n",
        "def calcular_fatorial(n):\n",
        "    \"\"\"\n",
        "    Esta função calcula o fatorial de um número inteiro positivo.\n",
        "    \"\"\"\n",
        "    # Código para calcular o fatorial\n",
        "    pass\n"
      ],
      "metadata": {
        "id": "s4FngYiIGq-R"
      },
      "execution_count": null,
      "outputs": []
    },
    {
      "cell_type": "markdown",
      "source": [
        "## Organize o Código\n",
        "\n",
        "- Utilize indentação para destacar blocos de código.\n",
        "- Utilize espaços em branco de forma adequada.\n",
        "- Escolha um estilo de codificação consistente.\n"
      ],
      "metadata": {
        "id": "2sSW05RPGuDD"
      }
    },
    {
      "cell_type": "code",
      "source": [
        "condicao=True\n",
        "# Exemplo de organização de código\n",
        "if condicao:\n",
        "    # Bloco de código 1\n",
        "    pass\n",
        "else:\n",
        "    # Bloco de código 2\n",
        "    pass"
      ],
      "metadata": {
        "id": "pfDMqP9oGs-C"
      },
      "execution_count": null,
      "outputs": []
    },
    {
      "cell_type": "markdown",
      "source": [
        "## Valide Entradas de Usuário\n",
        "\n",
        "- Verifique e valide todas as entradas de usuário.\n",
        "- Inclui entradas de arquivos, teclado e formulários da web.\n"
      ],
      "metadata": {
        "id": "CyTlKParG_Mi"
      }
    },
    {
      "cell_type": "code",
      "source": [
        "# Exemplo de validação de entrada de usuário\n",
        "numero = input(\"Digite um número inteiro positivo: \")\n",
        "if not numero.isdigit():\n",
        "    print(\"Erro: Entrada inválida. Digite um número inteiro positivo.\")"
      ],
      "metadata": {
        "colab": {
          "base_uri": "https://localhost:8080/"
        },
        "id": "i3VHRA-tHCkG",
        "outputId": "e59655db-ea94-47e1-ea3c-4a63cfea8362"
      },
      "execution_count": null,
      "outputs": [
        {
          "name": "stdout",
          "output_type": "stream",
          "text": [
            "Digite um número inteiro positivo: 14\n"
          ]
        }
      ]
    },
    {
      "cell_type": "code",
      "source": [
        "entrada_invalida = True\n",
        "while entrada_invalida:\n",
        "  # Exemplo de validação de entrada de usuário\n",
        "  numero = input(\"Digite um número inteiro positivo: \")\n",
        "  if not numero.isdigit():\n",
        "      print(\"Erro: Entrada inválida. Digite um número inteiro positivo.\")\n",
        "  else:\n",
        "    entrada_invalida = False"
      ],
      "metadata": {
        "id": "kqMyYZG9HesE",
        "outputId": "3adbcd9f-487d-4351-db91-f295e4132d57",
        "colab": {
          "base_uri": "https://localhost:8080/"
        }
      },
      "execution_count": null,
      "outputs": [
        {
          "name": "stdout",
          "output_type": "stream",
          "text": [
            "Digite um número inteiro positivo: 345\n"
          ]
        }
      ]
    },
    {
      "cell_type": "code",
      "source": [
        "entrada_invalida = True\n",
        "while entrada_invalida:\n",
        "  try:\n",
        "    numero = int(input(\"Digite um número inteiro: \"))\n",
        "    entrada_invalida = False\n",
        "  except:\n",
        "    print('Entrada inválida! Digite um número inteiro')"
      ],
      "metadata": {
        "id": "mVBcaa_OGuav",
        "outputId": "e6630449-7570-4ff8-ae9e-459f7b605b2a",
        "colab": {
          "base_uri": "https://localhost:8080/"
        }
      },
      "execution_count": null,
      "outputs": [
        {
          "name": "stdout",
          "output_type": "stream",
          "text": [
            "Digite um número inteiro: sa\n",
            "Entrada inválida! Digite um número inteiro\n",
            "Digite um número inteiro: a.1\n",
            "Entrada inválida! Digite um número inteiro\n",
            "Digite um número inteiro: 1.e\n",
            "Entrada inválida! Digite um número inteiro\n",
            "Digite um número inteiro: -12\n"
          ]
        }
      ]
    },
    {
      "cell_type": "markdown",
      "source": [
        "## Trate Erros Adequadamente\n",
        "\n",
        "- Trate erros de entrada/saída, alocação de memória e outras exceções.\n",
        "- Utilize blocos try-except para capturar e tratar exceções.\n"
      ],
      "metadata": {
        "id": "EspJ6xnvHJ0E"
      }
    },
    {
      "cell_type": "code",
      "source": [
        "# Exemplo de tratamento de erro\n",
        "try:\n",
        "    # Código que pode gerar uma exceção\n",
        "    pass\n",
        "except Exception as e:\n",
        "    # Tratamento da exceção\n",
        "    pass"
      ],
      "metadata": {
        "id": "e27qvBX0HF8q"
      },
      "execution_count": null,
      "outputs": []
    },
    {
      "cell_type": "markdown",
      "source": [
        "## Escreva Código Claro e Legível\n",
        "\n",
        "- Utilize nomes significativos e descritivos para variáveis, funções e estruturas."
      ],
      "metadata": {
        "id": "dHSGDapCHUbP"
      }
    },
    {
      "cell_type": "code",
      "source": [
        "# Exemplo de código claro e legível\n",
        "idade = 25\n",
        "nome = \"João\"\n",
        "\n",
        "def calcular_media(notas):\n",
        "    # Código para calcular a média das notas\n",
        "    pass"
      ],
      "metadata": {
        "id": "eOsbrW1PHVBj"
      },
      "execution_count": null,
      "outputs": []
    },
    {
      "cell_type": "markdown",
      "source": [
        "# Escreva Documentação Clara e Completa\n",
        "\n",
        "- Inclua comentários no código para explicar sua funcionalidade.\n",
        "- Crie documentação externa, como guias de usuário.\n",
        "- Torna o código fácil de entender e usar.\n"
      ],
      "metadata": {
        "id": "a9lJaAKaJZOL"
      }
    },
    {
      "cell_type": "code",
      "source": [
        "# Função para calcular a média de uma lista de números\n",
        "def calcular_media(lista):\n",
        "    \"\"\"\n",
        "    Esta função calcula a média de uma lista de números.\n",
        "    Parâmetros:\n",
        "    - lista: lista de números\n",
        "    Retorno:\n",
        "    - média dos números da lista\n",
        "    \"\"\"\n",
        "    # Código para calcular a média\n",
        "    pass"
      ],
      "metadata": {
        "id": "TnXqscYQI3B1"
      },
      "execution_count": null,
      "outputs": []
    },
    {
      "cell_type": "markdown",
      "source": [
        "## Use Padrões de Codificação Consistentes\n",
        "\n",
        "- Utilize padrões de codificação consistentes em todo o código.\n",
        "- Torna o código fácil de ler e entender, mesmo que seja escrito por diferentes programadores.\n"
      ],
      "metadata": {
        "id": "PQnC78-qJkkT"
      }
    },
    {
      "cell_type": "code",
      "source": [
        "# Exemplo de código com padrões de codificação consistentes\n",
        "def calcular_media(lista_numeros):\n",
        "    soma = sum(lista_numeros)\n",
        "    media = soma / len(lista_numeros)\n",
        "    return media"
      ],
      "metadata": {
        "id": "7_lbRKr8JhfQ"
      },
      "execution_count": null,
      "outputs": []
    },
    {
      "cell_type": "markdown",
      "source": [
        "# Adote uma Abordagem Modular\n",
        "\n",
        "- Divida o código em partes menores e mais gerenciáveis.\n",
        "- Torna o código mais fácil de entender, manter e atualizar.\n"
      ],
      "metadata": {
        "id": "hU69jSJjJr_3"
      }
    },
    {
      "cell_type": "code",
      "source": [
        "# Exemplo de código modular\n",
        "# Módulo para cálculos matemáticos\n",
        "def soma(a, b):\n",
        "    return a + b\n",
        "\n",
        "def multiplicacao(a, b):\n",
        "    return a * b\n",
        "\n",
        "# Módulo para cálculos estatísticos\n",
        "def media(lista_numeros):\n",
        "    soma = sum(lista_numeros)\n",
        "    media = soma / len(lista_numeros)\n",
        "    return media"
      ],
      "metadata": {
        "id": "dWKmJlQOJpw9"
      },
      "execution_count": null,
      "outputs": []
    },
    {
      "cell_type": "markdown",
      "source": [
        "## Gerencie as Dependências\n",
        "\n",
        "- Gerencie as dependências do código e utilize bibliotecas de terceiros sempre que possível.\n",
        "- Reduz o tempo de desenvolvimento e melhora a qualidade do código.\n"
      ],
      "metadata": {
        "id": "YRUGOocWJz6y"
      }
    },
    {
      "cell_type": "code",
      "source": [
        "# Exemplo de uso de bibliotecas de terceiros\n",
        "import requests\n",
        "\n",
        "response = requests.get('https://api.github.com/users/mralexgray/repos')\n",
        "data = response.json()\n",
        "\n",
        "print(data)"
      ],
      "metadata": {
        "colab": {
          "base_uri": "https://localhost:8080/"
        },
        "id": "Zle8_8j2Jxd2",
        "outputId": "6f9b3e8e-46cf-4bc6-a6f0-884b191faab6"
      },
      "execution_count": null,
      "outputs": [
        {
          "output_type": "stream",
          "name": "stdout",
          "text": [
            "[{'id': 6104546, 'node_id': 'MDEwOlJlcG9zaXRvcnk2MTA0NTQ2', 'name': '-REPONAME', 'full_name': 'mralexgray/-REPONAME', 'private': False, 'owner': {'login': 'mralexgray', 'id': 262517, 'node_id': 'MDQ6VXNlcjI2MjUxNw==', 'avatar_url': 'https://avatars.githubusercontent.com/u/262517?v=4', 'gravatar_id': '', 'url': 'https://api.github.com/users/mralexgray', 'html_url': 'https://github.com/mralexgray', 'followers_url': 'https://api.github.com/users/mralexgray/followers', 'following_url': 'https://api.github.com/users/mralexgray/following{/other_user}', 'gists_url': 'https://api.github.com/users/mralexgray/gists{/gist_id}', 'starred_url': 'https://api.github.com/users/mralexgray/starred{/owner}{/repo}', 'subscriptions_url': 'https://api.github.com/users/mralexgray/subscriptions', 'organizations_url': 'https://api.github.com/users/mralexgray/orgs', 'repos_url': 'https://api.github.com/users/mralexgray/repos', 'events_url': 'https://api.github.com/users/mralexgray/events{/privacy}', 'received_events_url': 'https://api.github.com/users/mralexgray/received_events', 'type': 'User', 'site_admin': False}, 'html_url': 'https://github.com/mralexgray/-REPONAME', 'description': None, 'fork': False, 'url': 'https://api.github.com/repos/mralexgray/-REPONAME', 'forks_url': 'https://api.github.com/repos/mralexgray/-REPONAME/forks', 'keys_url': 'https://api.github.com/repos/mralexgray/-REPONAME/keys{/key_id}', 'collaborators_url': 'https://api.github.com/repos/mralexgray/-REPONAME/collaborators{/collaborator}', 'teams_url': 'https://api.github.com/repos/mralexgray/-REPONAME/teams', 'hooks_url': 'https://api.github.com/repos/mralexgray/-REPONAME/hooks', 'issue_events_url': 'https://api.github.com/repos/mralexgray/-REPONAME/issues/events{/number}', 'events_url': 'https://api.github.com/repos/mralexgray/-REPONAME/events', 'assignees_url': 'https://api.github.com/repos/mralexgray/-REPONAME/assignees{/user}', 'branches_url': 'https://api.github.com/repos/mralexgray/-REPONAME/branches{/branch}', 'tags_url': 'https://api.github.com/repos/mralexgray/-REPONAME/tags', 'blobs_url': 'https://api.github.com/repos/mralexgray/-REPONAME/git/blobs{/sha}', 'git_tags_url': 'https://api.github.com/repos/mralexgray/-REPONAME/git/tags{/sha}', 'git_refs_url': 'https://api.github.com/repos/mralexgray/-REPONAME/git/refs{/sha}', 'trees_url': 'https://api.github.com/repos/mralexgray/-REPONAME/git/trees{/sha}', 'statuses_url': 'https://api.github.com/repos/mralexgray/-REPONAME/statuses/{sha}', 'languages_url': 'https://api.github.com/repos/mralexgray/-REPONAME/languages', 'stargazers_url': 'https://api.github.com/repos/mralexgray/-REPONAME/stargazers', 'contributors_url': 'https://api.github.com/repos/mralexgray/-REPONAME/contributors', 'subscribers_url': 'https://api.github.com/repos/mralexgray/-REPONAME/subscribers', 'subscription_url': 'https://api.github.com/repos/mralexgray/-REPONAME/subscription', 'commits_url': 'https://api.github.com/repos/mralexgray/-REPONAME/commits{/sha}', 'git_commits_url': 'https://api.github.com/repos/mralexgray/-REPONAME/git/commits{/sha}', 'comments_url': 'https://api.github.com/repos/mralexgray/-REPONAME/comments{/number}', 'issue_comment_url': 'https://api.github.com/repos/mralexgray/-REPONAME/issues/comments{/number}', 'contents_url': 'https://api.github.com/repos/mralexgray/-REPONAME/contents/{+path}', 'compare_url': 'https://api.github.com/repos/mralexgray/-REPONAME/compare/{base}...{head}', 'merges_url': 'https://api.github.com/repos/mralexgray/-REPONAME/merges', 'archive_url': 'https://api.github.com/repos/mralexgray/-REPONAME/{archive_format}{/ref}', 'downloads_url': 'https://api.github.com/repos/mralexgray/-REPONAME/downloads', 'issues_url': 'https://api.github.com/repos/mralexgray/-REPONAME/issues{/number}', 'pulls_url': 'https://api.github.com/repos/mralexgray/-REPONAME/pulls{/number}', 'milestones_url': 'https://api.github.com/repos/mralexgray/-REPONAME/milestones{/number}', 'notifications_url': 'https://api.github.com/repos/mralexgray/-REPONAME/notifications{?since,all,participating}', 'labels_url': 'https://api.github.com/repos/mralexgray/-REPONAME/labels{/name}', 'releases_url': 'https://api.github.com/repos/mralexgray/-REPONAME/releases{/id}', 'deployments_url': 'https://api.github.com/repos/mralexgray/-REPONAME/deployments', 'created_at': '2012-10-06T16:37:39Z', 'updated_at': '2013-01-12T13:39:30Z', 'pushed_at': '2012-10-06T16:37:39Z', 'git_url': 'git://github.com/mralexgray/-REPONAME.git', 'ssh_url': 'git@github.com:mralexgray/-REPONAME.git', 'clone_url': 'https://github.com/mralexgray/-REPONAME.git', 'svn_url': 'https://github.com/mralexgray/-REPONAME', 'homepage': None, 'size': 48, 'stargazers_count': 0, 'watchers_count': 0, 'language': None, 'has_issues': True, 'has_projects': True, 'has_downloads': True, 'has_wiki': True, 'has_pages': False, 'has_discussions': False, 'forks_count': 0, 'mirror_url': None, 'archived': False, 'disabled': False, 'open_issues_count': 0, 'license': None, 'allow_forking': True, 'is_template': False, 'web_commit_signoff_required': False, 'topics': [], 'visibility': 'public', 'forks': 0, 'open_issues': 0, 'watchers': 0, 'default_branch': 'master'}, {'id': 104510411, 'node_id': 'MDEwOlJlcG9zaXRvcnkxMDQ1MTA0MTE=', 'name': '...', 'full_name': 'mralexgray/...', 'private': False, 'owner': {'login': 'mralexgray', 'id': 262517, 'node_id': 'MDQ6VXNlcjI2MjUxNw==', 'avatar_url': 'https://avatars.githubusercontent.com/u/262517?v=4', 'gravatar_id': '', 'url': 'https://api.github.com/users/mralexgray', 'html_url': 'https://github.com/mralexgray', 'followers_url': 'https://api.github.com/users/mralexgray/followers', 'following_url': 'https://api.github.com/users/mralexgray/following{/other_user}', 'gists_url': 'https://api.github.com/users/mralexgray/gists{/gist_id}', 'starred_url': 'https://api.github.com/users/mralexgray/starred{/owner}{/repo}', 'subscriptions_url': 'https://api.github.com/users/mralexgray/subscriptions', 'organizations_url': 'https://api.github.com/users/mralexgray/orgs', 'repos_url': 'https://api.github.com/users/mralexgray/repos', 'events_url': 'https://api.github.com/users/mralexgray/events{/privacy}', 'received_events_url': 'https://api.github.com/users/mralexgray/received_events', 'type': 'User', 'site_admin': False}, 'html_url': 'https://github.com/mralexgray/...', 'description': ':computer: Public repo for my personal dotfiles.', 'fork': True, 'url': 'https://api.github.com/repos/mralexgray/...', 'forks_url': 'https://api.github.com/repos/mralexgray/.../forks', 'keys_url': 'https://api.github.com/repos/mralexgray/.../keys{/key_id}', 'collaborators_url': 'https://api.github.com/repos/mralexgray/.../collaborators{/collaborator}', 'teams_url': 'https://api.github.com/repos/mralexgray/.../teams', 'hooks_url': 'https://api.github.com/repos/mralexgray/.../hooks', 'issue_events_url': 'https://api.github.com/repos/mralexgray/.../issues/events{/number}', 'events_url': 'https://api.github.com/repos/mralexgray/.../events', 'assignees_url': 'https://api.github.com/repos/mralexgray/.../assignees{/user}', 'branches_url': 'https://api.github.com/repos/mralexgray/.../branches{/branch}', 'tags_url': 'https://api.github.com/repos/mralexgray/.../tags', 'blobs_url': 'https://api.github.com/repos/mralexgray/.../git/blobs{/sha}', 'git_tags_url': 'https://api.github.com/repos/mralexgray/.../git/tags{/sha}', 'git_refs_url': 'https://api.github.com/repos/mralexgray/.../git/refs{/sha}', 'trees_url': 'https://api.github.com/repos/mralexgray/.../git/trees{/sha}', 'statuses_url': 'https://api.github.com/repos/mralexgray/.../statuses/{sha}', 'languages_url': 'https://api.github.com/repos/mralexgray/.../languages', 'stargazers_url': 'https://api.github.com/repos/mralexgray/.../stargazers', 'contributors_url': 'https://api.github.com/repos/mralexgray/.../contributors', 'subscribers_url': 'https://api.github.com/repos/mralexgray/.../subscribers', 'subscription_url': 'https://api.github.com/repos/mralexgray/.../subscription', 'commits_url': 'https://api.github.com/repos/mralexgray/.../commits{/sha}', 'git_commits_url': 'https://api.github.com/repos/mralexgray/.../git/commits{/sha}', 'comments_url': 'https://api.github.com/repos/mralexgray/.../comments{/number}', 'issue_comment_url': 'https://api.github.com/repos/mralexgray/.../issues/comments{/number}', 'contents_url': 'https://api.github.com/repos/mralexgray/.../contents/{+path}', 'compare_url': 'https://api.github.com/repos/mralexgray/.../compare/{base}...{head}', 'merges_url': 'https://api.github.com/repos/mralexgray/.../merges', 'archive_url': 'https://api.github.com/repos/mralexgray/.../{archive_format}{/ref}', 'downloads_url': 'https://api.github.com/repos/mralexgray/.../downloads', 'issues_url': 'https://api.github.com/repos/mralexgray/.../issues{/number}', 'pulls_url': 'https://api.github.com/repos/mralexgray/.../pulls{/number}', 'milestones_url': 'https://api.github.com/repos/mralexgray/.../milestones{/number}', 'notifications_url': 'https://api.github.com/repos/mralexgray/.../notifications{?since,all,participating}', 'labels_url': 'https://api.github.com/repos/mralexgray/.../labels{/name}', 'releases_url': 'https://api.github.com/repos/mralexgray/.../releases{/id}', 'deployments_url': 'https://api.github.com/repos/mralexgray/.../deployments', 'created_at': '2017-09-22T19:19:42Z', 'updated_at': '2017-09-22T19:20:22Z', 'pushed_at': '2017-09-15T08:27:32Z', 'git_url': 'git://github.com/mralexgray/....git', 'ssh_url': 'git@github.com:mralexgray/....git', 'clone_url': 'https://github.com/mralexgray/....git', 'svn_url': 'https://github.com/mralexgray/...', 'homepage': 'https://driesvints.com/blog/getting-started-with-dotfiles', 'size': 113, 'stargazers_count': 0, 'watchers_count': 0, 'language': 'Shell', 'has_issues': False, 'has_projects': True, 'has_downloads': True, 'has_wiki': False, 'has_pages': False, 'has_discussions': False, 'forks_count': 0, 'mirror_url': None, 'archived': False, 'disabled': False, 'open_issues_count': 0, 'license': {'key': 'mit', 'name': 'MIT License', 'spdx_id': 'MIT', 'url': 'https://api.github.com/licenses/mit', 'node_id': 'MDc6TGljZW5zZTEz'}, 'allow_forking': True, 'is_template': False, 'web_commit_signoff_required': False, 'topics': [], 'visibility': 'public', 'forks': 0, 'open_issues': 0, 'watchers': 0, 'default_branch': 'master'}, {'id': 58656723, 'node_id': 'MDEwOlJlcG9zaXRvcnk1ODY1NjcyMw==', 'name': '2200087-Serial-Protocol', 'full_name': 'mralexgray/2200087-Serial-Protocol', 'private': False, 'owner': {'login': 'mralexgray', 'id': 262517, 'node_id': 'MDQ6VXNlcjI2MjUxNw==', 'avatar_url': 'https://avatars.githubusercontent.com/u/262517?v=4', 'gravatar_id': '', 'url': 'https://api.github.com/users/mralexgray', 'html_url': 'https://github.com/mralexgray', 'followers_url': 'https://api.github.com/users/mralexgray/followers', 'following_url': 'https://api.github.com/users/mralexgray/following{/other_user}', 'gists_url': 'https://api.github.com/users/mralexgray/gists{/gist_id}', 'starred_url': 'https://api.github.com/users/mralexgray/starred{/owner}{/repo}', 'subscriptions_url': 'https://api.github.com/users/mralexgray/subscriptions', 'organizations_url': 'https://api.github.com/users/mralexgray/orgs', 'repos_url': 'https://api.github.com/users/mralexgray/repos', 'events_url': 'https://api.github.com/users/mralexgray/events{/privacy}', 'received_events_url': 'https://api.github.com/users/mralexgray/received_events', 'type': 'User', 'site_admin': False}, 'html_url': 'https://github.com/mralexgray/2200087-Serial-Protocol', 'description': \"A reverse engineered protocol description and accompanying code for Radioshack's 2200087 multimeter\", 'fork': True, 'url': 'https://api.github.com/repos/mralexgray/2200087-Serial-Protocol', 'forks_url': 'https://api.github.com/repos/mralexgray/2200087-Serial-Protocol/forks', 'keys_url': 'https://api.github.com/repos/mralexgray/2200087-Serial-Protocol/keys{/key_id}', 'collaborators_url': 'https://api.github.com/repos/mralexgray/2200087-Serial-Protocol/collaborators{/collaborator}', 'teams_url': 'https://api.github.com/repos/mralexgray/2200087-Serial-Protocol/teams', 'hooks_url': 'https://api.github.com/repos/mralexgray/2200087-Serial-Protocol/hooks', 'issue_events_url': 'https://api.github.com/repos/mralexgray/2200087-Serial-Protocol/issues/events{/number}', 'events_url': 'https://api.github.com/repos/mralexgray/2200087-Serial-Protocol/events', 'assignees_url': 'https://api.github.com/repos/mralexgray/2200087-Serial-Protocol/assignees{/user}', 'branches_url': 'https://api.github.com/repos/mralexgray/2200087-Serial-Protocol/branches{/branch}', 'tags_url': 'https://api.github.com/repos/mralexgray/2200087-Serial-Protocol/tags', 'blobs_url': 'https://api.github.com/repos/mralexgray/2200087-Serial-Protocol/git/blobs{/sha}', 'git_tags_url': 'https://api.github.com/repos/mralexgray/2200087-Serial-Protocol/git/tags{/sha}', 'git_refs_url': 'https://api.github.com/repos/mralexgray/2200087-Serial-Protocol/git/refs{/sha}', 'trees_url': 'https://api.github.com/repos/mralexgray/2200087-Serial-Protocol/git/trees{/sha}', 'statuses_url': 'https://api.github.com/repos/mralexgray/2200087-Serial-Protocol/statuses/{sha}', 'languages_url': 'https://api.github.com/repos/mralexgray/2200087-Serial-Protocol/languages', 'stargazers_url': 'https://api.github.com/repos/mralexgray/2200087-Serial-Protocol/stargazers', 'contributors_url': 'https://api.github.com/repos/mralexgray/2200087-Serial-Protocol/contributors', 'subscribers_url': 'https://api.github.com/repos/mralexgray/2200087-Serial-Protocol/subscribers', 'subscription_url': 'https://api.github.com/repos/mralexgray/2200087-Serial-Protocol/subscription', 'commits_url': 'https://api.github.com/repos/mralexgray/2200087-Serial-Protocol/commits{/sha}', 'git_commits_url': 'https://api.github.com/repos/mralexgray/2200087-Serial-Protocol/git/commits{/sha}', 'comments_url': 'https://api.github.com/repos/mralexgray/2200087-Serial-Protocol/comments{/number}', 'issue_comment_url': 'https://api.github.com/repos/mralexgray/2200087-Serial-Protocol/issues/comments{/number}', 'contents_url': 'https://api.github.com/repos/mralexgray/2200087-Serial-Protocol/contents/{+path}', 'compare_url': 'https://api.github.com/repos/mralexgray/2200087-Serial-Protocol/compare/{base}...{head}', 'merges_url': 'https://api.github.com/repos/mralexgray/2200087-Serial-Protocol/merges', 'archive_url': 'https://api.github.com/repos/mralexgray/2200087-Serial-Protocol/{archive_format}{/ref}', 'downloads_url': 'https://api.github.com/repos/mralexgray/2200087-Serial-Protocol/downloads', 'issues_url': 'https://api.github.com/repos/mralexgray/2200087-Serial-Protocol/issues{/number}', 'pulls_url': 'https://api.github.com/repos/mralexgray/2200087-Serial-Protocol/pulls{/number}', 'milestones_url': 'https://api.github.com/repos/mralexgray/2200087-Serial-Protocol/milestones{/number}', 'notifications_url': 'https://api.github.com/repos/mralexgray/2200087-Serial-Protocol/notifications{?since,all,participating}', 'labels_url': 'https://api.github.com/repos/mralexgray/2200087-Serial-Protocol/labels{/name}', 'releases_url': 'https://api.github.com/repos/mralexgray/2200087-Serial-Protocol/releases{/id}', 'deployments_url': 'https://api.github.com/repos/mralexgray/2200087-Serial-Protocol/deployments', 'created_at': '2016-05-12T16:05:28Z', 'updated_at': '2016-05-12T16:05:30Z', 'pushed_at': '2016-05-12T16:07:24Z', 'git_url': 'git://github.com/mralexgray/2200087-Serial-Protocol.git', 'ssh_url': 'git@github.com:mralexgray/2200087-Serial-Protocol.git', 'clone_url': 'https://github.com/mralexgray/2200087-Serial-Protocol.git', 'svn_url': 'https://github.com/mralexgray/2200087-Serial-Protocol', 'homepage': 'http://daviddworken.com', 'size': 41, 'stargazers_count': 0, 'watchers_count': 0, 'language': 'Python', 'has_issues': False, 'has_projects': True, 'has_downloads': True, 'has_wiki': True, 'has_pages': False, 'has_discussions': False, 'forks_count': 1, 'mirror_url': None, 'archived': False, 'disabled': False, 'open_issues_count': 0, 'license': {'key': 'gpl-2.0', 'name': 'GNU General Public License v2.0', 'spdx_id': 'GPL-2.0', 'url': 'https://api.github.com/licenses/gpl-2.0', 'node_id': 'MDc6TGljZW5zZTg='}, 'allow_forking': True, 'is_template': False, 'web_commit_signoff_required': False, 'topics': [], 'visibility': 'public', 'forks': 1, 'open_issues': 0, 'watchers': 0, 'default_branch': 'master'}, {'id': 13121042, 'node_id': 'MDEwOlJlcG9zaXRvcnkxMzEyMTA0Mg==', 'name': 'ace', 'full_name': 'mralexgray/ace', 'private': False, 'owner': {'login': 'mralexgray', 'id': 262517, 'node_id': 'MDQ6VXNlcjI2MjUxNw==', 'avatar_url': 'https://avatars.githubusercontent.com/u/262517?v=4', 'gravatar_id': '', 'url': 'https://api.github.com/users/mralexgray', 'html_url': 'https://github.com/mralexgray', 'followers_url': 'https://api.github.com/users/mralexgray/followers', 'following_url': 'https://api.github.com/users/mralexgray/following{/other_user}', 'gists_url': 'https://api.github.com/users/mralexgray/gists{/gist_id}', 'starred_url': 'https://api.github.com/users/mralexgray/starred{/owner}{/repo}', 'subscriptions_url': 'https://api.github.com/users/mralexgray/subscriptions', 'organizations_url': 'https://api.github.com/users/mralexgray/orgs', 'repos_url': 'https://api.github.com/users/mralexgray/repos', 'events_url': 'https://api.github.com/users/mralexgray/events{/privacy}', 'received_events_url': 'https://api.github.com/users/mralexgray/received_events', 'type': 'User', 'site_admin': False}, 'html_url': 'https://github.com/mralexgray/ace', 'description': 'Ace (Ajax.org Cloud9 Editor)', 'fork': True, 'url': 'https://api.github.com/repos/mralexgray/ace', 'forks_url': 'https://api.github.com/repos/mralexgray/ace/forks', 'keys_url': 'https://api.github.com/repos/mralexgray/ace/keys{/key_id}', 'collaborators_url': 'https://api.github.com/repos/mralexgray/ace/collaborators{/collaborator}', 'teams_url': 'https://api.github.com/repos/mralexgray/ace/teams', 'hooks_url': 'https://api.github.com/repos/mralexgray/ace/hooks', 'issue_events_url': 'https://api.github.com/repos/mralexgray/ace/issues/events{/number}', 'events_url': 'https://api.github.com/repos/mralexgray/ace/events', 'assignees_url': 'https://api.github.com/repos/mralexgray/ace/assignees{/user}', 'branches_url': 'https://api.github.com/repos/mralexgray/ace/branches{/branch}', 'tags_url': 'https://api.github.com/repos/mralexgray/ace/tags', 'blobs_url': 'https://api.github.com/repos/mralexgray/ace/git/blobs{/sha}', 'git_tags_url': 'https://api.github.com/repos/mralexgray/ace/git/tags{/sha}', 'git_refs_url': 'https://api.github.com/repos/mralexgray/ace/git/refs{/sha}', 'trees_url': 'https://api.github.com/repos/mralexgray/ace/git/trees{/sha}', 'statuses_url': 'https://api.github.com/repos/mralexgray/ace/statuses/{sha}', 'languages_url': 'https://api.github.com/repos/mralexgray/ace/languages', 'stargazers_url': 'https://api.github.com/repos/mralexgray/ace/stargazers', 'contributors_url': 'https://api.github.com/repos/mralexgray/ace/contributors', 'subscribers_url': 'https://api.github.com/repos/mralexgray/ace/subscribers', 'subscription_url': 'https://api.github.com/repos/mralexgray/ace/subscription', 'commits_url': 'https://api.github.com/repos/mralexgray/ace/commits{/sha}', 'git_commits_url': 'https://api.github.com/repos/mralexgray/ace/git/commits{/sha}', 'comments_url': 'https://api.github.com/repos/mralexgray/ace/comments{/number}', 'issue_comment_url': 'https://api.github.com/repos/mralexgray/ace/issues/comments{/number}', 'contents_url': 'https://api.github.com/repos/mralexgray/ace/contents/{+path}', 'compare_url': 'https://api.github.com/repos/mralexgray/ace/compare/{base}...{head}', 'merges_url': 'https://api.github.com/repos/mralexgray/ace/merges', 'archive_url': 'https://api.github.com/repos/mralexgray/ace/{archive_format}{/ref}', 'downloads_url': 'https://api.github.com/repos/mralexgray/ace/downloads', 'issues_url': 'https://api.github.com/repos/mralexgray/ace/issues{/number}', 'pulls_url': 'https://api.github.com/repos/mralexgray/ace/pulls{/number}', 'milestones_url': 'https://api.github.com/repos/mralexgray/ace/milestones{/number}', 'notifications_url': 'https://api.github.com/repos/mralexgray/ace/notifications{?since,all,participating}', 'labels_url': 'https://api.github.com/repos/mralexgray/ace/labels{/name}', 'releases_url': 'https://api.github.com/repos/mralexgray/ace/releases{/id}', 'deployments_url': 'https://api.github.com/repos/mralexgray/ace/deployments', 'created_at': '2013-09-26T11:58:10Z', 'updated_at': '2013-10-26T12:34:49Z', 'pushed_at': '2013-10-26T12:34:48Z', 'git_url': 'git://github.com/mralexgray/ace.git', 'ssh_url': 'git@github.com:mralexgray/ace.git', 'clone_url': 'https://github.com/mralexgray/ace.git', 'svn_url': 'https://github.com/mralexgray/ace', 'homepage': 'http://ace.c9.io', 'size': 21080, 'stargazers_count': 0, 'watchers_count': 0, 'language': 'JavaScript', 'has_issues': False, 'has_projects': True, 'has_downloads': True, 'has_wiki': True, 'has_pages': False, 'has_discussions': False, 'forks_count': 1, 'mirror_url': None, 'archived': False, 'disabled': False, 'open_issues_count': 0, 'license': {'key': 'other', 'name': 'Other', 'spdx_id': 'NOASSERTION', 'url': None, 'node_id': 'MDc6TGljZW5zZTA='}, 'allow_forking': True, 'is_template': False, 'web_commit_signoff_required': False, 'topics': [], 'visibility': 'public', 'forks': 1, 'open_issues': 0, 'watchers': 0, 'default_branch': 'master'}, {'id': 10791045, 'node_id': 'MDEwOlJlcG9zaXRvcnkxMDc5MTA0NQ==', 'name': 'ACEView', 'full_name': 'mralexgray/ACEView', 'private': False, 'owner': {'login': 'mralexgray', 'id': 262517, 'node_id': 'MDQ6VXNlcjI2MjUxNw==', 'avatar_url': 'https://avatars.githubusercontent.com/u/262517?v=4', 'gravatar_id': '', 'url': 'https://api.github.com/users/mralexgray', 'html_url': 'https://github.com/mralexgray', 'followers_url': 'https://api.github.com/users/mralexgray/followers', 'following_url': 'https://api.github.com/users/mralexgray/following{/other_user}', 'gists_url': 'https://api.github.com/users/mralexgray/gists{/gist_id}', 'starred_url': 'https://api.github.com/users/mralexgray/starred{/owner}{/repo}', 'subscriptions_url': 'https://api.github.com/users/mralexgray/subscriptions', 'organizations_url': 'https://api.github.com/users/mralexgray/orgs', 'repos_url': 'https://api.github.com/users/mralexgray/repos', 'events_url': 'https://api.github.com/users/mralexgray/events{/privacy}', 'received_events_url': 'https://api.github.com/users/mralexgray/received_events', 'type': 'User', 'site_admin': False}, 'html_url': 'https://github.com/mralexgray/ACEView', 'description': 'Use the wonderful ACE editor in your Cocoa applications', 'fork': True, 'url': 'https://api.github.com/repos/mralexgray/ACEView', 'forks_url': 'https://api.github.com/repos/mralexgray/ACEView/forks', 'keys_url': 'https://api.github.com/repos/mralexgray/ACEView/keys{/key_id}', 'collaborators_url': 'https://api.github.com/repos/mralexgray/ACEView/collaborators{/collaborator}', 'teams_url': 'https://api.github.com/repos/mralexgray/ACEView/teams', 'hooks_url': 'https://api.github.com/repos/mralexgray/ACEView/hooks', 'issue_events_url': 'https://api.github.com/repos/mralexgray/ACEView/issues/events{/number}', 'events_url': 'https://api.github.com/repos/mralexgray/ACEView/events', 'assignees_url': 'https://api.github.com/repos/mralexgray/ACEView/assignees{/user}', 'branches_url': 'https://api.github.com/repos/mralexgray/ACEView/branches{/branch}', 'tags_url': 'https://api.github.com/repos/mralexgray/ACEView/tags', 'blobs_url': 'https://api.github.com/repos/mralexgray/ACEView/git/blobs{/sha}', 'git_tags_url': 'https://api.github.com/repos/mralexgray/ACEView/git/tags{/sha}', 'git_refs_url': 'https://api.github.com/repos/mralexgray/ACEView/git/refs{/sha}', 'trees_url': 'https://api.github.com/repos/mralexgray/ACEView/git/trees{/sha}', 'statuses_url': 'https://api.github.com/repos/mralexgray/ACEView/statuses/{sha}', 'languages_url': 'https://api.github.com/repos/mralexgray/ACEView/languages', 'stargazers_url': 'https://api.github.com/repos/mralexgray/ACEView/stargazers', 'contributors_url': 'https://api.github.com/repos/mralexgray/ACEView/contributors', 'subscribers_url': 'https://api.github.com/repos/mralexgray/ACEView/subscribers', 'subscription_url': 'https://api.github.com/repos/mralexgray/ACEView/subscription', 'commits_url': 'https://api.github.com/repos/mralexgray/ACEView/commits{/sha}', 'git_commits_url': 'https://api.github.com/repos/mralexgray/ACEView/git/commits{/sha}', 'comments_url': 'https://api.github.com/repos/mralexgray/ACEView/comments{/number}', 'issue_comment_url': 'https://api.github.com/repos/mralexgray/ACEView/issues/comments{/number}', 'contents_url': 'https://api.github.com/repos/mralexgray/ACEView/contents/{+path}', 'compare_url': 'https://api.github.com/repos/mralexgray/ACEView/compare/{base}...{head}', 'merges_url': 'https://api.github.com/repos/mralexgray/ACEView/merges', 'archive_url': 'https://api.github.com/repos/mralexgray/ACEView/{archive_format}{/ref}', 'downloads_url': 'https://api.github.com/repos/mralexgray/ACEView/downloads', 'issues_url': 'https://api.github.com/repos/mralexgray/ACEView/issues{/number}', 'pulls_url': 'https://api.github.com/repos/mralexgray/ACEView/pulls{/number}', 'milestones_url': 'https://api.github.com/repos/mralexgray/ACEView/milestones{/number}', 'notifications_url': 'https://api.github.com/repos/mralexgray/ACEView/notifications{?since,all,participating}', 'labels_url': 'https://api.github.com/repos/mralexgray/ACEView/labels{/name}', 'releases_url': 'https://api.github.com/repos/mralexgray/ACEView/releases{/id}', 'deployments_url': 'https://api.github.com/repos/mralexgray/ACEView/deployments', 'created_at': '2013-06-19T12:15:04Z', 'updated_at': '2015-11-24T01:14:10Z', 'pushed_at': '2014-05-09T01:36:23Z', 'git_url': 'git://github.com/mralexgray/ACEView.git', 'ssh_url': 'git@github.com:mralexgray/ACEView.git', 'clone_url': 'https://github.com/mralexgray/ACEView.git', 'svn_url': 'https://github.com/mralexgray/ACEView', 'homepage': None, 'size': 1733, 'stargazers_count': 0, 'watchers_count': 0, 'language': 'Objective-C', 'has_issues': False, 'has_projects': True, 'has_downloads': True, 'has_wiki': True, 'has_pages': False, 'has_discussions': False, 'forks_count': 1, 'mirror_url': None, 'archived': False, 'disabled': False, 'open_issues_count': 0, 'license': {'key': 'other', 'name': 'Other', 'spdx_id': 'NOASSERTION', 'url': None, 'node_id': 'MDc6TGljZW5zZTA='}, 'allow_forking': True, 'is_template': False, 'web_commit_signoff_required': False, 'topics': [], 'visibility': 'public', 'forks': 1, 'open_issues': 0, 'watchers': 0, 'default_branch': 'master'}, {'id': 13623648, 'node_id': 'MDEwOlJlcG9zaXRvcnkxMzYyMzY0OA==', 'name': 'ActiveLog', 'full_name': 'mralexgray/ActiveLog', 'private': False, 'owner': {'login': 'mralexgray', 'id': 262517, 'node_id': 'MDQ6VXNlcjI2MjUxNw==', 'avatar_url': 'https://avatars.githubusercontent.com/u/262517?v=4', 'gravatar_id': '', 'url': 'https://api.github.com/users/mralexgray', 'html_url': 'https://github.com/mralexgray', 'followers_url': 'https://api.github.com/users/mralexgray/followers', 'following_url': 'https://api.github.com/users/mralexgray/following{/other_user}', 'gists_url': 'https://api.github.com/users/mralexgray/gists{/gist_id}', 'starred_url': 'https://api.github.com/users/mralexgray/starred{/owner}{/repo}', 'subscriptions_url': 'https://api.github.com/users/mralexgray/subscriptions', 'organizations_url': 'https://api.github.com/users/mralexgray/orgs', 'repos_url': 'https://api.github.com/users/mralexgray/repos', 'events_url': 'https://api.github.com/users/mralexgray/events{/privacy}', 'received_events_url': 'https://api.github.com/users/mralexgray/received_events', 'type': 'User', 'site_admin': False}, 'html_url': 'https://github.com/mralexgray/ActiveLog', 'description': 'Shut up all logs with active filter.', 'fork': True, 'url': 'https://api.github.com/repos/mralexgray/ActiveLog', 'forks_url': 'https://api.github.com/repos/mralexgray/ActiveLog/forks', 'keys_url': 'https://api.github.com/repos/mralexgray/ActiveLog/keys{/key_id}', 'collaborators_url': 'https://api.github.com/repos/mralexgray/ActiveLog/collaborators{/collaborator}', 'teams_url': 'https://api.github.com/repos/mralexgray/ActiveLog/teams', 'hooks_url': 'https://api.github.com/repos/mralexgray/ActiveLog/hooks', 'issue_events_url': 'https://api.github.com/repos/mralexgray/ActiveLog/issues/events{/number}', 'events_url': 'https://api.github.com/repos/mralexgray/ActiveLog/events', 'assignees_url': 'https://api.github.com/repos/mralexgray/ActiveLog/assignees{/user}', 'branches_url': 'https://api.github.com/repos/mralexgray/ActiveLog/branches{/branch}', 'tags_url': 'https://api.github.com/repos/mralexgray/ActiveLog/tags', 'blobs_url': 'https://api.github.com/repos/mralexgray/ActiveLog/git/blobs{/sha}', 'git_tags_url': 'https://api.github.com/repos/mralexgray/ActiveLog/git/tags{/sha}', 'git_refs_url': 'https://api.github.com/repos/mralexgray/ActiveLog/git/refs{/sha}', 'trees_url': 'https://api.github.com/repos/mralexgray/ActiveLog/git/trees{/sha}', 'statuses_url': 'https://api.github.com/repos/mralexgray/ActiveLog/statuses/{sha}', 'languages_url': 'https://api.github.com/repos/mralexgray/ActiveLog/languages', 'stargazers_url': 'https://api.github.com/repos/mralexgray/ActiveLog/stargazers', 'contributors_url': 'https://api.github.com/repos/mralexgray/ActiveLog/contributors', 'subscribers_url': 'https://api.github.com/repos/mralexgray/ActiveLog/subscribers', 'subscription_url': 'https://api.github.com/repos/mralexgray/ActiveLog/subscription', 'commits_url': 'https://api.github.com/repos/mralexgray/ActiveLog/commits{/sha}', 'git_commits_url': 'https://api.github.com/repos/mralexgray/ActiveLog/git/commits{/sha}', 'comments_url': 'https://api.github.com/repos/mralexgray/ActiveLog/comments{/number}', 'issue_comment_url': 'https://api.github.com/repos/mralexgray/ActiveLog/issues/comments{/number}', 'contents_url': 'https://api.github.com/repos/mralexgray/ActiveLog/contents/{+path}', 'compare_url': 'https://api.github.com/repos/mralexgray/ActiveLog/compare/{base}...{head}', 'merges_url': 'https://api.github.com/repos/mralexgray/ActiveLog/merges', 'archive_url': 'https://api.github.com/repos/mralexgray/ActiveLog/{archive_format}{/ref}', 'downloads_url': 'https://api.github.com/repos/mralexgray/ActiveLog/downloads', 'issues_url': 'https://api.github.com/repos/mralexgray/ActiveLog/issues{/number}', 'pulls_url': 'https://api.github.com/repos/mralexgray/ActiveLog/pulls{/number}', 'milestones_url': 'https://api.github.com/repos/mralexgray/ActiveLog/milestones{/number}', 'notifications_url': 'https://api.github.com/repos/mralexgray/ActiveLog/notifications{?since,all,participating}', 'labels_url': 'https://api.github.com/repos/mralexgray/ActiveLog/labels{/name}', 'releases_url': 'https://api.github.com/repos/mralexgray/ActiveLog/releases{/id}', 'deployments_url': 'https://api.github.com/repos/mralexgray/ActiveLog/deployments', 'created_at': '2013-10-16T15:52:37Z', 'updated_at': '2013-10-16T15:52:37Z', 'pushed_at': '2011-07-03T06:28:59Z', 'git_url': 'git://github.com/mralexgray/ActiveLog.git', 'ssh_url': 'git@github.com:mralexgray/ActiveLog.git', 'clone_url': 'https://github.com/mralexgray/ActiveLog.git', 'svn_url': 'https://github.com/mralexgray/ActiveLog', 'homepage': 'http://deepitpro.com/en/articles/ActiveLog/info/', 'size': 60, 'stargazers_count': 0, 'watchers_count': 0, 'language': 'Objective-C', 'has_issues': False, 'has_projects': True, 'has_downloads': True, 'has_wiki': True, 'has_pages': False, 'has_discussions': False, 'forks_count': 0, 'mirror_url': None, 'archived': False, 'disabled': False, 'open_issues_count': 0, 'license': None, 'allow_forking': True, 'is_template': False, 'web_commit_signoff_required': False, 'topics': [], 'visibility': 'public', 'forks': 0, 'open_issues': 0, 'watchers': 0, 'default_branch': 'master'}, {'id': 9716210, 'node_id': 'MDEwOlJlcG9zaXRvcnk5NzE2MjEw', 'name': 'adium', 'full_name': 'mralexgray/adium', 'private': False, 'owner': {'login': 'mralexgray', 'id': 262517, 'node_id': 'MDQ6VXNlcjI2MjUxNw==', 'avatar_url': 'https://avatars.githubusercontent.com/u/262517?v=4', 'gravatar_id': '', 'url': 'https://api.github.com/users/mralexgray', 'html_url': 'https://github.com/mralexgray', 'followers_url': 'https://api.github.com/users/mralexgray/followers', 'following_url': 'https://api.github.com/users/mralexgray/following{/other_user}', 'gists_url': 'https://api.github.com/users/mralexgray/gists{/gist_id}', 'starred_url': 'https://api.github.com/users/mralexgray/starred{/owner}{/repo}', 'subscriptions_url': 'https://api.github.com/users/mralexgray/subscriptions', 'organizations_url': 'https://api.github.com/users/mralexgray/orgs', 'repos_url': 'https://api.github.com/users/mralexgray/repos', 'events_url': 'https://api.github.com/users/mralexgray/events{/privacy}', 'received_events_url': 'https://api.github.com/users/mralexgray/received_events', 'type': 'User', 'site_admin': False}, 'html_url': 'https://github.com/mralexgray/adium', 'description': 'Official mirror of hg.adium.im', 'fork': False, 'url': 'https://api.github.com/repos/mralexgray/adium', 'forks_url': 'https://api.github.com/repos/mralexgray/adium/forks', 'keys_url': 'https://api.github.com/repos/mralexgray/adium/keys{/key_id}', 'collaborators_url': 'https://api.github.com/repos/mralexgray/adium/collaborators{/collaborator}', 'teams_url': 'https://api.github.com/repos/mralexgray/adium/teams', 'hooks_url': 'https://api.github.com/repos/mralexgray/adium/hooks', 'issue_events_url': 'https://api.github.com/repos/mralexgray/adium/issues/events{/number}', 'events_url': 'https://api.github.com/repos/mralexgray/adium/events', 'assignees_url': 'https://api.github.com/repos/mralexgray/adium/assignees{/user}', 'branches_url': 'https://api.github.com/repos/mralexgray/adium/branches{/branch}', 'tags_url': 'https://api.github.com/repos/mralexgray/adium/tags', 'blobs_url': 'https://api.github.com/repos/mralexgray/adium/git/blobs{/sha}', 'git_tags_url': 'https://api.github.com/repos/mralexgray/adium/git/tags{/sha}', 'git_refs_url': 'https://api.github.com/repos/mralexgray/adium/git/refs{/sha}', 'trees_url': 'https://api.github.com/repos/mralexgray/adium/git/trees{/sha}', 'statuses_url': 'https://api.github.com/repos/mralexgray/adium/statuses/{sha}', 'languages_url': 'https://api.github.com/repos/mralexgray/adium/languages', 'stargazers_url': 'https://api.github.com/repos/mralexgray/adium/stargazers', 'contributors_url': 'https://api.github.com/repos/mralexgray/adium/contributors', 'subscribers_url': 'https://api.github.com/repos/mralexgray/adium/subscribers', 'subscription_url': 'https://api.github.com/repos/mralexgray/adium/subscription', 'commits_url': 'https://api.github.com/repos/mralexgray/adium/commits{/sha}', 'git_commits_url': 'https://api.github.com/repos/mralexgray/adium/git/commits{/sha}', 'comments_url': 'https://api.github.com/repos/mralexgray/adium/comments{/number}', 'issue_comment_url': 'https://api.github.com/repos/mralexgray/adium/issues/comments{/number}', 'contents_url': 'https://api.github.com/repos/mralexgray/adium/contents/{+path}', 'compare_url': 'https://api.github.com/repos/mralexgray/adium/compare/{base}...{head}', 'merges_url': 'https://api.github.com/repos/mralexgray/adium/merges', 'archive_url': 'https://api.github.com/repos/mralexgray/adium/{archive_format}{/ref}', 'downloads_url': 'https://api.github.com/repos/mralexgray/adium/downloads', 'issues_url': 'https://api.github.com/repos/mralexgray/adium/issues{/number}', 'pulls_url': 'https://api.github.com/repos/mralexgray/adium/pulls{/number}', 'milestones_url': 'https://api.github.com/repos/mralexgray/adium/milestones{/number}', 'notifications_url': 'https://api.github.com/repos/mralexgray/adium/notifications{?since,all,participating}', 'labels_url': 'https://api.github.com/repos/mralexgray/adium/labels{/name}', 'releases_url': 'https://api.github.com/repos/mralexgray/adium/releases{/id}', 'deployments_url': 'https://api.github.com/repos/mralexgray/adium/deployments', 'created_at': '2013-04-27T14:59:33Z', 'updated_at': '2019-12-11T06:51:45Z', 'pushed_at': '2013-04-26T16:43:53Z', 'git_url': 'git://github.com/mralexgray/adium.git', 'ssh_url': 'git@github.com:mralexgray/adium.git', 'clone_url': 'https://github.com/mralexgray/adium.git', 'svn_url': 'https://github.com/mralexgray/adium', 'homepage': None, 'size': 277719, 'stargazers_count': 0, 'watchers_count': 0, 'language': 'Objective-C', 'has_issues': False, 'has_projects': True, 'has_downloads': True, 'has_wiki': False, 'has_pages': False, 'has_discussions': False, 'forks_count': 36, 'mirror_url': None, 'archived': False, 'disabled': False, 'open_issues_count': 0, 'license': {'key': 'other', 'name': 'Other', 'spdx_id': 'NOASSERTION', 'url': None, 'node_id': 'MDc6TGljZW5zZTA='}, 'allow_forking': True, 'is_template': False, 'web_commit_signoff_required': False, 'topics': [], 'visibility': 'public', 'forks': 36, 'open_issues': 0, 'watchers': 0, 'default_branch': 'master'}, {'id': 12752329, 'node_id': 'MDEwOlJlcG9zaXRvcnkxMjc1MjMyOQ==', 'name': 'ADLivelyTableView', 'full_name': 'mralexgray/ADLivelyTableView', 'private': False, 'owner': {'login': 'mralexgray', 'id': 262517, 'node_id': 'MDQ6VXNlcjI2MjUxNw==', 'avatar_url': 'https://avatars.githubusercontent.com/u/262517?v=4', 'gravatar_id': '', 'url': 'https://api.github.com/users/mralexgray', 'html_url': 'https://github.com/mralexgray', 'followers_url': 'https://api.github.com/users/mralexgray/followers', 'following_url': 'https://api.github.com/users/mralexgray/following{/other_user}', 'gists_url': 'https://api.github.com/users/mralexgray/gists{/gist_id}', 'starred_url': 'https://api.github.com/users/mralexgray/starred{/owner}{/repo}', 'subscriptions_url': 'https://api.github.com/users/mralexgray/subscriptions', 'organizations_url': 'https://api.github.com/users/mralexgray/orgs', 'repos_url': 'https://api.github.com/users/mralexgray/repos', 'events_url': 'https://api.github.com/users/mralexgray/events{/privacy}', 'received_events_url': 'https://api.github.com/users/mralexgray/received_events', 'type': 'User', 'site_admin': False}, 'html_url': 'https://github.com/mralexgray/ADLivelyTableView', 'description': 'Lively UITableView', 'fork': True, 'url': 'https://api.github.com/repos/mralexgray/ADLivelyTableView', 'forks_url': 'https://api.github.com/repos/mralexgray/ADLivelyTableView/forks', 'keys_url': 'https://api.github.com/repos/mralexgray/ADLivelyTableView/keys{/key_id}', 'collaborators_url': 'https://api.github.com/repos/mralexgray/ADLivelyTableView/collaborators{/collaborator}', 'teams_url': 'https://api.github.com/repos/mralexgray/ADLivelyTableView/teams', 'hooks_url': 'https://api.github.com/repos/mralexgray/ADLivelyTableView/hooks', 'issue_events_url': 'https://api.github.com/repos/mralexgray/ADLivelyTableView/issues/events{/number}', 'events_url': 'https://api.github.com/repos/mralexgray/ADLivelyTableView/events', 'assignees_url': 'https://api.github.com/repos/mralexgray/ADLivelyTableView/assignees{/user}', 'branches_url': 'https://api.github.com/repos/mralexgray/ADLivelyTableView/branches{/branch}', 'tags_url': 'https://api.github.com/repos/mralexgray/ADLivelyTableView/tags', 'blobs_url': 'https://api.github.com/repos/mralexgray/ADLivelyTableView/git/blobs{/sha}', 'git_tags_url': 'https://api.github.com/repos/mralexgray/ADLivelyTableView/git/tags{/sha}', 'git_refs_url': 'https://api.github.com/repos/mralexgray/ADLivelyTableView/git/refs{/sha}', 'trees_url': 'https://api.github.com/repos/mralexgray/ADLivelyTableView/git/trees{/sha}', 'statuses_url': 'https://api.github.com/repos/mralexgray/ADLivelyTableView/statuses/{sha}', 'languages_url': 'https://api.github.com/repos/mralexgray/ADLivelyTableView/languages', 'stargazers_url': 'https://api.github.com/repos/mralexgray/ADLivelyTableView/stargazers', 'contributors_url': 'https://api.github.com/repos/mralexgray/ADLivelyTableView/contributors', 'subscribers_url': 'https://api.github.com/repos/mralexgray/ADLivelyTableView/subscribers', 'subscription_url': 'https://api.github.com/repos/mralexgray/ADLivelyTableView/subscription', 'commits_url': 'https://api.github.com/repos/mralexgray/ADLivelyTableView/commits{/sha}', 'git_commits_url': 'https://api.github.com/repos/mralexgray/ADLivelyTableView/git/commits{/sha}', 'comments_url': 'https://api.github.com/repos/mralexgray/ADLivelyTableView/comments{/number}', 'issue_comment_url': 'https://api.github.com/repos/mralexgray/ADLivelyTableView/issues/comments{/number}', 'contents_url': 'https://api.github.com/repos/mralexgray/ADLivelyTableView/contents/{+path}', 'compare_url': 'https://api.github.com/repos/mralexgray/ADLivelyTableView/compare/{base}...{head}', 'merges_url': 'https://api.github.com/repos/mralexgray/ADLivelyTableView/merges', 'archive_url': 'https://api.github.com/repos/mralexgray/ADLivelyTableView/{archive_format}{/ref}', 'downloads_url': 'https://api.github.com/repos/mralexgray/ADLivelyTableView/downloads', 'issues_url': 'https://api.github.com/repos/mralexgray/ADLivelyTableView/issues{/number}', 'pulls_url': 'https://api.github.com/repos/mralexgray/ADLivelyTableView/pulls{/number}', 'milestones_url': 'https://api.github.com/repos/mralexgray/ADLivelyTableView/milestones{/number}', 'notifications_url': 'https://api.github.com/repos/mralexgray/ADLivelyTableView/notifications{?since,all,participating}', 'labels_url': 'https://api.github.com/repos/mralexgray/ADLivelyTableView/labels{/name}', 'releases_url': 'https://api.github.com/repos/mralexgray/ADLivelyTableView/releases{/id}', 'deployments_url': 'https://api.github.com/repos/mralexgray/ADLivelyTableView/deployments', 'created_at': '2013-09-11T09:18:01Z', 'updated_at': '2013-09-11T09:18:03Z', 'pushed_at': '2012-05-10T10:40:15Z', 'git_url': 'git://github.com/mralexgray/ADLivelyTableView.git', 'ssh_url': 'git@github.com:mralexgray/ADLivelyTableView.git', 'clone_url': 'https://github.com/mralexgray/ADLivelyTableView.git', 'svn_url': 'https://github.com/mralexgray/ADLivelyTableView', 'homepage': 'http://applidium.com/en/news/lively_uitableview/', 'size': 73, 'stargazers_count': 0, 'watchers_count': 0, 'language': 'Objective-C', 'has_issues': False, 'has_projects': True, 'has_downloads': True, 'has_wiki': True, 'has_pages': False, 'has_discussions': False, 'forks_count': 0, 'mirror_url': None, 'archived': False, 'disabled': False, 'open_issues_count': 0, 'license': {'key': 'other', 'name': 'Other', 'spdx_id': 'NOASSERTION', 'url': None, 'node_id': 'MDc6TGljZW5zZTA='}, 'allow_forking': True, 'is_template': False, 'web_commit_signoff_required': False, 'topics': [], 'visibility': 'public', 'forks': 0, 'open_issues': 0, 'watchers': 0, 'default_branch': 'master'}, {'id': 5697379, 'node_id': 'MDEwOlJlcG9zaXRvcnk1Njk3Mzc5', 'name': 'AFIncrementalStore', 'full_name': 'mralexgray/AFIncrementalStore', 'private': False, 'owner': {'login': 'mralexgray', 'id': 262517, 'node_id': 'MDQ6VXNlcjI2MjUxNw==', 'avatar_url': 'https://avatars.githubusercontent.com/u/262517?v=4', 'gravatar_id': '', 'url': 'https://api.github.com/users/mralexgray', 'html_url': 'https://github.com/mralexgray', 'followers_url': 'https://api.github.com/users/mralexgray/followers', 'following_url': 'https://api.github.com/users/mralexgray/following{/other_user}', 'gists_url': 'https://api.github.com/users/mralexgray/gists{/gist_id}', 'starred_url': 'https://api.github.com/users/mralexgray/starred{/owner}{/repo}', 'subscriptions_url': 'https://api.github.com/users/mralexgray/subscriptions', 'organizations_url': 'https://api.github.com/users/mralexgray/orgs', 'repos_url': 'https://api.github.com/users/mralexgray/repos', 'events_url': 'https://api.github.com/users/mralexgray/events{/privacy}', 'received_events_url': 'https://api.github.com/users/mralexgray/received_events', 'type': 'User', 'site_admin': False}, 'html_url': 'https://github.com/mralexgray/AFIncrementalStore', 'description': 'Core Data Persistence with AFNetworking, Done Right', 'fork': True, 'url': 'https://api.github.com/repos/mralexgray/AFIncrementalStore', 'forks_url': 'https://api.github.com/repos/mralexgray/AFIncrementalStore/forks', 'keys_url': 'https://api.github.com/repos/mralexgray/AFIncrementalStore/keys{/key_id}', 'collaborators_url': 'https://api.github.com/repos/mralexgray/AFIncrementalStore/collaborators{/collaborator}', 'teams_url': 'https://api.github.com/repos/mralexgray/AFIncrementalStore/teams', 'hooks_url': 'https://api.github.com/repos/mralexgray/AFIncrementalStore/hooks', 'issue_events_url': 'https://api.github.com/repos/mralexgray/AFIncrementalStore/issues/events{/number}', 'events_url': 'https://api.github.com/repos/mralexgray/AFIncrementalStore/events', 'assignees_url': 'https://api.github.com/repos/mralexgray/AFIncrementalStore/assignees{/user}', 'branches_url': 'https://api.github.com/repos/mralexgray/AFIncrementalStore/branches{/branch}', 'tags_url': 'https://api.github.com/repos/mralexgray/AFIncrementalStore/tags', 'blobs_url': 'https://api.github.com/repos/mralexgray/AFIncrementalStore/git/blobs{/sha}', 'git_tags_url': 'https://api.github.com/repos/mralexgray/AFIncrementalStore/git/tags{/sha}', 'git_refs_url': 'https://api.github.com/repos/mralexgray/AFIncrementalStore/git/refs{/sha}', 'trees_url': 'https://api.github.com/repos/mralexgray/AFIncrementalStore/git/trees{/sha}', 'statuses_url': 'https://api.github.com/repos/mralexgray/AFIncrementalStore/statuses/{sha}', 'languages_url': 'https://api.github.com/repos/mralexgray/AFIncrementalStore/languages', 'stargazers_url': 'https://api.github.com/repos/mralexgray/AFIncrementalStore/stargazers', 'contributors_url': 'https://api.github.com/repos/mralexgray/AFIncrementalStore/contributors', 'subscribers_url': 'https://api.github.com/repos/mralexgray/AFIncrementalStore/subscribers', 'subscription_url': 'https://api.github.com/repos/mralexgray/AFIncrementalStore/subscription', 'commits_url': 'https://api.github.com/repos/mralexgray/AFIncrementalStore/commits{/sha}', 'git_commits_url': 'https://api.github.com/repos/mralexgray/AFIncrementalStore/git/commits{/sha}', 'comments_url': 'https://api.github.com/repos/mralexgray/AFIncrementalStore/comments{/number}', 'issue_comment_url': 'https://api.github.com/repos/mralexgray/AFIncrementalStore/issues/comments{/number}', 'contents_url': 'https://api.github.com/repos/mralexgray/AFIncrementalStore/contents/{+path}', 'compare_url': 'https://api.github.com/repos/mralexgray/AFIncrementalStore/compare/{base}...{head}', 'merges_url': 'https://api.github.com/repos/mralexgray/AFIncrementalStore/merges', 'archive_url': 'https://api.github.com/repos/mralexgray/AFIncrementalStore/{archive_format}{/ref}', 'downloads_url': 'https://api.github.com/repos/mralexgray/AFIncrementalStore/downloads', 'issues_url': 'https://api.github.com/repos/mralexgray/AFIncrementalStore/issues{/number}', 'pulls_url': 'https://api.github.com/repos/mralexgray/AFIncrementalStore/pulls{/number}', 'milestones_url': 'https://api.github.com/repos/mralexgray/AFIncrementalStore/milestones{/number}', 'notifications_url': 'https://api.github.com/repos/mralexgray/AFIncrementalStore/notifications{?since,all,participating}', 'labels_url': 'https://api.github.com/repos/mralexgray/AFIncrementalStore/labels{/name}', 'releases_url': 'https://api.github.com/repos/mralexgray/AFIncrementalStore/releases{/id}', 'deployments_url': 'https://api.github.com/repos/mralexgray/AFIncrementalStore/deployments', 'created_at': '2012-09-06T04:20:33Z', 'updated_at': '2013-01-12T03:15:29Z', 'pushed_at': '2012-09-01T22:46:25Z', 'git_url': 'git://github.com/mralexgray/AFIncrementalStore.git', 'ssh_url': 'git@github.com:mralexgray/AFIncrementalStore.git', 'clone_url': 'https://github.com/mralexgray/AFIncrementalStore.git', 'svn_url': 'https://github.com/mralexgray/AFIncrementalStore', 'homepage': None, 'size': 139, 'stargazers_count': 0, 'watchers_count': 0, 'language': 'Objective-C', 'has_issues': False, 'has_projects': True, 'has_downloads': True, 'has_wiki': True, 'has_pages': False, 'has_discussions': False, 'forks_count': 0, 'mirror_url': None, 'archived': False, 'disabled': False, 'open_issues_count': 0, 'license': {'key': 'mit', 'name': 'MIT License', 'spdx_id': 'MIT', 'url': 'https://api.github.com/licenses/mit', 'node_id': 'MDc6TGljZW5zZTEz'}, 'allow_forking': True, 'is_template': False, 'web_commit_signoff_required': False, 'topics': [], 'visibility': 'public', 'forks': 0, 'open_issues': 0, 'watchers': 0, 'default_branch': 'master'}, {'id': 6969621, 'node_id': 'MDEwOlJlcG9zaXRvcnk2OTY5NjIx', 'name': 'AFNetworking', 'full_name': 'mralexgray/AFNetworking', 'private': False, 'owner': {'login': 'mralexgray', 'id': 262517, 'node_id': 'MDQ6VXNlcjI2MjUxNw==', 'avatar_url': 'https://avatars.githubusercontent.com/u/262517?v=4', 'gravatar_id': '', 'url': 'https://api.github.com/users/mralexgray', 'html_url': 'https://github.com/mralexgray', 'followers_url': 'https://api.github.com/users/mralexgray/followers', 'following_url': 'https://api.github.com/users/mralexgray/following{/other_user}', 'gists_url': 'https://api.github.com/users/mralexgray/gists{/gist_id}', 'starred_url': 'https://api.github.com/users/mralexgray/starred{/owner}{/repo}', 'subscriptions_url': 'https://api.github.com/users/mralexgray/subscriptions', 'organizations_url': 'https://api.github.com/users/mralexgray/orgs', 'repos_url': 'https://api.github.com/users/mralexgray/repos', 'events_url': 'https://api.github.com/users/mralexgray/events{/privacy}', 'received_events_url': 'https://api.github.com/users/mralexgray/received_events', 'type': 'User', 'site_admin': False}, 'html_url': 'https://github.com/mralexgray/AFNetworking', 'description': 'A delightful iOS and OS X networking framework', 'fork': True, 'url': 'https://api.github.com/repos/mralexgray/AFNetworking', 'forks_url': 'https://api.github.com/repos/mralexgray/AFNetworking/forks', 'keys_url': 'https://api.github.com/repos/mralexgray/AFNetworking/keys{/key_id}', 'collaborators_url': 'https://api.github.com/repos/mralexgray/AFNetworking/collaborators{/collaborator}', 'teams_url': 'https://api.github.com/repos/mralexgray/AFNetworking/teams', 'hooks_url': 'https://api.github.com/repos/mralexgray/AFNetworking/hooks', 'issue_events_url': 'https://api.github.com/repos/mralexgray/AFNetworking/issues/events{/number}', 'events_url': 'https://api.github.com/repos/mralexgray/AFNetworking/events', 'assignees_url': 'https://api.github.com/repos/mralexgray/AFNetworking/assignees{/user}', 'branches_url': 'https://api.github.com/repos/mralexgray/AFNetworking/branches{/branch}', 'tags_url': 'https://api.github.com/repos/mralexgray/AFNetworking/tags', 'blobs_url': 'https://api.github.com/repos/mralexgray/AFNetworking/git/blobs{/sha}', 'git_tags_url': 'https://api.github.com/repos/mralexgray/AFNetworking/git/tags{/sha}', 'git_refs_url': 'https://api.github.com/repos/mralexgray/AFNetworking/git/refs{/sha}', 'trees_url': 'https://api.github.com/repos/mralexgray/AFNetworking/git/trees{/sha}', 'statuses_url': 'https://api.github.com/repos/mralexgray/AFNetworking/statuses/{sha}', 'languages_url': 'https://api.github.com/repos/mralexgray/AFNetworking/languages', 'stargazers_url': 'https://api.github.com/repos/mralexgray/AFNetworking/stargazers', 'contributors_url': 'https://api.github.com/repos/mralexgray/AFNetworking/contributors', 'subscribers_url': 'https://api.github.com/repos/mralexgray/AFNetworking/subscribers', 'subscription_url': 'https://api.github.com/repos/mralexgray/AFNetworking/subscription', 'commits_url': 'https://api.github.com/repos/mralexgray/AFNetworking/commits{/sha}', 'git_commits_url': 'https://api.github.com/repos/mralexgray/AFNetworking/git/commits{/sha}', 'comments_url': 'https://api.github.com/repos/mralexgray/AFNetworking/comments{/number}', 'issue_comment_url': 'https://api.github.com/repos/mralexgray/AFNetworking/issues/comments{/number}', 'contents_url': 'https://api.github.com/repos/mralexgray/AFNetworking/contents/{+path}', 'compare_url': 'https://api.github.com/repos/mralexgray/AFNetworking/compare/{base}...{head}', 'merges_url': 'https://api.github.com/repos/mralexgray/AFNetworking/merges', 'archive_url': 'https://api.github.com/repos/mralexgray/AFNetworking/{archive_format}{/ref}', 'downloads_url': 'https://api.github.com/repos/mralexgray/AFNetworking/downloads', 'issues_url': 'https://api.github.com/repos/mralexgray/AFNetworking/issues{/number}', 'pulls_url': 'https://api.github.com/repos/mralexgray/AFNetworking/pulls{/number}', 'milestones_url': 'https://api.github.com/repos/mralexgray/AFNetworking/milestones{/number}', 'notifications_url': 'https://api.github.com/repos/mralexgray/AFNetworking/notifications{?since,all,participating}', 'labels_url': 'https://api.github.com/repos/mralexgray/AFNetworking/labels{/name}', 'releases_url': 'https://api.github.com/repos/mralexgray/AFNetworking/releases{/id}', 'deployments_url': 'https://api.github.com/repos/mralexgray/AFNetworking/deployments', 'created_at': '2012-12-02T17:00:04Z', 'updated_at': '2014-01-24T07:14:33Z', 'pushed_at': '2014-01-24T07:14:32Z', 'git_url': 'git://github.com/mralexgray/AFNetworking.git', 'ssh_url': 'git@github.com:mralexgray/AFNetworking.git', 'clone_url': 'https://github.com/mralexgray/AFNetworking.git', 'svn_url': 'https://github.com/mralexgray/AFNetworking', 'homepage': 'http://afnetworking.com', 'size': 4341, 'stargazers_count': 2, 'watchers_count': 2, 'language': 'Objective-C', 'has_issues': False, 'has_projects': True, 'has_downloads': True, 'has_wiki': True, 'has_pages': False, 'has_discussions': False, 'forks_count': 0, 'mirror_url': None, 'archived': False, 'disabled': False, 'open_issues_count': 0, 'license': {'key': 'mit', 'name': 'MIT License', 'spdx_id': 'MIT', 'url': 'https://api.github.com/licenses/mit', 'node_id': 'MDc6TGljZW5zZTEz'}, 'allow_forking': True, 'is_template': False, 'web_commit_signoff_required': False, 'topics': [], 'visibility': 'public', 'forks': 0, 'open_issues': 0, 'watchers': 2, 'default_branch': 'master'}, {'id': 9485541, 'node_id': 'MDEwOlJlcG9zaXRvcnk5NDg1NTQx', 'name': 'AGNSSplitView', 'full_name': 'mralexgray/AGNSSplitView', 'private': False, 'owner': {'login': 'mralexgray', 'id': 262517, 'node_id': 'MDQ6VXNlcjI2MjUxNw==', 'avatar_url': 'https://avatars.githubusercontent.com/u/262517?v=4', 'gravatar_id': '', 'url': 'https://api.github.com/users/mralexgray', 'html_url': 'https://github.com/mralexgray', 'followers_url': 'https://api.github.com/users/mralexgray/followers', 'following_url': 'https://api.github.com/users/mralexgray/following{/other_user}', 'gists_url': 'https://api.github.com/users/mralexgray/gists{/gist_id}', 'starred_url': 'https://api.github.com/users/mralexgray/starred{/owner}{/repo}', 'subscriptions_url': 'https://api.github.com/users/mralexgray/subscriptions', 'organizations_url': 'https://api.github.com/users/mralexgray/orgs', 'repos_url': 'https://api.github.com/users/mralexgray/repos', 'events_url': 'https://api.github.com/users/mralexgray/events{/privacy}', 'received_events_url': 'https://api.github.com/users/mralexgray/received_events', 'type': 'User', 'site_admin': False}, 'html_url': 'https://github.com/mralexgray/AGNSSplitView', 'description': 'Simple NSSplitView additions.', 'fork': True, 'url': 'https://api.github.com/repos/mralexgray/AGNSSplitView', 'forks_url': 'https://api.github.com/repos/mralexgray/AGNSSplitView/forks', 'keys_url': 'https://api.github.com/repos/mralexgray/AGNSSplitView/keys{/key_id}', 'collaborators_url': 'https://api.github.com/repos/mralexgray/AGNSSplitView/collaborators{/collaborator}', 'teams_url': 'https://api.github.com/repos/mralexgray/AGNSSplitView/teams', 'hooks_url': 'https://api.github.com/repos/mralexgray/AGNSSplitView/hooks', 'issue_events_url': 'https://api.github.com/repos/mralexgray/AGNSSplitView/issues/events{/number}', 'events_url': 'https://api.github.com/repos/mralexgray/AGNSSplitView/events', 'assignees_url': 'https://api.github.com/repos/mralexgray/AGNSSplitView/assignees{/user}', 'branches_url': 'https://api.github.com/repos/mralexgray/AGNSSplitView/branches{/branch}', 'tags_url': 'https://api.github.com/repos/mralexgray/AGNSSplitView/tags', 'blobs_url': 'https://api.github.com/repos/mralexgray/AGNSSplitView/git/blobs{/sha}', 'git_tags_url': 'https://api.github.com/repos/mralexgray/AGNSSplitView/git/tags{/sha}', 'git_refs_url': 'https://api.github.com/repos/mralexgray/AGNSSplitView/git/refs{/sha}', 'trees_url': 'https://api.github.com/repos/mralexgray/AGNSSplitView/git/trees{/sha}', 'statuses_url': 'https://api.github.com/repos/mralexgray/AGNSSplitView/statuses/{sha}', 'languages_url': 'https://api.github.com/repos/mralexgray/AGNSSplitView/languages', 'stargazers_url': 'https://api.github.com/repos/mralexgray/AGNSSplitView/stargazers', 'contributors_url': 'https://api.github.com/repos/mralexgray/AGNSSplitView/contributors', 'subscribers_url': 'https://api.github.com/repos/mralexgray/AGNSSplitView/subscribers', 'subscription_url': 'https://api.github.com/repos/mralexgray/AGNSSplitView/subscription', 'commits_url': 'https://api.github.com/repos/mralexgray/AGNSSplitView/commits{/sha}', 'git_commits_url': 'https://api.github.com/repos/mralexgray/AGNSSplitView/git/commits{/sha}', 'comments_url': 'https://api.github.com/repos/mralexgray/AGNSSplitView/comments{/number}', 'issue_comment_url': 'https://api.github.com/repos/mralexgray/AGNSSplitView/issues/comments{/number}', 'contents_url': 'https://api.github.com/repos/mralexgray/AGNSSplitView/contents/{+path}', 'compare_url': 'https://api.github.com/repos/mralexgray/AGNSSplitView/compare/{base}...{head}', 'merges_url': 'https://api.github.com/repos/mralexgray/AGNSSplitView/merges', 'archive_url': 'https://api.github.com/repos/mralexgray/AGNSSplitView/{archive_format}{/ref}', 'downloads_url': 'https://api.github.com/repos/mralexgray/AGNSSplitView/downloads', 'issues_url': 'https://api.github.com/repos/mralexgray/AGNSSplitView/issues{/number}', 'pulls_url': 'https://api.github.com/repos/mralexgray/AGNSSplitView/pulls{/number}', 'milestones_url': 'https://api.github.com/repos/mralexgray/AGNSSplitView/milestones{/number}', 'notifications_url': 'https://api.github.com/repos/mralexgray/AGNSSplitView/notifications{?since,all,participating}', 'labels_url': 'https://api.github.com/repos/mralexgray/AGNSSplitView/labels{/name}', 'releases_url': 'https://api.github.com/repos/mralexgray/AGNSSplitView/releases{/id}', 'deployments_url': 'https://api.github.com/repos/mralexgray/AGNSSplitView/deployments', 'created_at': '2013-04-17T00:10:13Z', 'updated_at': '2013-04-17T00:10:13Z', 'pushed_at': '2013-02-26T00:32:32Z', 'git_url': 'git://github.com/mralexgray/AGNSSplitView.git', 'ssh_url': 'git@github.com:mralexgray/AGNSSplitView.git', 'clone_url': 'https://github.com/mralexgray/AGNSSplitView.git', 'svn_url': 'https://github.com/mralexgray/AGNSSplitView', 'homepage': None, 'size': 68, 'stargazers_count': 0, 'watchers_count': 0, 'language': 'Objective-C', 'has_issues': False, 'has_projects': True, 'has_downloads': True, 'has_wiki': True, 'has_pages': False, 'has_discussions': False, 'forks_count': 0, 'mirror_url': None, 'archived': False, 'disabled': False, 'open_issues_count': 0, 'license': None, 'allow_forking': True, 'is_template': False, 'web_commit_signoff_required': False, 'topics': [], 'visibility': 'public', 'forks': 0, 'open_issues': 0, 'watchers': 0, 'default_branch': 'master'}, {'id': 12767784, 'node_id': 'MDEwOlJlcG9zaXRvcnkxMjc2Nzc4NA==', 'name': 'AGScopeBar', 'full_name': 'mralexgray/AGScopeBar', 'private': False, 'owner': {'login': 'mralexgray', 'id': 262517, 'node_id': 'MDQ6VXNlcjI2MjUxNw==', 'avatar_url': 'https://avatars.githubusercontent.com/u/262517?v=4', 'gravatar_id': '', 'url': 'https://api.github.com/users/mralexgray', 'html_url': 'https://github.com/mralexgray', 'followers_url': 'https://api.github.com/users/mralexgray/followers', 'following_url': 'https://api.github.com/users/mralexgray/following{/other_user}', 'gists_url': 'https://api.github.com/users/mralexgray/gists{/gist_id}', 'starred_url': 'https://api.github.com/users/mralexgray/starred{/owner}{/repo}', 'subscriptions_url': 'https://api.github.com/users/mralexgray/subscriptions', 'organizations_url': 'https://api.github.com/users/mralexgray/orgs', 'repos_url': 'https://api.github.com/users/mralexgray/repos', 'events_url': 'https://api.github.com/users/mralexgray/events{/privacy}', 'received_events_url': 'https://api.github.com/users/mralexgray/received_events', 'type': 'User', 'site_admin': False}, 'html_url': 'https://github.com/mralexgray/AGScopeBar', 'description': 'Custom scope bar implementation for Cocoa', 'fork': True, 'url': 'https://api.github.com/repos/mralexgray/AGScopeBar', 'forks_url': 'https://api.github.com/repos/mralexgray/AGScopeBar/forks', 'keys_url': 'https://api.github.com/repos/mralexgray/AGScopeBar/keys{/key_id}', 'collaborators_url': 'https://api.github.com/repos/mralexgray/AGScopeBar/collaborators{/collaborator}', 'teams_url': 'https://api.github.com/repos/mralexgray/AGScopeBar/teams', 'hooks_url': 'https://api.github.com/repos/mralexgray/AGScopeBar/hooks', 'issue_events_url': 'https://api.github.com/repos/mralexgray/AGScopeBar/issues/events{/number}', 'events_url': 'https://api.github.com/repos/mralexgray/AGScopeBar/events', 'assignees_url': 'https://api.github.com/repos/mralexgray/AGScopeBar/assignees{/user}', 'branches_url': 'https://api.github.com/repos/mralexgray/AGScopeBar/branches{/branch}', 'tags_url': 'https://api.github.com/repos/mralexgray/AGScopeBar/tags', 'blobs_url': 'https://api.github.com/repos/mralexgray/AGScopeBar/git/blobs{/sha}', 'git_tags_url': 'https://api.github.com/repos/mralexgray/AGScopeBar/git/tags{/sha}', 'git_refs_url': 'https://api.github.com/repos/mralexgray/AGScopeBar/git/refs{/sha}', 'trees_url': 'https://api.github.com/repos/mralexgray/AGScopeBar/git/trees{/sha}', 'statuses_url': 'https://api.github.com/repos/mralexgray/AGScopeBar/statuses/{sha}', 'languages_url': 'https://api.github.com/repos/mralexgray/AGScopeBar/languages', 'stargazers_url': 'https://api.github.com/repos/mralexgray/AGScopeBar/stargazers', 'contributors_url': 'https://api.github.com/repos/mralexgray/AGScopeBar/contributors', 'subscribers_url': 'https://api.github.com/repos/mralexgray/AGScopeBar/subscribers', 'subscription_url': 'https://api.github.com/repos/mralexgray/AGScopeBar/subscription', 'commits_url': 'https://api.github.com/repos/mralexgray/AGScopeBar/commits{/sha}', 'git_commits_url': 'https://api.github.com/repos/mralexgray/AGScopeBar/git/commits{/sha}', 'comments_url': 'https://api.github.com/repos/mralexgray/AGScopeBar/comments{/number}', 'issue_comment_url': 'https://api.github.com/repos/mralexgray/AGScopeBar/issues/comments{/number}', 'contents_url': 'https://api.github.com/repos/mralexgray/AGScopeBar/contents/{+path}', 'compare_url': 'https://api.github.com/repos/mralexgray/AGScopeBar/compare/{base}...{head}', 'merges_url': 'https://api.github.com/repos/mralexgray/AGScopeBar/merges', 'archive_url': 'https://api.github.com/repos/mralexgray/AGScopeBar/{archive_format}{/ref}', 'downloads_url': 'https://api.github.com/repos/mralexgray/AGScopeBar/downloads', 'issues_url': 'https://api.github.com/repos/mralexgray/AGScopeBar/issues{/number}', 'pulls_url': 'https://api.github.com/repos/mralexgray/AGScopeBar/pulls{/number}', 'milestones_url': 'https://api.github.com/repos/mralexgray/AGScopeBar/milestones{/number}', 'notifications_url': 'https://api.github.com/repos/mralexgray/AGScopeBar/notifications{?since,all,participating}', 'labels_url': 'https://api.github.com/repos/mralexgray/AGScopeBar/labels{/name}', 'releases_url': 'https://api.github.com/repos/mralexgray/AGScopeBar/releases{/id}', 'deployments_url': 'https://api.github.com/repos/mralexgray/AGScopeBar/deployments', 'created_at': '2013-09-11T21:06:54Z', 'updated_at': '2013-09-11T21:06:54Z', 'pushed_at': '2013-05-07T03:35:29Z', 'git_url': 'git://github.com/mralexgray/AGScopeBar.git', 'ssh_url': 'git@github.com:mralexgray/AGScopeBar.git', 'clone_url': 'https://github.com/mralexgray/AGScopeBar.git', 'svn_url': 'https://github.com/mralexgray/AGScopeBar', 'homepage': None, 'size': 64, 'stargazers_count': 0, 'watchers_count': 0, 'language': 'Objective-C', 'has_issues': False, 'has_projects': True, 'has_downloads': True, 'has_wiki': True, 'has_pages': False, 'has_discussions': False, 'forks_count': 0, 'mirror_url': None, 'archived': False, 'disabled': False, 'open_issues_count': 0, 'license': None, 'allow_forking': True, 'is_template': False, 'web_commit_signoff_required': False, 'topics': [], 'visibility': 'public', 'forks': 0, 'open_issues': 0, 'watchers': 0, 'default_branch': 'master'}, {'id': 31829499, 'node_id': 'MDEwOlJlcG9zaXRvcnkzMTgyOTQ5OQ==', 'name': 'agvtool-xcode-plugin', 'full_name': 'mralexgray/agvtool-xcode-plugin', 'private': False, 'owner': {'login': 'mralexgray', 'id': 262517, 'node_id': 'MDQ6VXNlcjI2MjUxNw==', 'avatar_url': 'https://avatars.githubusercontent.com/u/262517?v=4', 'gravatar_id': '', 'url': 'https://api.github.com/users/mralexgray', 'html_url': 'https://github.com/mralexgray', 'followers_url': 'https://api.github.com/users/mralexgray/followers', 'following_url': 'https://api.github.com/users/mralexgray/following{/other_user}', 'gists_url': 'https://api.github.com/users/mralexgray/gists{/gist_id}', 'starred_url': 'https://api.github.com/users/mralexgray/starred{/owner}{/repo}', 'subscriptions_url': 'https://api.github.com/users/mralexgray/subscriptions', 'organizations_url': 'https://api.github.com/users/mralexgray/orgs', 'repos_url': 'https://api.github.com/users/mralexgray/repos', 'events_url': 'https://api.github.com/users/mralexgray/events{/privacy}', 'received_events_url': 'https://api.github.com/users/mralexgray/received_events', 'type': 'User', 'site_admin': False}, 'html_url': 'https://github.com/mralexgray/agvtool-xcode-plugin', 'description': 'this is a plugin wrapper for agvtool for xcode.', 'fork': True, 'url': 'https://api.github.com/repos/mralexgray/agvtool-xcode-plugin', 'forks_url': 'https://api.github.com/repos/mralexgray/agvtool-xcode-plugin/forks', 'keys_url': 'https://api.github.com/repos/mralexgray/agvtool-xcode-plugin/keys{/key_id}', 'collaborators_url': 'https://api.github.com/repos/mralexgray/agvtool-xcode-plugin/collaborators{/collaborator}', 'teams_url': 'https://api.github.com/repos/mralexgray/agvtool-xcode-plugin/teams', 'hooks_url': 'https://api.github.com/repos/mralexgray/agvtool-xcode-plugin/hooks', 'issue_events_url': 'https://api.github.com/repos/mralexgray/agvtool-xcode-plugin/issues/events{/number}', 'events_url': 'https://api.github.com/repos/mralexgray/agvtool-xcode-plugin/events', 'assignees_url': 'https://api.github.com/repos/mralexgray/agvtool-xcode-plugin/assignees{/user}', 'branches_url': 'https://api.github.com/repos/mralexgray/agvtool-xcode-plugin/branches{/branch}', 'tags_url': 'https://api.github.com/repos/mralexgray/agvtool-xcode-plugin/tags', 'blobs_url': 'https://api.github.com/repos/mralexgray/agvtool-xcode-plugin/git/blobs{/sha}', 'git_tags_url': 'https://api.github.com/repos/mralexgray/agvtool-xcode-plugin/git/tags{/sha}', 'git_refs_url': 'https://api.github.com/repos/mralexgray/agvtool-xcode-plugin/git/refs{/sha}', 'trees_url': 'https://api.github.com/repos/mralexgray/agvtool-xcode-plugin/git/trees{/sha}', 'statuses_url': 'https://api.github.com/repos/mralexgray/agvtool-xcode-plugin/statuses/{sha}', 'languages_url': 'https://api.github.com/repos/mralexgray/agvtool-xcode-plugin/languages', 'stargazers_url': 'https://api.github.com/repos/mralexgray/agvtool-xcode-plugin/stargazers', 'contributors_url': 'https://api.github.com/repos/mralexgray/agvtool-xcode-plugin/contributors', 'subscribers_url': 'https://api.github.com/repos/mralexgray/agvtool-xcode-plugin/subscribers', 'subscription_url': 'https://api.github.com/repos/mralexgray/agvtool-xcode-plugin/subscription', 'commits_url': 'https://api.github.com/repos/mralexgray/agvtool-xcode-plugin/commits{/sha}', 'git_commits_url': 'https://api.github.com/repos/mralexgray/agvtool-xcode-plugin/git/commits{/sha}', 'comments_url': 'https://api.github.com/repos/mralexgray/agvtool-xcode-plugin/comments{/number}', 'issue_comment_url': 'https://api.github.com/repos/mralexgray/agvtool-xcode-plugin/issues/comments{/number}', 'contents_url': 'https://api.github.com/repos/mralexgray/agvtool-xcode-plugin/contents/{+path}', 'compare_url': 'https://api.github.com/repos/mralexgray/agvtool-xcode-plugin/compare/{base}...{head}', 'merges_url': 'https://api.github.com/repos/mralexgray/agvtool-xcode-plugin/merges', 'archive_url': 'https://api.github.com/repos/mralexgray/agvtool-xcode-plugin/{archive_format}{/ref}', 'downloads_url': 'https://api.github.com/repos/mralexgray/agvtool-xcode-plugin/downloads', 'issues_url': 'https://api.github.com/repos/mralexgray/agvtool-xcode-plugin/issues{/number}', 'pulls_url': 'https://api.github.com/repos/mralexgray/agvtool-xcode-plugin/pulls{/number}', 'milestones_url': 'https://api.github.com/repos/mralexgray/agvtool-xcode-plugin/milestones{/number}', 'notifications_url': 'https://api.github.com/repos/mralexgray/agvtool-xcode-plugin/notifications{?since,all,participating}', 'labels_url': 'https://api.github.com/repos/mralexgray/agvtool-xcode-plugin/labels{/name}', 'releases_url': 'https://api.github.com/repos/mralexgray/agvtool-xcode-plugin/releases{/id}', 'deployments_url': 'https://api.github.com/repos/mralexgray/agvtool-xcode-plugin/deployments', 'created_at': '2015-03-07T22:15:38Z', 'updated_at': '2015-03-07T22:15:41Z', 'pushed_at': '2015-03-08T00:04:31Z', 'git_url': 'git://github.com/mralexgray/agvtool-xcode-plugin.git', 'ssh_url': 'git@github.com:mralexgray/agvtool-xcode-plugin.git', 'clone_url': 'https://github.com/mralexgray/agvtool-xcode-plugin.git', 'svn_url': 'https://github.com/mralexgray/agvtool-xcode-plugin', 'homepage': None, 'size': 102, 'stargazers_count': 0, 'watchers_count': 0, 'language': 'Objective-C', 'has_issues': False, 'has_projects': True, 'has_downloads': True, 'has_wiki': True, 'has_pages': False, 'has_discussions': False, 'forks_count': 0, 'mirror_url': None, 'archived': False, 'disabled': False, 'open_issues_count': 0, 'license': None, 'allow_forking': True, 'is_template': False, 'web_commit_signoff_required': False, 'topics': [], 'visibility': 'public', 'forks': 0, 'open_issues': 0, 'watchers': 0, 'default_branch': 'master'}, {'id': 9227846, 'node_id': 'MDEwOlJlcG9zaXRvcnk5MjI3ODQ2', 'name': 'AHContentBrowser', 'full_name': 'mralexgray/AHContentBrowser', 'private': False, 'owner': {'login': 'mralexgray', 'id': 262517, 'node_id': 'MDQ6VXNlcjI2MjUxNw==', 'avatar_url': 'https://avatars.githubusercontent.com/u/262517?v=4', 'gravatar_id': '', 'url': 'https://api.github.com/users/mralexgray', 'html_url': 'https://github.com/mralexgray', 'followers_url': 'https://api.github.com/users/mralexgray/followers', 'following_url': 'https://api.github.com/users/mralexgray/following{/other_user}', 'gists_url': 'https://api.github.com/users/mralexgray/gists{/gist_id}', 'starred_url': 'https://api.github.com/users/mralexgray/starred{/owner}{/repo}', 'subscriptions_url': 'https://api.github.com/users/mralexgray/subscriptions', 'organizations_url': 'https://api.github.com/users/mralexgray/orgs', 'repos_url': 'https://api.github.com/users/mralexgray/repos', 'events_url': 'https://api.github.com/users/mralexgray/events{/privacy}', 'received_events_url': 'https://api.github.com/users/mralexgray/received_events', 'type': 'User', 'site_admin': False}, 'html_url': 'https://github.com/mralexgray/AHContentBrowser', 'description': 'A Mac only webview that loads a fast readable version of the website if available.', 'fork': True, 'url': 'https://api.github.com/repos/mralexgray/AHContentBrowser', 'forks_url': 'https://api.github.com/repos/mralexgray/AHContentBrowser/forks', 'keys_url': 'https://api.github.com/repos/mralexgray/AHContentBrowser/keys{/key_id}', 'collaborators_url': 'https://api.github.com/repos/mralexgray/AHContentBrowser/collaborators{/collaborator}', 'teams_url': 'https://api.github.com/repos/mralexgray/AHContentBrowser/teams', 'hooks_url': 'https://api.github.com/repos/mralexgray/AHContentBrowser/hooks', 'issue_events_url': 'https://api.github.com/repos/mralexgray/AHContentBrowser/issues/events{/number}', 'events_url': 'https://api.github.com/repos/mralexgray/AHContentBrowser/events', 'assignees_url': 'https://api.github.com/repos/mralexgray/AHContentBrowser/assignees{/user}', 'branches_url': 'https://api.github.com/repos/mralexgray/AHContentBrowser/branches{/branch}', 'tags_url': 'https://api.github.com/repos/mralexgray/AHContentBrowser/tags', 'blobs_url': 'https://api.github.com/repos/mralexgray/AHContentBrowser/git/blobs{/sha}', 'git_tags_url': 'https://api.github.com/repos/mralexgray/AHContentBrowser/git/tags{/sha}', 'git_refs_url': 'https://api.github.com/repos/mralexgray/AHContentBrowser/git/refs{/sha}', 'trees_url': 'https://api.github.com/repos/mralexgray/AHContentBrowser/git/trees{/sha}', 'statuses_url': 'https://api.github.com/repos/mralexgray/AHContentBrowser/statuses/{sha}', 'languages_url': 'https://api.github.com/repos/mralexgray/AHContentBrowser/languages', 'stargazers_url': 'https://api.github.com/repos/mralexgray/AHContentBrowser/stargazers', 'contributors_url': 'https://api.github.com/repos/mralexgray/AHContentBrowser/contributors', 'subscribers_url': 'https://api.github.com/repos/mralexgray/AHContentBrowser/subscribers', 'subscription_url': 'https://api.github.com/repos/mralexgray/AHContentBrowser/subscription', 'commits_url': 'https://api.github.com/repos/mralexgray/AHContentBrowser/commits{/sha}', 'git_commits_url': 'https://api.github.com/repos/mralexgray/AHContentBrowser/git/commits{/sha}', 'comments_url': 'https://api.github.com/repos/mralexgray/AHContentBrowser/comments{/number}', 'issue_comment_url': 'https://api.github.com/repos/mralexgray/AHContentBrowser/issues/comments{/number}', 'contents_url': 'https://api.github.com/repos/mralexgray/AHContentBrowser/contents/{+path}', 'compare_url': 'https://api.github.com/repos/mralexgray/AHContentBrowser/compare/{base}...{head}', 'merges_url': 'https://api.github.com/repos/mralexgray/AHContentBrowser/merges', 'archive_url': 'https://api.github.com/repos/mralexgray/AHContentBrowser/{archive_format}{/ref}', 'downloads_url': 'https://api.github.com/repos/mralexgray/AHContentBrowser/downloads', 'issues_url': 'https://api.github.com/repos/mralexgray/AHContentBrowser/issues{/number}', 'pulls_url': 'https://api.github.com/repos/mralexgray/AHContentBrowser/pulls{/number}', 'milestones_url': 'https://api.github.com/repos/mralexgray/AHContentBrowser/milestones{/number}', 'notifications_url': 'https://api.github.com/repos/mralexgray/AHContentBrowser/notifications{?since,all,participating}', 'labels_url': 'https://api.github.com/repos/mralexgray/AHContentBrowser/labels{/name}', 'releases_url': 'https://api.github.com/repos/mralexgray/AHContentBrowser/releases{/id}', 'deployments_url': 'https://api.github.com/repos/mralexgray/AHContentBrowser/deployments', 'created_at': '2013-04-04T20:56:16Z', 'updated_at': '2015-10-22T05:00:24Z', 'pushed_at': '2013-03-13T17:38:23Z', 'git_url': 'git://github.com/mralexgray/AHContentBrowser.git', 'ssh_url': 'git@github.com:mralexgray/AHContentBrowser.git', 'clone_url': 'https://github.com/mralexgray/AHContentBrowser.git', 'svn_url': 'https://github.com/mralexgray/AHContentBrowser', 'homepage': '', 'size': 223, 'stargazers_count': 0, 'watchers_count': 0, 'language': 'Objective-C', 'has_issues': False, 'has_projects': True, 'has_downloads': True, 'has_wiki': True, 'has_pages': False, 'has_discussions': False, 'forks_count': 0, 'mirror_url': None, 'archived': False, 'disabled': False, 'open_issues_count': 0, 'license': None, 'allow_forking': True, 'is_template': False, 'web_commit_signoff_required': False, 'topics': [], 'visibility': 'public', 'forks': 0, 'open_issues': 0, 'watchers': 0, 'default_branch': 'master'}, {'id': 37430328, 'node_id': 'MDEwOlJlcG9zaXRvcnkzNzQzMDMyOA==', 'name': 'AHLaunchCtl', 'full_name': 'mralexgray/AHLaunchCtl', 'private': False, 'owner': {'login': 'mralexgray', 'id': 262517, 'node_id': 'MDQ6VXNlcjI2MjUxNw==', 'avatar_url': 'https://avatars.githubusercontent.com/u/262517?v=4', 'gravatar_id': '', 'url': 'https://api.github.com/users/mralexgray', 'html_url': 'https://github.com/mralexgray', 'followers_url': 'https://api.github.com/users/mralexgray/followers', 'following_url': 'https://api.github.com/users/mralexgray/following{/other_user}', 'gists_url': 'https://api.github.com/users/mralexgray/gists{/gist_id}', 'starred_url': 'https://api.github.com/users/mralexgray/starred{/owner}{/repo}', 'subscriptions_url': 'https://api.github.com/users/mralexgray/subscriptions', 'organizations_url': 'https://api.github.com/users/mralexgray/orgs', 'repos_url': 'https://api.github.com/users/mralexgray/repos', 'events_url': 'https://api.github.com/users/mralexgray/events{/privacy}', 'received_events_url': 'https://api.github.com/users/mralexgray/received_events', 'type': 'User', 'site_admin': False}, 'html_url': 'https://github.com/mralexgray/AHLaunchCtl', 'description': 'LaunchD Framework for Cocoa Apps', 'fork': True, 'url': 'https://api.github.com/repos/mralexgray/AHLaunchCtl', 'forks_url': 'https://api.github.com/repos/mralexgray/AHLaunchCtl/forks', 'keys_url': 'https://api.github.com/repos/mralexgray/AHLaunchCtl/keys{/key_id}', 'collaborators_url': 'https://api.github.com/repos/mralexgray/AHLaunchCtl/collaborators{/collaborator}', 'teams_url': 'https://api.github.com/repos/mralexgray/AHLaunchCtl/teams', 'hooks_url': 'https://api.github.com/repos/mralexgray/AHLaunchCtl/hooks', 'issue_events_url': 'https://api.github.com/repos/mralexgray/AHLaunchCtl/issues/events{/number}', 'events_url': 'https://api.github.com/repos/mralexgray/AHLaunchCtl/events', 'assignees_url': 'https://api.github.com/repos/mralexgray/AHLaunchCtl/assignees{/user}', 'branches_url': 'https://api.github.com/repos/mralexgray/AHLaunchCtl/branches{/branch}', 'tags_url': 'https://api.github.com/repos/mralexgray/AHLaunchCtl/tags', 'blobs_url': 'https://api.github.com/repos/mralexgray/AHLaunchCtl/git/blobs{/sha}', 'git_tags_url': 'https://api.github.com/repos/mralexgray/AHLaunchCtl/git/tags{/sha}', 'git_refs_url': 'https://api.github.com/repos/mralexgray/AHLaunchCtl/git/refs{/sha}', 'trees_url': 'https://api.github.com/repos/mralexgray/AHLaunchCtl/git/trees{/sha}', 'statuses_url': 'https://api.github.com/repos/mralexgray/AHLaunchCtl/statuses/{sha}', 'languages_url': 'https://api.github.com/repos/mralexgray/AHLaunchCtl/languages', 'stargazers_url': 'https://api.github.com/repos/mralexgray/AHLaunchCtl/stargazers', 'contributors_url': 'https://api.github.com/repos/mralexgray/AHLaunchCtl/contributors', 'subscribers_url': 'https://api.github.com/repos/mralexgray/AHLaunchCtl/subscribers', 'subscription_url': 'https://api.github.com/repos/mralexgray/AHLaunchCtl/subscription', 'commits_url': 'https://api.github.com/repos/mralexgray/AHLaunchCtl/commits{/sha}', 'git_commits_url': 'https://api.github.com/repos/mralexgray/AHLaunchCtl/git/commits{/sha}', 'comments_url': 'https://api.github.com/repos/mralexgray/AHLaunchCtl/comments{/number}', 'issue_comment_url': 'https://api.github.com/repos/mralexgray/AHLaunchCtl/issues/comments{/number}', 'contents_url': 'https://api.github.com/repos/mralexgray/AHLaunchCtl/contents/{+path}', 'compare_url': 'https://api.github.com/repos/mralexgray/AHLaunchCtl/compare/{base}...{head}', 'merges_url': 'https://api.github.com/repos/mralexgray/AHLaunchCtl/merges', 'archive_url': 'https://api.github.com/repos/mralexgray/AHLaunchCtl/{archive_format}{/ref}', 'downloads_url': 'https://api.github.com/repos/mralexgray/AHLaunchCtl/downloads', 'issues_url': 'https://api.github.com/repos/mralexgray/AHLaunchCtl/issues{/number}', 'pulls_url': 'https://api.github.com/repos/mralexgray/AHLaunchCtl/pulls{/number}', 'milestones_url': 'https://api.github.com/repos/mralexgray/AHLaunchCtl/milestones{/number}', 'notifications_url': 'https://api.github.com/repos/mralexgray/AHLaunchCtl/notifications{?since,all,participating}', 'labels_url': 'https://api.github.com/repos/mralexgray/AHLaunchCtl/labels{/name}', 'releases_url': 'https://api.github.com/repos/mralexgray/AHLaunchCtl/releases{/id}', 'deployments_url': 'https://api.github.com/repos/mralexgray/AHLaunchCtl/deployments', 'created_at': '2015-06-14T21:31:03Z', 'updated_at': '2015-06-14T21:31:04Z', 'pushed_at': '2015-05-26T18:50:48Z', 'git_url': 'git://github.com/mralexgray/AHLaunchCtl.git', 'ssh_url': 'git@github.com:mralexgray/AHLaunchCtl.git', 'clone_url': 'https://github.com/mralexgray/AHLaunchCtl.git', 'svn_url': 'https://github.com/mralexgray/AHLaunchCtl', 'homepage': '', 'size': 592, 'stargazers_count': 0, 'watchers_count': 0, 'language': 'Objective-C', 'has_issues': False, 'has_projects': True, 'has_downloads': True, 'has_wiki': True, 'has_pages': False, 'has_discussions': False, 'forks_count': 0, 'mirror_url': None, 'archived': False, 'disabled': False, 'open_issues_count': 0, 'license': {'key': 'mit', 'name': 'MIT License', 'spdx_id': 'MIT', 'url': 'https://api.github.com/licenses/mit', 'node_id': 'MDc6TGljZW5zZTEz'}, 'allow_forking': True, 'is_template': False, 'web_commit_signoff_required': False, 'topics': [], 'visibility': 'public', 'forks': 0, 'open_issues': 0, 'watchers': 0, 'default_branch': 'master'}, {'id': 9167473, 'node_id': 'MDEwOlJlcG9zaXRvcnk5MTY3NDcz', 'name': 'AHLayout', 'full_name': 'mralexgray/AHLayout', 'private': False, 'owner': {'login': 'mralexgray', 'id': 262517, 'node_id': 'MDQ6VXNlcjI2MjUxNw==', 'avatar_url': 'https://avatars.githubusercontent.com/u/262517?v=4', 'gravatar_id': '', 'url': 'https://api.github.com/users/mralexgray', 'html_url': 'https://github.com/mralexgray', 'followers_url': 'https://api.github.com/users/mralexgray/followers', 'following_url': 'https://api.github.com/users/mralexgray/following{/other_user}', 'gists_url': 'https://api.github.com/users/mralexgray/gists{/gist_id}', 'starred_url': 'https://api.github.com/users/mralexgray/starred{/owner}{/repo}', 'subscriptions_url': 'https://api.github.com/users/mralexgray/subscriptions', 'organizations_url': 'https://api.github.com/users/mralexgray/orgs', 'repos_url': 'https://api.github.com/users/mralexgray/repos', 'events_url': 'https://api.github.com/users/mralexgray/events{/privacy}', 'received_events_url': 'https://api.github.com/users/mralexgray/received_events', 'type': 'User', 'site_admin': False}, 'html_url': 'https://github.com/mralexgray/AHLayout', 'description': 'AHLayout', 'fork': True, 'url': 'https://api.github.com/repos/mralexgray/AHLayout', 'forks_url': 'https://api.github.com/repos/mralexgray/AHLayout/forks', 'keys_url': 'https://api.github.com/repos/mralexgray/AHLayout/keys{/key_id}', 'collaborators_url': 'https://api.github.com/repos/mralexgray/AHLayout/collaborators{/collaborator}', 'teams_url': 'https://api.github.com/repos/mralexgray/AHLayout/teams', 'hooks_url': 'https://api.github.com/repos/mralexgray/AHLayout/hooks', 'issue_events_url': 'https://api.github.com/repos/mralexgray/AHLayout/issues/events{/number}', 'events_url': 'https://api.github.com/repos/mralexgray/AHLayout/events', 'assignees_url': 'https://api.github.com/repos/mralexgray/AHLayout/assignees{/user}', 'branches_url': 'https://api.github.com/repos/mralexgray/AHLayout/branches{/branch}', 'tags_url': 'https://api.github.com/repos/mralexgray/AHLayout/tags', 'blobs_url': 'https://api.github.com/repos/mralexgray/AHLayout/git/blobs{/sha}', 'git_tags_url': 'https://api.github.com/repos/mralexgray/AHLayout/git/tags{/sha}', 'git_refs_url': 'https://api.github.com/repos/mralexgray/AHLayout/git/refs{/sha}', 'trees_url': 'https://api.github.com/repos/mralexgray/AHLayout/git/trees{/sha}', 'statuses_url': 'https://api.github.com/repos/mralexgray/AHLayout/statuses/{sha}', 'languages_url': 'https://api.github.com/repos/mralexgray/AHLayout/languages', 'stargazers_url': 'https://api.github.com/repos/mralexgray/AHLayout/stargazers', 'contributors_url': 'https://api.github.com/repos/mralexgray/AHLayout/contributors', 'subscribers_url': 'https://api.github.com/repos/mralexgray/AHLayout/subscribers', 'subscription_url': 'https://api.github.com/repos/mralexgray/AHLayout/subscription', 'commits_url': 'https://api.github.com/repos/mralexgray/AHLayout/commits{/sha}', 'git_commits_url': 'https://api.github.com/repos/mralexgray/AHLayout/git/commits{/sha}', 'comments_url': 'https://api.github.com/repos/mralexgray/AHLayout/comments{/number}', 'issue_comment_url': 'https://api.github.com/repos/mralexgray/AHLayout/issues/comments{/number}', 'contents_url': 'https://api.github.com/repos/mralexgray/AHLayout/contents/{+path}', 'compare_url': 'https://api.github.com/repos/mralexgray/AHLayout/compare/{base}...{head}', 'merges_url': 'https://api.github.com/repos/mralexgray/AHLayout/merges', 'archive_url': 'https://api.github.com/repos/mralexgray/AHLayout/{archive_format}{/ref}', 'downloads_url': 'https://api.github.com/repos/mralexgray/AHLayout/downloads', 'issues_url': 'https://api.github.com/repos/mralexgray/AHLayout/issues{/number}', 'pulls_url': 'https://api.github.com/repos/mralexgray/AHLayout/pulls{/number}', 'milestones_url': 'https://api.github.com/repos/mralexgray/AHLayout/milestones{/number}', 'notifications_url': 'https://api.github.com/repos/mralexgray/AHLayout/notifications{?since,all,participating}', 'labels_url': 'https://api.github.com/repos/mralexgray/AHLayout/labels{/name}', 'releases_url': 'https://api.github.com/repos/mralexgray/AHLayout/releases{/id}', 'deployments_url': 'https://api.github.com/repos/mralexgray/AHLayout/deployments', 'created_at': '2013-04-02T10:10:30Z', 'updated_at': '2013-07-08T02:31:17Z', 'pushed_at': '2013-07-08T02:31:14Z', 'git_url': 'git://github.com/mralexgray/AHLayout.git', 'ssh_url': 'git@github.com:mralexgray/AHLayout.git', 'clone_url': 'https://github.com/mralexgray/AHLayout.git', 'svn_url': 'https://github.com/mralexgray/AHLayout', 'homepage': None, 'size': 359, 'stargazers_count': 0, 'watchers_count': 0, 'language': 'Objective-C', 'has_issues': False, 'has_projects': True, 'has_downloads': True, 'has_wiki': True, 'has_pages': False, 'has_discussions': False, 'forks_count': 0, 'mirror_url': None, 'archived': False, 'disabled': False, 'open_issues_count': 0, 'license': None, 'allow_forking': True, 'is_template': False, 'web_commit_signoff_required': False, 'topics': [], 'visibility': 'public', 'forks': 0, 'open_issues': 0, 'watchers': 0, 'default_branch': 'master'}, {'id': 18450201, 'node_id': 'MDEwOlJlcG9zaXRvcnkxODQ1MDIwMQ==', 'name': 'Airmail-Plug-In-Framework', 'full_name': 'mralexgray/Airmail-Plug-In-Framework', 'private': False, 'owner': {'login': 'mralexgray', 'id': 262517, 'node_id': 'MDQ6VXNlcjI2MjUxNw==', 'avatar_url': 'https://avatars.githubusercontent.com/u/262517?v=4', 'gravatar_id': '', 'url': 'https://api.github.com/users/mralexgray', 'html_url': 'https://github.com/mralexgray', 'followers_url': 'https://api.github.com/users/mralexgray/followers', 'following_url': 'https://api.github.com/users/mralexgray/following{/other_user}', 'gists_url': 'https://api.github.com/users/mralexgray/gists{/gist_id}', 'starred_url': 'https://api.github.com/users/mralexgray/starred{/owner}{/repo}', 'subscriptions_url': 'https://api.github.com/users/mralexgray/subscriptions', 'organizations_url': 'https://api.github.com/users/mralexgray/orgs', 'repos_url': 'https://api.github.com/users/mralexgray/repos', 'events_url': 'https://api.github.com/users/mralexgray/events{/privacy}', 'received_events_url': 'https://api.github.com/users/mralexgray/received_events', 'type': 'User', 'site_admin': False}, 'html_url': 'https://github.com/mralexgray/Airmail-Plug-In-Framework', 'description': None, 'fork': True, 'url': 'https://api.github.com/repos/mralexgray/Airmail-Plug-In-Framework', 'forks_url': 'https://api.github.com/repos/mralexgray/Airmail-Plug-In-Framework/forks', 'keys_url': 'https://api.github.com/repos/mralexgray/Airmail-Plug-In-Framework/keys{/key_id}', 'collaborators_url': 'https://api.github.com/repos/mralexgray/Airmail-Plug-In-Framework/collaborators{/collaborator}', 'teams_url': 'https://api.github.com/repos/mralexgray/Airmail-Plug-In-Framework/teams', 'hooks_url': 'https://api.github.com/repos/mralexgray/Airmail-Plug-In-Framework/hooks', 'issue_events_url': 'https://api.github.com/repos/mralexgray/Airmail-Plug-In-Framework/issues/events{/number}', 'events_url': 'https://api.github.com/repos/mralexgray/Airmail-Plug-In-Framework/events', 'assignees_url': 'https://api.github.com/repos/mralexgray/Airmail-Plug-In-Framework/assignees{/user}', 'branches_url': 'https://api.github.com/repos/mralexgray/Airmail-Plug-In-Framework/branches{/branch}', 'tags_url': 'https://api.github.com/repos/mralexgray/Airmail-Plug-In-Framework/tags', 'blobs_url': 'https://api.github.com/repos/mralexgray/Airmail-Plug-In-Framework/git/blobs{/sha}', 'git_tags_url': 'https://api.github.com/repos/mralexgray/Airmail-Plug-In-Framework/git/tags{/sha}', 'git_refs_url': 'https://api.github.com/repos/mralexgray/Airmail-Plug-In-Framework/git/refs{/sha}', 'trees_url': 'https://api.github.com/repos/mralexgray/Airmail-Plug-In-Framework/git/trees{/sha}', 'statuses_url': 'https://api.github.com/repos/mralexgray/Airmail-Plug-In-Framework/statuses/{sha}', 'languages_url': 'https://api.github.com/repos/mralexgray/Airmail-Plug-In-Framework/languages', 'stargazers_url': 'https://api.github.com/repos/mralexgray/Airmail-Plug-In-Framework/stargazers', 'contributors_url': 'https://api.github.com/repos/mralexgray/Airmail-Plug-In-Framework/contributors', 'subscribers_url': 'https://api.github.com/repos/mralexgray/Airmail-Plug-In-Framework/subscribers', 'subscription_url': 'https://api.github.com/repos/mralexgray/Airmail-Plug-In-Framework/subscription', 'commits_url': 'https://api.github.com/repos/mralexgray/Airmail-Plug-In-Framework/commits{/sha}', 'git_commits_url': 'https://api.github.com/repos/mralexgray/Airmail-Plug-In-Framework/git/commits{/sha}', 'comments_url': 'https://api.github.com/repos/mralexgray/Airmail-Plug-In-Framework/comments{/number}', 'issue_comment_url': 'https://api.github.com/repos/mralexgray/Airmail-Plug-In-Framework/issues/comments{/number}', 'contents_url': 'https://api.github.com/repos/mralexgray/Airmail-Plug-In-Framework/contents/{+path}', 'compare_url': 'https://api.github.com/repos/mralexgray/Airmail-Plug-In-Framework/compare/{base}...{head}', 'merges_url': 'https://api.github.com/repos/mralexgray/Airmail-Plug-In-Framework/merges', 'archive_url': 'https://api.github.com/repos/mralexgray/Airmail-Plug-In-Framework/{archive_format}{/ref}', 'downloads_url': 'https://api.github.com/repos/mralexgray/Airmail-Plug-In-Framework/downloads', 'issues_url': 'https://api.github.com/repos/mralexgray/Airmail-Plug-In-Framework/issues{/number}', 'pulls_url': 'https://api.github.com/repos/mralexgray/Airmail-Plug-In-Framework/pulls{/number}', 'milestones_url': 'https://api.github.com/repos/mralexgray/Airmail-Plug-In-Framework/milestones{/number}', 'notifications_url': 'https://api.github.com/repos/mralexgray/Airmail-Plug-In-Framework/notifications{?since,all,participating}', 'labels_url': 'https://api.github.com/repos/mralexgray/Airmail-Plug-In-Framework/labels{/name}', 'releases_url': 'https://api.github.com/repos/mralexgray/Airmail-Plug-In-Framework/releases{/id}', 'deployments_url': 'https://api.github.com/repos/mralexgray/Airmail-Plug-In-Framework/deployments', 'created_at': '2014-04-04T19:33:54Z', 'updated_at': '2014-11-23T19:31:04Z', 'pushed_at': '2014-03-27T15:42:19Z', 'git_url': 'git://github.com/mralexgray/Airmail-Plug-In-Framework.git', 'ssh_url': 'git@github.com:mralexgray/Airmail-Plug-In-Framework.git', 'clone_url': 'https://github.com/mralexgray/Airmail-Plug-In-Framework.git', 'svn_url': 'https://github.com/mralexgray/Airmail-Plug-In-Framework', 'homepage': None, 'size': 888, 'stargazers_count': 0, 'watchers_count': 0, 'language': None, 'has_issues': False, 'has_projects': True, 'has_downloads': True, 'has_wiki': True, 'has_pages': False, 'has_discussions': False, 'forks_count': 0, 'mirror_url': None, 'archived': False, 'disabled': False, 'open_issues_count': 0, 'license': {'key': 'gpl-2.0', 'name': 'GNU General Public License v2.0', 'spdx_id': 'GPL-2.0', 'url': 'https://api.github.com/licenses/gpl-2.0', 'node_id': 'MDc6TGljZW5zZTg='}, 'allow_forking': True, 'is_template': False, 'web_commit_signoff_required': False, 'topics': [], 'visibility': 'public', 'forks': 0, 'open_issues': 0, 'watchers': 0, 'default_branch': 'master'}, {'id': 5203219, 'node_id': 'MDEwOlJlcG9zaXRvcnk1MjAzMjE5', 'name': 'AJS-iTunes-API', 'full_name': 'mralexgray/AJS-iTunes-API', 'private': False, 'owner': {'login': 'mralexgray', 'id': 262517, 'node_id': 'MDQ6VXNlcjI2MjUxNw==', 'avatar_url': 'https://avatars.githubusercontent.com/u/262517?v=4', 'gravatar_id': '', 'url': 'https://api.github.com/users/mralexgray', 'html_url': 'https://github.com/mralexgray', 'followers_url': 'https://api.github.com/users/mralexgray/followers', 'following_url': 'https://api.github.com/users/mralexgray/following{/other_user}', 'gists_url': 'https://api.github.com/users/mralexgray/gists{/gist_id}', 'starred_url': 'https://api.github.com/users/mralexgray/starred{/owner}{/repo}', 'subscriptions_url': 'https://api.github.com/users/mralexgray/subscriptions', 'organizations_url': 'https://api.github.com/users/mralexgray/orgs', 'repos_url': 'https://api.github.com/users/mralexgray/repos', 'events_url': 'https://api.github.com/users/mralexgray/events{/privacy}', 'received_events_url': 'https://api.github.com/users/mralexgray/received_events', 'type': 'User', 'site_admin': False}, 'html_url': 'https://github.com/mralexgray/AJS-iTunes-API', 'description': 'Cocoa wrapper for the iTunes search API - for iOS and Mac OSX projects', 'fork': True, 'url': 'https://api.github.com/repos/mralexgray/AJS-iTunes-API', 'forks_url': 'https://api.github.com/repos/mralexgray/AJS-iTunes-API/forks', 'keys_url': 'https://api.github.com/repos/mralexgray/AJS-iTunes-API/keys{/key_id}', 'collaborators_url': 'https://api.github.com/repos/mralexgray/AJS-iTunes-API/collaborators{/collaborator}', 'teams_url': 'https://api.github.com/repos/mralexgray/AJS-iTunes-API/teams', 'hooks_url': 'https://api.github.com/repos/mralexgray/AJS-iTunes-API/hooks', 'issue_events_url': 'https://api.github.com/repos/mralexgray/AJS-iTunes-API/issues/events{/number}', 'events_url': 'https://api.github.com/repos/mralexgray/AJS-iTunes-API/events', 'assignees_url': 'https://api.github.com/repos/mralexgray/AJS-iTunes-API/assignees{/user}', 'branches_url': 'https://api.github.com/repos/mralexgray/AJS-iTunes-API/branches{/branch}', 'tags_url': 'https://api.github.com/repos/mralexgray/AJS-iTunes-API/tags', 'blobs_url': 'https://api.github.com/repos/mralexgray/AJS-iTunes-API/git/blobs{/sha}', 'git_tags_url': 'https://api.github.com/repos/mralexgray/AJS-iTunes-API/git/tags{/sha}', 'git_refs_url': 'https://api.github.com/repos/mralexgray/AJS-iTunes-API/git/refs{/sha}', 'trees_url': 'https://api.github.com/repos/mralexgray/AJS-iTunes-API/git/trees{/sha}', 'statuses_url': 'https://api.github.com/repos/mralexgray/AJS-iTunes-API/statuses/{sha}', 'languages_url': 'https://api.github.com/repos/mralexgray/AJS-iTunes-API/languages', 'stargazers_url': 'https://api.github.com/repos/mralexgray/AJS-iTunes-API/stargazers', 'contributors_url': 'https://api.github.com/repos/mralexgray/AJS-iTunes-API/contributors', 'subscribers_url': 'https://api.github.com/repos/mralexgray/AJS-iTunes-API/subscribers', 'subscription_url': 'https://api.github.com/repos/mralexgray/AJS-iTunes-API/subscription', 'commits_url': 'https://api.github.com/repos/mralexgray/AJS-iTunes-API/commits{/sha}', 'git_commits_url': 'https://api.github.com/repos/mralexgray/AJS-iTunes-API/git/commits{/sha}', 'comments_url': 'https://api.github.com/repos/mralexgray/AJS-iTunes-API/comments{/number}', 'issue_comment_url': 'https://api.github.com/repos/mralexgray/AJS-iTunes-API/issues/comments{/number}', 'contents_url': 'https://api.github.com/repos/mralexgray/AJS-iTunes-API/contents/{+path}', 'compare_url': 'https://api.github.com/repos/mralexgray/AJS-iTunes-API/compare/{base}...{head}', 'merges_url': 'https://api.github.com/repos/mralexgray/AJS-iTunes-API/merges', 'archive_url': 'https://api.github.com/repos/mralexgray/AJS-iTunes-API/{archive_format}{/ref}', 'downloads_url': 'https://api.github.com/repos/mralexgray/AJS-iTunes-API/downloads', 'issues_url': 'https://api.github.com/repos/mralexgray/AJS-iTunes-API/issues{/number}', 'pulls_url': 'https://api.github.com/repos/mralexgray/AJS-iTunes-API/pulls{/number}', 'milestones_url': 'https://api.github.com/repos/mralexgray/AJS-iTunes-API/milestones{/number}', 'notifications_url': 'https://api.github.com/repos/mralexgray/AJS-iTunes-API/notifications{?since,all,participating}', 'labels_url': 'https://api.github.com/repos/mralexgray/AJS-iTunes-API/labels{/name}', 'releases_url': 'https://api.github.com/repos/mralexgray/AJS-iTunes-API/releases{/id}', 'deployments_url': 'https://api.github.com/repos/mralexgray/AJS-iTunes-API/deployments', 'created_at': '2012-07-27T10:20:58Z', 'updated_at': '2013-01-11T11:00:05Z', 'pushed_at': '2011-10-30T22:26:48Z', 'git_url': 'git://github.com/mralexgray/AJS-iTunes-API.git', 'ssh_url': 'git@github.com:mralexgray/AJS-iTunes-API.git', 'clone_url': 'https://github.com/mralexgray/AJS-iTunes-API.git', 'svn_url': 'https://github.com/mralexgray/AJS-iTunes-API', 'homepage': '', 'size': 103, 'stargazers_count': 2, 'watchers_count': 2, 'language': 'Objective-C', 'has_issues': False, 'has_projects': True, 'has_downloads': True, 'has_wiki': True, 'has_pages': False, 'has_discussions': False, 'forks_count': 0, 'mirror_url': None, 'archived': False, 'disabled': False, 'open_issues_count': 0, 'license': None, 'allow_forking': True, 'is_template': False, 'web_commit_signoff_required': False, 'topics': [], 'visibility': 'public', 'forks': 0, 'open_issues': 0, 'watchers': 2, 'default_branch': 'master'}, {'id': 10093801, 'node_id': 'MDEwOlJlcG9zaXRvcnkxMDA5MzgwMQ==', 'name': 'Alcatraz', 'full_name': 'mralexgray/Alcatraz', 'private': False, 'owner': {'login': 'mralexgray', 'id': 262517, 'node_id': 'MDQ6VXNlcjI2MjUxNw==', 'avatar_url': 'https://avatars.githubusercontent.com/u/262517?v=4', 'gravatar_id': '', 'url': 'https://api.github.com/users/mralexgray', 'html_url': 'https://github.com/mralexgray', 'followers_url': 'https://api.github.com/users/mralexgray/followers', 'following_url': 'https://api.github.com/users/mralexgray/following{/other_user}', 'gists_url': 'https://api.github.com/users/mralexgray/gists{/gist_id}', 'starred_url': 'https://api.github.com/users/mralexgray/starred{/owner}{/repo}', 'subscriptions_url': 'https://api.github.com/users/mralexgray/subscriptions', 'organizations_url': 'https://api.github.com/users/mralexgray/orgs', 'repos_url': 'https://api.github.com/users/mralexgray/repos', 'events_url': 'https://api.github.com/users/mralexgray/events{/privacy}', 'received_events_url': 'https://api.github.com/users/mralexgray/received_events', 'type': 'User', 'site_admin': False}, 'html_url': 'https://github.com/mralexgray/Alcatraz', 'description': 'The most awesome (and only) Xcode package manager!', 'fork': True, 'url': 'https://api.github.com/repos/mralexgray/Alcatraz', 'forks_url': 'https://api.github.com/repos/mralexgray/Alcatraz/forks', 'keys_url': 'https://api.github.com/repos/mralexgray/Alcatraz/keys{/key_id}', 'collaborators_url': 'https://api.github.com/repos/mralexgray/Alcatraz/collaborators{/collaborator}', 'teams_url': 'https://api.github.com/repos/mralexgray/Alcatraz/teams', 'hooks_url': 'https://api.github.com/repos/mralexgray/Alcatraz/hooks', 'issue_events_url': 'https://api.github.com/repos/mralexgray/Alcatraz/issues/events{/number}', 'events_url': 'https://api.github.com/repos/mralexgray/Alcatraz/events', 'assignees_url': 'https://api.github.com/repos/mralexgray/Alcatraz/assignees{/user}', 'branches_url': 'https://api.github.com/repos/mralexgray/Alcatraz/branches{/branch}', 'tags_url': 'https://api.github.com/repos/mralexgray/Alcatraz/tags', 'blobs_url': 'https://api.github.com/repos/mralexgray/Alcatraz/git/blobs{/sha}', 'git_tags_url': 'https://api.github.com/repos/mralexgray/Alcatraz/git/tags{/sha}', 'git_refs_url': 'https://api.github.com/repos/mralexgray/Alcatraz/git/refs{/sha}', 'trees_url': 'https://api.github.com/repos/mralexgray/Alcatraz/git/trees{/sha}', 'statuses_url': 'https://api.github.com/repos/mralexgray/Alcatraz/statuses/{sha}', 'languages_url': 'https://api.github.com/repos/mralexgray/Alcatraz/languages', 'stargazers_url': 'https://api.github.com/repos/mralexgray/Alcatraz/stargazers', 'contributors_url': 'https://api.github.com/repos/mralexgray/Alcatraz/contributors', 'subscribers_url': 'https://api.github.com/repos/mralexgray/Alcatraz/subscribers', 'subscription_url': 'https://api.github.com/repos/mralexgray/Alcatraz/subscription', 'commits_url': 'https://api.github.com/repos/mralexgray/Alcatraz/commits{/sha}', 'git_commits_url': 'https://api.github.com/repos/mralexgray/Alcatraz/git/commits{/sha}', 'comments_url': 'https://api.github.com/repos/mralexgray/Alcatraz/comments{/number}', 'issue_comment_url': 'https://api.github.com/repos/mralexgray/Alcatraz/issues/comments{/number}', 'contents_url': 'https://api.github.com/repos/mralexgray/Alcatraz/contents/{+path}', 'compare_url': 'https://api.github.com/repos/mralexgray/Alcatraz/compare/{base}...{head}', 'merges_url': 'https://api.github.com/repos/mralexgray/Alcatraz/merges', 'archive_url': 'https://api.github.com/repos/mralexgray/Alcatraz/{archive_format}{/ref}', 'downloads_url': 'https://api.github.com/repos/mralexgray/Alcatraz/downloads', 'issues_url': 'https://api.github.com/repos/mralexgray/Alcatraz/issues{/number}', 'pulls_url': 'https://api.github.com/repos/mralexgray/Alcatraz/pulls{/number}', 'milestones_url': 'https://api.github.com/repos/mralexgray/Alcatraz/milestones{/number}', 'notifications_url': 'https://api.github.com/repos/mralexgray/Alcatraz/notifications{?since,all,participating}', 'labels_url': 'https://api.github.com/repos/mralexgray/Alcatraz/labels{/name}', 'releases_url': 'https://api.github.com/repos/mralexgray/Alcatraz/releases{/id}', 'deployments_url': 'https://api.github.com/repos/mralexgray/Alcatraz/deployments', 'created_at': '2013-05-16T04:41:13Z', 'updated_at': '2014-03-19T20:38:35Z', 'pushed_at': '2014-03-19T12:50:37Z', 'git_url': 'git://github.com/mralexgray/Alcatraz.git', 'ssh_url': 'git@github.com:mralexgray/Alcatraz.git', 'clone_url': 'https://github.com/mralexgray/Alcatraz.git', 'svn_url': 'https://github.com/mralexgray/Alcatraz', 'homepage': 'mneorr.github.com/Alcatraz', 'size': 3668, 'stargazers_count': 0, 'watchers_count': 0, 'language': 'Objective-C', 'has_issues': False, 'has_projects': True, 'has_downloads': True, 'has_wiki': False, 'has_pages': False, 'has_discussions': False, 'forks_count': 0, 'mirror_url': None, 'archived': False, 'disabled': False, 'open_issues_count': 0, 'license': {'key': 'mit', 'name': 'MIT License', 'spdx_id': 'MIT', 'url': 'https://api.github.com/licenses/mit', 'node_id': 'MDc6TGljZW5zZTEz'}, 'allow_forking': True, 'is_template': False, 'web_commit_signoff_required': False, 'topics': [], 'visibility': 'public', 'forks': 0, 'open_issues': 0, 'watchers': 0, 'default_branch': 'master'}, {'id': 12916552, 'node_id': 'MDEwOlJlcG9zaXRvcnkxMjkxNjU1Mg==', 'name': 'alcatraz-packages', 'full_name': 'mralexgray/alcatraz-packages', 'private': False, 'owner': {'login': 'mralexgray', 'id': 262517, 'node_id': 'MDQ6VXNlcjI2MjUxNw==', 'avatar_url': 'https://avatars.githubusercontent.com/u/262517?v=4', 'gravatar_id': '', 'url': 'https://api.github.com/users/mralexgray', 'html_url': 'https://github.com/mralexgray', 'followers_url': 'https://api.github.com/users/mralexgray/followers', 'following_url': 'https://api.github.com/users/mralexgray/following{/other_user}', 'gists_url': 'https://api.github.com/users/mralexgray/gists{/gist_id}', 'starred_url': 'https://api.github.com/users/mralexgray/starred{/owner}{/repo}', 'subscriptions_url': 'https://api.github.com/users/mralexgray/subscriptions', 'organizations_url': 'https://api.github.com/users/mralexgray/orgs', 'repos_url': 'https://api.github.com/users/mralexgray/repos', 'events_url': 'https://api.github.com/users/mralexgray/events{/privacy}', 'received_events_url': 'https://api.github.com/users/mralexgray/received_events', 'type': 'User', 'site_admin': False}, 'html_url': 'https://github.com/mralexgray/alcatraz-packages', 'description': 'Package list repository for Alcatraz', 'fork': True, 'url': 'https://api.github.com/repos/mralexgray/alcatraz-packages', 'forks_url': 'https://api.github.com/repos/mralexgray/alcatraz-packages/forks', 'keys_url': 'https://api.github.com/repos/mralexgray/alcatraz-packages/keys{/key_id}', 'collaborators_url': 'https://api.github.com/repos/mralexgray/alcatraz-packages/collaborators{/collaborator}', 'teams_url': 'https://api.github.com/repos/mralexgray/alcatraz-packages/teams', 'hooks_url': 'https://api.github.com/repos/mralexgray/alcatraz-packages/hooks', 'issue_events_url': 'https://api.github.com/repos/mralexgray/alcatraz-packages/issues/events{/number}', 'events_url': 'https://api.github.com/repos/mralexgray/alcatraz-packages/events', 'assignees_url': 'https://api.github.com/repos/mralexgray/alcatraz-packages/assignees{/user}', 'branches_url': 'https://api.github.com/repos/mralexgray/alcatraz-packages/branches{/branch}', 'tags_url': 'https://api.github.com/repos/mralexgray/alcatraz-packages/tags', 'blobs_url': 'https://api.github.com/repos/mralexgray/alcatraz-packages/git/blobs{/sha}', 'git_tags_url': 'https://api.github.com/repos/mralexgray/alcatraz-packages/git/tags{/sha}', 'git_refs_url': 'https://api.github.com/repos/mralexgray/alcatraz-packages/git/refs{/sha}', 'trees_url': 'https://api.github.com/repos/mralexgray/alcatraz-packages/git/trees{/sha}', 'statuses_url': 'https://api.github.com/repos/mralexgray/alcatraz-packages/statuses/{sha}', 'languages_url': 'https://api.github.com/repos/mralexgray/alcatraz-packages/languages', 'stargazers_url': 'https://api.github.com/repos/mralexgray/alcatraz-packages/stargazers', 'contributors_url': 'https://api.github.com/repos/mralexgray/alcatraz-packages/contributors', 'subscribers_url': 'https://api.github.com/repos/mralexgray/alcatraz-packages/subscribers', 'subscription_url': 'https://api.github.com/repos/mralexgray/alcatraz-packages/subscription', 'commits_url': 'https://api.github.com/repos/mralexgray/alcatraz-packages/commits{/sha}', 'git_commits_url': 'https://api.github.com/repos/mralexgray/alcatraz-packages/git/commits{/sha}', 'comments_url': 'https://api.github.com/repos/mralexgray/alcatraz-packages/comments{/number}', 'issue_comment_url': 'https://api.github.com/repos/mralexgray/alcatraz-packages/issues/comments{/number}', 'contents_url': 'https://api.github.com/repos/mralexgray/alcatraz-packages/contents/{+path}', 'compare_url': 'https://api.github.com/repos/mralexgray/alcatraz-packages/compare/{base}...{head}', 'merges_url': 'https://api.github.com/repos/mralexgray/alcatraz-packages/merges', 'archive_url': 'https://api.github.com/repos/mralexgray/alcatraz-packages/{archive_format}{/ref}', 'downloads_url': 'https://api.github.com/repos/mralexgray/alcatraz-packages/downloads', 'issues_url': 'https://api.github.com/repos/mralexgray/alcatraz-packages/issues{/number}', 'pulls_url': 'https://api.github.com/repos/mralexgray/alcatraz-packages/pulls{/number}', 'milestones_url': 'https://api.github.com/repos/mralexgray/alcatraz-packages/milestones{/number}', 'notifications_url': 'https://api.github.com/repos/mralexgray/alcatraz-packages/notifications{?since,all,participating}', 'labels_url': 'https://api.github.com/repos/mralexgray/alcatraz-packages/labels{/name}', 'releases_url': 'https://api.github.com/repos/mralexgray/alcatraz-packages/releases{/id}', 'deployments_url': 'https://api.github.com/repos/mralexgray/alcatraz-packages/deployments', 'created_at': '2013-09-18T07:15:24Z', 'updated_at': '2015-11-10T20:52:30Z', 'pushed_at': '2015-12-14T16:21:31Z', 'git_url': 'git://github.com/mralexgray/alcatraz-packages.git', 'ssh_url': 'git@github.com:mralexgray/alcatraz-packages.git', 'clone_url': 'https://github.com/mralexgray/alcatraz-packages.git', 'svn_url': 'https://github.com/mralexgray/alcatraz-packages', 'homepage': 'mneorr.github.com/Alcatraz', 'size': 826, 'stargazers_count': 0, 'watchers_count': 0, 'language': 'Ruby', 'has_issues': False, 'has_projects': True, 'has_downloads': True, 'has_wiki': True, 'has_pages': False, 'has_discussions': False, 'forks_count': 0, 'mirror_url': None, 'archived': False, 'disabled': False, 'open_issues_count': 0, 'license': None, 'allow_forking': True, 'is_template': False, 'web_commit_signoff_required': False, 'topics': [], 'visibility': 'public', 'forks': 0, 'open_issues': 0, 'watchers': 0, 'default_branch': 'master'}, {'id': 44278362, 'node_id': 'MDEwOlJlcG9zaXRvcnk0NDI3ODM2Mg==', 'name': 'alexicons', 'full_name': 'mralexgray/alexicons', 'private': False, 'owner': {'login': 'mralexgray', 'id': 262517, 'node_id': 'MDQ6VXNlcjI2MjUxNw==', 'avatar_url': 'https://avatars.githubusercontent.com/u/262517?v=4', 'gravatar_id': '', 'url': 'https://api.github.com/users/mralexgray', 'html_url': 'https://github.com/mralexgray', 'followers_url': 'https://api.github.com/users/mralexgray/followers', 'following_url': 'https://api.github.com/users/mralexgray/following{/other_user}', 'gists_url': 'https://api.github.com/users/mralexgray/gists{/gist_id}', 'starred_url': 'https://api.github.com/users/mralexgray/starred{/owner}{/repo}', 'subscriptions_url': 'https://api.github.com/users/mralexgray/subscriptions', 'organizations_url': 'https://api.github.com/users/mralexgray/orgs', 'repos_url': 'https://api.github.com/users/mralexgray/repos', 'events_url': 'https://api.github.com/users/mralexgray/events{/privacy}', 'received_events_url': 'https://api.github.com/users/mralexgray/received_events', 'type': 'User', 'site_admin': False}, 'html_url': 'https://github.com/mralexgray/alexicons', 'description': 'Get popular cat names', 'fork': True, 'url': 'https://api.github.com/repos/mralexgray/alexicons', 'forks_url': 'https://api.github.com/repos/mralexgray/alexicons/forks', 'keys_url': 'https://api.github.com/repos/mralexgray/alexicons/keys{/key_id}', 'collaborators_url': 'https://api.github.com/repos/mralexgray/alexicons/collaborators{/collaborator}', 'teams_url': 'https://api.github.com/repos/mralexgray/alexicons/teams', 'hooks_url': 'https://api.github.com/repos/mralexgray/alexicons/hooks', 'issue_events_url': 'https://api.github.com/repos/mralexgray/alexicons/issues/events{/number}', 'events_url': 'https://api.github.com/repos/mralexgray/alexicons/events', 'assignees_url': 'https://api.github.com/repos/mralexgray/alexicons/assignees{/user}', 'branches_url': 'https://api.github.com/repos/mralexgray/alexicons/branches{/branch}', 'tags_url': 'https://api.github.com/repos/mralexgray/alexicons/tags', 'blobs_url': 'https://api.github.com/repos/mralexgray/alexicons/git/blobs{/sha}', 'git_tags_url': 'https://api.github.com/repos/mralexgray/alexicons/git/tags{/sha}', 'git_refs_url': 'https://api.github.com/repos/mralexgray/alexicons/git/refs{/sha}', 'trees_url': 'https://api.github.com/repos/mralexgray/alexicons/git/trees{/sha}', 'statuses_url': 'https://api.github.com/repos/mralexgray/alexicons/statuses/{sha}', 'languages_url': 'https://api.github.com/repos/mralexgray/alexicons/languages', 'stargazers_url': 'https://api.github.com/repos/mralexgray/alexicons/stargazers', 'contributors_url': 'https://api.github.com/repos/mralexgray/alexicons/contributors', 'subscribers_url': 'https://api.github.com/repos/mralexgray/alexicons/subscribers', 'subscription_url': 'https://api.github.com/repos/mralexgray/alexicons/subscription', 'commits_url': 'https://api.github.com/repos/mralexgray/alexicons/commits{/sha}', 'git_commits_url': 'https://api.github.com/repos/mralexgray/alexicons/git/commits{/sha}', 'comments_url': 'https://api.github.com/repos/mralexgray/alexicons/comments{/number}', 'issue_comment_url': 'https://api.github.com/repos/mralexgray/alexicons/issues/comments{/number}', 'contents_url': 'https://api.github.com/repos/mralexgray/alexicons/contents/{+path}', 'compare_url': 'https://api.github.com/repos/mralexgray/alexicons/compare/{base}...{head}', 'merges_url': 'https://api.github.com/repos/mralexgray/alexicons/merges', 'archive_url': 'https://api.github.com/repos/mralexgray/alexicons/{archive_format}{/ref}', 'downloads_url': 'https://api.github.com/repos/mralexgray/alexicons/downloads', 'issues_url': 'https://api.github.com/repos/mralexgray/alexicons/issues{/number}', 'pulls_url': 'https://api.github.com/repos/mralexgray/alexicons/pulls{/number}', 'milestones_url': 'https://api.github.com/repos/mralexgray/alexicons/milestones{/number}', 'notifications_url': 'https://api.github.com/repos/mralexgray/alexicons/notifications{?since,all,participating}', 'labels_url': 'https://api.github.com/repos/mralexgray/alexicons/labels{/name}', 'releases_url': 'https://api.github.com/repos/mralexgray/alexicons/releases{/id}', 'deployments_url': 'https://api.github.com/repos/mralexgray/alexicons/deployments', 'created_at': '2015-10-14T21:49:39Z', 'updated_at': '2015-10-15T06:20:08Z', 'pushed_at': '2015-10-16T03:57:51Z', 'git_url': 'git://github.com/mralexgray/alexicons.git', 'ssh_url': 'git@github.com:mralexgray/alexicons.git', 'clone_url': 'https://github.com/mralexgray/alexicons.git', 'svn_url': 'https://github.com/mralexgray/alexicons', 'homepage': None, 'size': 257, 'stargazers_count': 0, 'watchers_count': 0, 'language': 'CoffeeScript', 'has_issues': False, 'has_projects': True, 'has_downloads': True, 'has_wiki': False, 'has_pages': False, 'has_discussions': False, 'forks_count': 0, 'mirror_url': None, 'archived': False, 'disabled': False, 'open_issues_count': 0, 'license': None, 'allow_forking': True, 'is_template': False, 'web_commit_signoff_required': False, 'topics': [], 'visibility': 'public', 'forks': 0, 'open_issues': 0, 'watchers': 0, 'default_branch': 'master'}, {'id': 10476467, 'node_id': 'MDEwOlJlcG9zaXRvcnkxMDQ3NjQ2Nw==', 'name': 'Alfred-Google-Translate', 'full_name': 'mralexgray/Alfred-Google-Translate', 'private': False, 'owner': {'login': 'mralexgray', 'id': 262517, 'node_id': 'MDQ6VXNlcjI2MjUxNw==', 'avatar_url': 'https://avatars.githubusercontent.com/u/262517?v=4', 'gravatar_id': '', 'url': 'https://api.github.com/users/mralexgray', 'html_url': 'https://github.com/mralexgray', 'followers_url': 'https://api.github.com/users/mralexgray/followers', 'following_url': 'https://api.github.com/users/mralexgray/following{/other_user}', 'gists_url': 'https://api.github.com/users/mralexgray/gists{/gist_id}', 'starred_url': 'https://api.github.com/users/mralexgray/starred{/owner}{/repo}', 'subscriptions_url': 'https://api.github.com/users/mralexgray/subscriptions', 'organizations_url': 'https://api.github.com/users/mralexgray/orgs', 'repos_url': 'https://api.github.com/users/mralexgray/repos', 'events_url': 'https://api.github.com/users/mralexgray/events{/privacy}', 'received_events_url': 'https://api.github.com/users/mralexgray/received_events', 'type': 'User', 'site_admin': False}, 'html_url': 'https://github.com/mralexgray/Alfred-Google-Translate', 'description': 'Extension for Alfred that will do a Google translate for you', 'fork': True, 'url': 'https://api.github.com/repos/mralexgray/Alfred-Google-Translate', 'forks_url': 'https://api.github.com/repos/mralexgray/Alfred-Google-Translate/forks', 'keys_url': 'https://api.github.com/repos/mralexgray/Alfred-Google-Translate/keys{/key_id}', 'collaborators_url': 'https://api.github.com/repos/mralexgray/Alfred-Google-Translate/collaborators{/collaborator}', 'teams_url': 'https://api.github.com/repos/mralexgray/Alfred-Google-Translate/teams', 'hooks_url': 'https://api.github.com/repos/mralexgray/Alfred-Google-Translate/hooks', 'issue_events_url': 'https://api.github.com/repos/mralexgray/Alfred-Google-Translate/issues/events{/number}', 'events_url': 'https://api.github.com/repos/mralexgray/Alfred-Google-Translate/events', 'assignees_url': 'https://api.github.com/repos/mralexgray/Alfred-Google-Translate/assignees{/user}', 'branches_url': 'https://api.github.com/repos/mralexgray/Alfred-Google-Translate/branches{/branch}', 'tags_url': 'https://api.github.com/repos/mralexgray/Alfred-Google-Translate/tags', 'blobs_url': 'https://api.github.com/repos/mralexgray/Alfred-Google-Translate/git/blobs{/sha}', 'git_tags_url': 'https://api.github.com/repos/mralexgray/Alfred-Google-Translate/git/tags{/sha}', 'git_refs_url': 'https://api.github.com/repos/mralexgray/Alfred-Google-Translate/git/refs{/sha}', 'trees_url': 'https://api.github.com/repos/mralexgray/Alfred-Google-Translate/git/trees{/sha}', 'statuses_url': 'https://api.github.com/repos/mralexgray/Alfred-Google-Translate/statuses/{sha}', 'languages_url': 'https://api.github.com/repos/mralexgray/Alfred-Google-Translate/languages', 'stargazers_url': 'https://api.github.com/repos/mralexgray/Alfred-Google-Translate/stargazers', 'contributors_url': 'https://api.github.com/repos/mralexgray/Alfred-Google-Translate/contributors', 'subscribers_url': 'https://api.github.com/repos/mralexgray/Alfred-Google-Translate/subscribers', 'subscription_url': 'https://api.github.com/repos/mralexgray/Alfred-Google-Translate/subscription', 'commits_url': 'https://api.github.com/repos/mralexgray/Alfred-Google-Translate/commits{/sha}', 'git_commits_url': 'https://api.github.com/repos/mralexgray/Alfred-Google-Translate/git/commits{/sha}', 'comments_url': 'https://api.github.com/repos/mralexgray/Alfred-Google-Translate/comments{/number}', 'issue_comment_url': 'https://api.github.com/repos/mralexgray/Alfred-Google-Translate/issues/comments{/number}', 'contents_url': 'https://api.github.com/repos/mralexgray/Alfred-Google-Translate/contents/{+path}', 'compare_url': 'https://api.github.com/repos/mralexgray/Alfred-Google-Translate/compare/{base}...{head}', 'merges_url': 'https://api.github.com/repos/mralexgray/Alfred-Google-Translate/merges', 'archive_url': 'https://api.github.com/repos/mralexgray/Alfred-Google-Translate/{archive_format}{/ref}', 'downloads_url': 'https://api.github.com/repos/mralexgray/Alfred-Google-Translate/downloads', 'issues_url': 'https://api.github.com/repos/mralexgray/Alfred-Google-Translate/issues{/number}', 'pulls_url': 'https://api.github.com/repos/mralexgray/Alfred-Google-Translate/pulls{/number}', 'milestones_url': 'https://api.github.com/repos/mralexgray/Alfred-Google-Translate/milestones{/number}', 'notifications_url': 'https://api.github.com/repos/mralexgray/Alfred-Google-Translate/notifications{?since,all,participating}', 'labels_url': 'https://api.github.com/repos/mralexgray/Alfred-Google-Translate/labels{/name}', 'releases_url': 'https://api.github.com/repos/mralexgray/Alfred-Google-Translate/releases{/id}', 'deployments_url': 'https://api.github.com/repos/mralexgray/Alfred-Google-Translate/deployments', 'created_at': '2013-06-04T10:45:10Z', 'updated_at': '2013-06-04T10:45:10Z', 'pushed_at': '2013-01-12T19:39:03Z', 'git_url': 'git://github.com/mralexgray/Alfred-Google-Translate.git', 'ssh_url': 'git@github.com:mralexgray/Alfred-Google-Translate.git', 'clone_url': 'https://github.com/mralexgray/Alfred-Google-Translate.git', 'svn_url': 'https://github.com/mralexgray/Alfred-Google-Translate', 'homepage': None, 'size': 103, 'stargazers_count': 0, 'watchers_count': 0, 'language': 'Shell', 'has_issues': False, 'has_projects': True, 'has_downloads': True, 'has_wiki': True, 'has_pages': False, 'has_discussions': False, 'forks_count': 0, 'mirror_url': None, 'archived': False, 'disabled': False, 'open_issues_count': 0, 'license': None, 'allow_forking': True, 'is_template': False, 'web_commit_signoff_required': False, 'topics': [], 'visibility': 'public', 'forks': 0, 'open_issues': 0, 'watchers': 0, 'default_branch': 'master'}, {'id': 5524019, 'node_id': 'MDEwOlJlcG9zaXRvcnk1NTI0MDE5', 'name': 'Amber', 'full_name': 'mralexgray/Amber', 'private': False, 'owner': {'login': 'mralexgray', 'id': 262517, 'node_id': 'MDQ6VXNlcjI2MjUxNw==', 'avatar_url': 'https://avatars.githubusercontent.com/u/262517?v=4', 'gravatar_id': '', 'url': 'https://api.github.com/users/mralexgray', 'html_url': 'https://github.com/mralexgray', 'followers_url': 'https://api.github.com/users/mralexgray/followers', 'following_url': 'https://api.github.com/users/mralexgray/following{/other_user}', 'gists_url': 'https://api.github.com/users/mralexgray/gists{/gist_id}', 'starred_url': 'https://api.github.com/users/mralexgray/starred{/owner}{/repo}', 'subscriptions_url': 'https://api.github.com/users/mralexgray/subscriptions', 'organizations_url': 'https://api.github.com/users/mralexgray/orgs', 'repos_url': 'https://api.github.com/users/mralexgray/repos', 'events_url': 'https://api.github.com/users/mralexgray/events{/privacy}', 'received_events_url': 'https://api.github.com/users/mralexgray/received_events', 'type': 'User', 'site_admin': False}, 'html_url': 'https://github.com/mralexgray/Amber', 'description': 'Fork of the difficult-to-deal-with Amber.framework', 'fork': False, 'url': 'https://api.github.com/repos/mralexgray/Amber', 'forks_url': 'https://api.github.com/repos/mralexgray/Amber/forks', 'keys_url': 'https://api.github.com/repos/mralexgray/Amber/keys{/key_id}', 'collaborators_url': 'https://api.github.com/repos/mralexgray/Amber/collaborators{/collaborator}', 'teams_url': 'https://api.github.com/repos/mralexgray/Amber/teams', 'hooks_url': 'https://api.github.com/repos/mralexgray/Amber/hooks', 'issue_events_url': 'https://api.github.com/repos/mralexgray/Amber/issues/events{/number}', 'events_url': 'https://api.github.com/repos/mralexgray/Amber/events', 'assignees_url': 'https://api.github.com/repos/mralexgray/Amber/assignees{/user}', 'branches_url': 'https://api.github.com/repos/mralexgray/Amber/branches{/branch}', 'tags_url': 'https://api.github.com/repos/mralexgray/Amber/tags', 'blobs_url': 'https://api.github.com/repos/mralexgray/Amber/git/blobs{/sha}', 'git_tags_url': 'https://api.github.com/repos/mralexgray/Amber/git/tags{/sha}', 'git_refs_url': 'https://api.github.com/repos/mralexgray/Amber/git/refs{/sha}', 'trees_url': 'https://api.github.com/repos/mralexgray/Amber/git/trees{/sha}', 'statuses_url': 'https://api.github.com/repos/mralexgray/Amber/statuses/{sha}', 'languages_url': 'https://api.github.com/repos/mralexgray/Amber/languages', 'stargazers_url': 'https://api.github.com/repos/mralexgray/Amber/stargazers', 'contributors_url': 'https://api.github.com/repos/mralexgray/Amber/contributors', 'subscribers_url': 'https://api.github.com/repos/mralexgray/Amber/subscribers', 'subscription_url': 'https://api.github.com/repos/mralexgray/Amber/subscription', 'commits_url': 'https://api.github.com/repos/mralexgray/Amber/commits{/sha}', 'git_commits_url': 'https://api.github.com/repos/mralexgray/Amber/git/commits{/sha}', 'comments_url': 'https://api.github.com/repos/mralexgray/Amber/comments{/number}', 'issue_comment_url': 'https://api.github.com/repos/mralexgray/Amber/issues/comments{/number}', 'contents_url': 'https://api.github.com/repos/mralexgray/Amber/contents/{+path}', 'compare_url': 'https://api.github.com/repos/mralexgray/Amber/compare/{base}...{head}', 'merges_url': 'https://api.github.com/repos/mralexgray/Amber/merges', 'archive_url': 'https://api.github.com/repos/mralexgray/Amber/{archive_format}{/ref}', 'downloads_url': 'https://api.github.com/repos/mralexgray/Amber/downloads', 'issues_url': 'https://api.github.com/repos/mralexgray/Amber/issues{/number}', 'pulls_url': 'https://api.github.com/repos/mralexgray/Amber/pulls{/number}', 'milestones_url': 'https://api.github.com/repos/mralexgray/Amber/milestones{/number}', 'notifications_url': 'https://api.github.com/repos/mralexgray/Amber/notifications{?since,all,participating}', 'labels_url': 'https://api.github.com/repos/mralexgray/Amber/labels{/name}', 'releases_url': 'https://api.github.com/repos/mralexgray/Amber/releases{/id}', 'deployments_url': 'https://api.github.com/repos/mralexgray/Amber/deployments', 'created_at': '2012-08-23T10:38:24Z', 'updated_at': '2013-01-11T22:25:35Z', 'pushed_at': '2012-08-23T10:38:25Z', 'git_url': 'git://github.com/mralexgray/Amber.git', 'ssh_url': 'git@github.com:mralexgray/Amber.git', 'clone_url': 'https://github.com/mralexgray/Amber.git', 'svn_url': 'https://github.com/mralexgray/Amber', 'homepage': None, 'size': 48, 'stargazers_count': 0, 'watchers_count': 0, 'language': None, 'has_issues': True, 'has_projects': True, 'has_downloads': True, 'has_wiki': True, 'has_pages': False, 'has_discussions': False, 'forks_count': 0, 'mirror_url': None, 'archived': False, 'disabled': False, 'open_issues_count': 0, 'license': None, 'allow_forking': True, 'is_template': False, 'web_commit_signoff_required': False, 'topics': [], 'visibility': 'public', 'forks': 0, 'open_issues': 0, 'watchers': 0, 'default_branch': 'master'}, {'id': 10809060, 'node_id': 'MDEwOlJlcG9zaXRvcnkxMDgwOTA2MA==', 'name': 'Amethyst', 'full_name': 'mralexgray/Amethyst', 'private': False, 'owner': {'login': 'mralexgray', 'id': 262517, 'node_id': 'MDQ6VXNlcjI2MjUxNw==', 'avatar_url': 'https://avatars.githubusercontent.com/u/262517?v=4', 'gravatar_id': '', 'url': 'https://api.github.com/users/mralexgray', 'html_url': 'https://github.com/mralexgray', 'followers_url': 'https://api.github.com/users/mralexgray/followers', 'following_url': 'https://api.github.com/users/mralexgray/following{/other_user}', 'gists_url': 'https://api.github.com/users/mralexgray/gists{/gist_id}', 'starred_url': 'https://api.github.com/users/mralexgray/starred{/owner}{/repo}', 'subscriptions_url': 'https://api.github.com/users/mralexgray/subscriptions', 'organizations_url': 'https://api.github.com/users/mralexgray/orgs', 'repos_url': 'https://api.github.com/users/mralexgray/repos', 'events_url': 'https://api.github.com/users/mralexgray/events{/privacy}', 'received_events_url': 'https://api.github.com/users/mralexgray/received_events', 'type': 'User', 'site_admin': False}, 'html_url': 'https://github.com/mralexgray/Amethyst', 'description': 'Tiling window manager for OS X.', 'fork': True, 'url': 'https://api.github.com/repos/mralexgray/Amethyst', 'forks_url': 'https://api.github.com/repos/mralexgray/Amethyst/forks', 'keys_url': 'https://api.github.com/repos/mralexgray/Amethyst/keys{/key_id}', 'collaborators_url': 'https://api.github.com/repos/mralexgray/Amethyst/collaborators{/collaborator}', 'teams_url': 'https://api.github.com/repos/mralexgray/Amethyst/teams', 'hooks_url': 'https://api.github.com/repos/mralexgray/Amethyst/hooks', 'issue_events_url': 'https://api.github.com/repos/mralexgray/Amethyst/issues/events{/number}', 'events_url': 'https://api.github.com/repos/mralexgray/Amethyst/events', 'assignees_url': 'https://api.github.com/repos/mralexgray/Amethyst/assignees{/user}', 'branches_url': 'https://api.github.com/repos/mralexgray/Amethyst/branches{/branch}', 'tags_url': 'https://api.github.com/repos/mralexgray/Amethyst/tags', 'blobs_url': 'https://api.github.com/repos/mralexgray/Amethyst/git/blobs{/sha}', 'git_tags_url': 'https://api.github.com/repos/mralexgray/Amethyst/git/tags{/sha}', 'git_refs_url': 'https://api.github.com/repos/mralexgray/Amethyst/git/refs{/sha}', 'trees_url': 'https://api.github.com/repos/mralexgray/Amethyst/git/trees{/sha}', 'statuses_url': 'https://api.github.com/repos/mralexgray/Amethyst/statuses/{sha}', 'languages_url': 'https://api.github.com/repos/mralexgray/Amethyst/languages', 'stargazers_url': 'https://api.github.com/repos/mralexgray/Amethyst/stargazers', 'contributors_url': 'https://api.github.com/repos/mralexgray/Amethyst/contributors', 'subscribers_url': 'https://api.github.com/repos/mralexgray/Amethyst/subscribers', 'subscription_url': 'https://api.github.com/repos/mralexgray/Amethyst/subscription', 'commits_url': 'https://api.github.com/repos/mralexgray/Amethyst/commits{/sha}', 'git_commits_url': 'https://api.github.com/repos/mralexgray/Amethyst/git/commits{/sha}', 'comments_url': 'https://api.github.com/repos/mralexgray/Amethyst/comments{/number}', 'issue_comment_url': 'https://api.github.com/repos/mralexgray/Amethyst/issues/comments{/number}', 'contents_url': 'https://api.github.com/repos/mralexgray/Amethyst/contents/{+path}', 'compare_url': 'https://api.github.com/repos/mralexgray/Amethyst/compare/{base}...{head}', 'merges_url': 'https://api.github.com/repos/mralexgray/Amethyst/merges', 'archive_url': 'https://api.github.com/repos/mralexgray/Amethyst/{archive_format}{/ref}', 'downloads_url': 'https://api.github.com/repos/mralexgray/Amethyst/downloads', 'issues_url': 'https://api.github.com/repos/mralexgray/Amethyst/issues{/number}', 'pulls_url': 'https://api.github.com/repos/mralexgray/Amethyst/pulls{/number}', 'milestones_url': 'https://api.github.com/repos/mralexgray/Amethyst/milestones{/number}', 'notifications_url': 'https://api.github.com/repos/mralexgray/Amethyst/notifications{?since,all,participating}', 'labels_url': 'https://api.github.com/repos/mralexgray/Amethyst/labels{/name}', 'releases_url': 'https://api.github.com/repos/mralexgray/Amethyst/releases{/id}', 'deployments_url': 'https://api.github.com/repos/mralexgray/Amethyst/deployments', 'created_at': '2013-06-20T00:34:22Z', 'updated_at': '2013-06-20T00:34:22Z', 'pushed_at': '2013-06-18T02:54:11Z', 'git_url': 'git://github.com/mralexgray/Amethyst.git', 'ssh_url': 'git@github.com:mralexgray/Amethyst.git', 'clone_url': 'https://github.com/mralexgray/Amethyst.git', 'svn_url': 'https://github.com/mralexgray/Amethyst', 'homepage': 'http://ianyh.github.io/Amethyst/', 'size': 12623, 'stargazers_count': 0, 'watchers_count': 0, 'language': 'Objective-C', 'has_issues': False, 'has_projects': True, 'has_downloads': True, 'has_wiki': True, 'has_pages': False, 'has_discussions': False, 'forks_count': 0, 'mirror_url': None, 'archived': False, 'disabled': False, 'open_issues_count': 0, 'license': {'key': 'mit', 'name': 'MIT License', 'spdx_id': 'MIT', 'url': 'https://api.github.com/licenses/mit', 'node_id': 'MDc6TGljZW5zZTEz'}, 'allow_forking': True, 'is_template': False, 'web_commit_signoff_required': False, 'topics': [], 'visibility': 'public', 'forks': 0, 'open_issues': 0, 'watchers': 0, 'default_branch': 'master'}, {'id': 3684286, 'node_id': 'MDEwOlJlcG9zaXRvcnkzNjg0Mjg2', 'name': 'Animated-Paths', 'full_name': 'mralexgray/Animated-Paths', 'private': False, 'owner': {'login': 'mralexgray', 'id': 262517, 'node_id': 'MDQ6VXNlcjI2MjUxNw==', 'avatar_url': 'https://avatars.githubusercontent.com/u/262517?v=4', 'gravatar_id': '', 'url': 'https://api.github.com/users/mralexgray', 'html_url': 'https://github.com/mralexgray', 'followers_url': 'https://api.github.com/users/mralexgray/followers', 'following_url': 'https://api.github.com/users/mralexgray/following{/other_user}', 'gists_url': 'https://api.github.com/users/mralexgray/gists{/gist_id}', 'starred_url': 'https://api.github.com/users/mralexgray/starred{/owner}{/repo}', 'subscriptions_url': 'https://api.github.com/users/mralexgray/subscriptions', 'organizations_url': 'https://api.github.com/users/mralexgray/orgs', 'repos_url': 'https://api.github.com/users/mralexgray/repos', 'events_url': 'https://api.github.com/users/mralexgray/events{/privacy}', 'received_events_url': 'https://api.github.com/users/mralexgray/received_events', 'type': 'User', 'site_admin': False}, 'html_url': 'https://github.com/mralexgray/Animated-Paths', 'description': 'Demo project: Animating the drawing of a CGPath with CAShapeLayer.strokeEnd', 'fork': True, 'url': 'https://api.github.com/repos/mralexgray/Animated-Paths', 'forks_url': 'https://api.github.com/repos/mralexgray/Animated-Paths/forks', 'keys_url': 'https://api.github.com/repos/mralexgray/Animated-Paths/keys{/key_id}', 'collaborators_url': 'https://api.github.com/repos/mralexgray/Animated-Paths/collaborators{/collaborator}', 'teams_url': 'https://api.github.com/repos/mralexgray/Animated-Paths/teams', 'hooks_url': 'https://api.github.com/repos/mralexgray/Animated-Paths/hooks', 'issue_events_url': 'https://api.github.com/repos/mralexgray/Animated-Paths/issues/events{/number}', 'events_url': 'https://api.github.com/repos/mralexgray/Animated-Paths/events', 'assignees_url': 'https://api.github.com/repos/mralexgray/Animated-Paths/assignees{/user}', 'branches_url': 'https://api.github.com/repos/mralexgray/Animated-Paths/branches{/branch}', 'tags_url': 'https://api.github.com/repos/mralexgray/Animated-Paths/tags', 'blobs_url': 'https://api.github.com/repos/mralexgray/Animated-Paths/git/blobs{/sha}', 'git_tags_url': 'https://api.github.com/repos/mralexgray/Animated-Paths/git/tags{/sha}', 'git_refs_url': 'https://api.github.com/repos/mralexgray/Animated-Paths/git/refs{/sha}', 'trees_url': 'https://api.github.com/repos/mralexgray/Animated-Paths/git/trees{/sha}', 'statuses_url': 'https://api.github.com/repos/mralexgray/Animated-Paths/statuses/{sha}', 'languages_url': 'https://api.github.com/repos/mralexgray/Animated-Paths/languages', 'stargazers_url': 'https://api.github.com/repos/mralexgray/Animated-Paths/stargazers', 'contributors_url': 'https://api.github.com/repos/mralexgray/Animated-Paths/contributors', 'subscribers_url': 'https://api.github.com/repos/mralexgray/Animated-Paths/subscribers', 'subscription_url': 'https://api.github.com/repos/mralexgray/Animated-Paths/subscription', 'commits_url': 'https://api.github.com/repos/mralexgray/Animated-Paths/commits{/sha}', 'git_commits_url': 'https://api.github.com/repos/mralexgray/Animated-Paths/git/commits{/sha}', 'comments_url': 'https://api.github.com/repos/mralexgray/Animated-Paths/comments{/number}', 'issue_comment_url': 'https://api.github.com/repos/mralexgray/Animated-Paths/issues/comments{/number}', 'contents_url': 'https://api.github.com/repos/mralexgray/Animated-Paths/contents/{+path}', 'compare_url': 'https://api.github.com/repos/mralexgray/Animated-Paths/compare/{base}...{head}', 'merges_url': 'https://api.github.com/repos/mralexgray/Animated-Paths/merges', 'archive_url': 'https://api.github.com/repos/mralexgray/Animated-Paths/{archive_format}{/ref}', 'downloads_url': 'https://api.github.com/repos/mralexgray/Animated-Paths/downloads', 'issues_url': 'https://api.github.com/repos/mralexgray/Animated-Paths/issues{/number}', 'pulls_url': 'https://api.github.com/repos/mralexgray/Animated-Paths/pulls{/number}', 'milestones_url': 'https://api.github.com/repos/mralexgray/Animated-Paths/milestones{/number}', 'notifications_url': 'https://api.github.com/repos/mralexgray/Animated-Paths/notifications{?since,all,participating}', 'labels_url': 'https://api.github.com/repos/mralexgray/Animated-Paths/labels{/name}', 'releases_url': 'https://api.github.com/repos/mralexgray/Animated-Paths/releases{/id}', 'deployments_url': 'https://api.github.com/repos/mralexgray/Animated-Paths/deployments', 'created_at': '2012-03-11T02:56:38Z', 'updated_at': '2013-01-08T04:12:21Z', 'pushed_at': '2010-12-30T20:56:51Z', 'git_url': 'git://github.com/mralexgray/Animated-Paths.git', 'ssh_url': 'git@github.com:mralexgray/Animated-Paths.git', 'clone_url': 'https://github.com/mralexgray/Animated-Paths.git', 'svn_url': 'https://github.com/mralexgray/Animated-Paths', 'homepage': 'http://oleb.net/blog/2010/12/animating-drawing-of-cgpath-with-cashapelayer/', 'size': 411, 'stargazers_count': 2, 'watchers_count': 2, 'language': 'Objective-C', 'has_issues': False, 'has_projects': True, 'has_downloads': True, 'has_wiki': True, 'has_pages': False, 'has_discussions': False, 'forks_count': 0, 'mirror_url': None, 'archived': False, 'disabled': False, 'open_issues_count': 0, 'license': {'key': 'other', 'name': 'Other', 'spdx_id': 'NOASSERTION', 'url': None, 'node_id': 'MDc6TGljZW5zZTA='}, 'allow_forking': True, 'is_template': False, 'web_commit_signoff_required': False, 'topics': [], 'visibility': 'public', 'forks': 0, 'open_issues': 0, 'watchers': 2, 'default_branch': 'master'}, {'id': 16662874, 'node_id': 'MDEwOlJlcG9zaXRvcnkxNjY2Mjg3NA==', 'name': 'AnsiLove.framework', 'full_name': 'mralexgray/AnsiLove.framework', 'private': False, 'owner': {'login': 'mralexgray', 'id': 262517, 'node_id': 'MDQ6VXNlcjI2MjUxNw==', 'avatar_url': 'https://avatars.githubusercontent.com/u/262517?v=4', 'gravatar_id': '', 'url': 'https://api.github.com/users/mralexgray', 'html_url': 'https://github.com/mralexgray', 'followers_url': 'https://api.github.com/users/mralexgray/followers', 'following_url': 'https://api.github.com/users/mralexgray/following{/other_user}', 'gists_url': 'https://api.github.com/users/mralexgray/gists{/gist_id}', 'starred_url': 'https://api.github.com/users/mralexgray/starred{/owner}{/repo}', 'subscriptions_url': 'https://api.github.com/users/mralexgray/subscriptions', 'organizations_url': 'https://api.github.com/users/mralexgray/orgs', 'repos_url': 'https://api.github.com/users/mralexgray/repos', 'events_url': 'https://api.github.com/users/mralexgray/events{/privacy}', 'received_events_url': 'https://api.github.com/users/mralexgray/received_events', 'type': 'User', 'site_admin': False}, 'html_url': 'https://github.com/mralexgray/AnsiLove.framework', 'description': 'Cocoa Framework for rendering ANSi / ASCII art', 'fork': True, 'url': 'https://api.github.com/repos/mralexgray/AnsiLove.framework', 'forks_url': 'https://api.github.com/repos/mralexgray/AnsiLove.framework/forks', 'keys_url': 'https://api.github.com/repos/mralexgray/AnsiLove.framework/keys{/key_id}', 'collaborators_url': 'https://api.github.com/repos/mralexgray/AnsiLove.framework/collaborators{/collaborator}', 'teams_url': 'https://api.github.com/repos/mralexgray/AnsiLove.framework/teams', 'hooks_url': 'https://api.github.com/repos/mralexgray/AnsiLove.framework/hooks', 'issue_events_url': 'https://api.github.com/repos/mralexgray/AnsiLove.framework/issues/events{/number}', 'events_url': 'https://api.github.com/repos/mralexgray/AnsiLove.framework/events', 'assignees_url': 'https://api.github.com/repos/mralexgray/AnsiLove.framework/assignees{/user}', 'branches_url': 'https://api.github.com/repos/mralexgray/AnsiLove.framework/branches{/branch}', 'tags_url': 'https://api.github.com/repos/mralexgray/AnsiLove.framework/tags', 'blobs_url': 'https://api.github.com/repos/mralexgray/AnsiLove.framework/git/blobs{/sha}', 'git_tags_url': 'https://api.github.com/repos/mralexgray/AnsiLove.framework/git/tags{/sha}', 'git_refs_url': 'https://api.github.com/repos/mralexgray/AnsiLove.framework/git/refs{/sha}', 'trees_url': 'https://api.github.com/repos/mralexgray/AnsiLove.framework/git/trees{/sha}', 'statuses_url': 'https://api.github.com/repos/mralexgray/AnsiLove.framework/statuses/{sha}', 'languages_url': 'https://api.github.com/repos/mralexgray/AnsiLove.framework/languages', 'stargazers_url': 'https://api.github.com/repos/mralexgray/AnsiLove.framework/stargazers', 'contributors_url': 'https://api.github.com/repos/mralexgray/AnsiLove.framework/contributors', 'subscribers_url': 'https://api.github.com/repos/mralexgray/AnsiLove.framework/subscribers', 'subscription_url': 'https://api.github.com/repos/mralexgray/AnsiLove.framework/subscription', 'commits_url': 'https://api.github.com/repos/mralexgray/AnsiLove.framework/commits{/sha}', 'git_commits_url': 'https://api.github.com/repos/mralexgray/AnsiLove.framework/git/commits{/sha}', 'comments_url': 'https://api.github.com/repos/mralexgray/AnsiLove.framework/comments{/number}', 'issue_comment_url': 'https://api.github.com/repos/mralexgray/AnsiLove.framework/issues/comments{/number}', 'contents_url': 'https://api.github.com/repos/mralexgray/AnsiLove.framework/contents/{+path}', 'compare_url': 'https://api.github.com/repos/mralexgray/AnsiLove.framework/compare/{base}...{head}', 'merges_url': 'https://api.github.com/repos/mralexgray/AnsiLove.framework/merges', 'archive_url': 'https://api.github.com/repos/mralexgray/AnsiLove.framework/{archive_format}{/ref}', 'downloads_url': 'https://api.github.com/repos/mralexgray/AnsiLove.framework/downloads', 'issues_url': 'https://api.github.com/repos/mralexgray/AnsiLove.framework/issues{/number}', 'pulls_url': 'https://api.github.com/repos/mralexgray/AnsiLove.framework/pulls{/number}', 'milestones_url': 'https://api.github.com/repos/mralexgray/AnsiLove.framework/milestones{/number}', 'notifications_url': 'https://api.github.com/repos/mralexgray/AnsiLove.framework/notifications{?since,all,participating}', 'labels_url': 'https://api.github.com/repos/mralexgray/AnsiLove.framework/labels{/name}', 'releases_url': 'https://api.github.com/repos/mralexgray/AnsiLove.framework/releases{/id}', 'deployments_url': 'https://api.github.com/repos/mralexgray/AnsiLove.framework/deployments', 'created_at': '2014-02-09T08:30:27Z', 'updated_at': '2015-01-13T20:41:46Z', 'pushed_at': '2013-10-04T14:08:38Z', 'git_url': 'git://github.com/mralexgray/AnsiLove.framework.git', 'ssh_url': 'git@github.com:mralexgray/AnsiLove.framework.git', 'clone_url': 'https://github.com/mralexgray/AnsiLove.framework.git', 'svn_url': 'https://github.com/mralexgray/AnsiLove.framework', 'homepage': 'http://byteproject.net', 'size': 3780, 'stargazers_count': 0, 'watchers_count': 0, 'language': 'M', 'has_issues': False, 'has_projects': True, 'has_downloads': True, 'has_wiki': False, 'has_pages': False, 'has_discussions': False, 'forks_count': 0, 'mirror_url': None, 'archived': False, 'disabled': False, 'open_issues_count': 0, 'license': {'key': 'other', 'name': 'Other', 'spdx_id': 'NOASSERTION', 'url': None, 'node_id': 'MDc6TGljZW5zZTA='}, 'allow_forking': True, 'is_template': False, 'web_commit_signoff_required': False, 'topics': [], 'visibility': 'public', 'forks': 0, 'open_issues': 0, 'watchers': 0, 'default_branch': 'master'}, {'id': 5189563, 'node_id': 'MDEwOlJlcG9zaXRvcnk1MTg5NTYz', 'name': 'ANTrackBar', 'full_name': 'mralexgray/ANTrackBar', 'private': False, 'owner': {'login': 'mralexgray', 'id': 262517, 'node_id': 'MDQ6VXNlcjI2MjUxNw==', 'avatar_url': 'https://avatars.githubusercontent.com/u/262517?v=4', 'gravatar_id': '', 'url': 'https://api.github.com/users/mralexgray', 'html_url': 'https://github.com/mralexgray', 'followers_url': 'https://api.github.com/users/mralexgray/followers', 'following_url': 'https://api.github.com/users/mralexgray/following{/other_user}', 'gists_url': 'https://api.github.com/users/mralexgray/gists{/gist_id}', 'starred_url': 'https://api.github.com/users/mralexgray/starred{/owner}{/repo}', 'subscriptions_url': 'https://api.github.com/users/mralexgray/subscriptions', 'organizations_url': 'https://api.github.com/users/mralexgray/orgs', 'repos_url': 'https://api.github.com/users/mralexgray/repos', 'events_url': 'https://api.github.com/users/mralexgray/events{/privacy}', 'received_events_url': 'https://api.github.com/users/mralexgray/received_events', 'type': 'User', 'site_admin': False}, 'html_url': 'https://github.com/mralexgray/ANTrackBar', 'description': 'An easy-to-use Cocoa seek bar with a pleasing appearance', 'fork': True, 'url': 'https://api.github.com/repos/mralexgray/ANTrackBar', 'forks_url': 'https://api.github.com/repos/mralexgray/ANTrackBar/forks', 'keys_url': 'https://api.github.com/repos/mralexgray/ANTrackBar/keys{/key_id}', 'collaborators_url': 'https://api.github.com/repos/mralexgray/ANTrackBar/collaborators{/collaborator}', 'teams_url': 'https://api.github.com/repos/mralexgray/ANTrackBar/teams', 'hooks_url': 'https://api.github.com/repos/mralexgray/ANTrackBar/hooks', 'issue_events_url': 'https://api.github.com/repos/mralexgray/ANTrackBar/issues/events{/number}', 'events_url': 'https://api.github.com/repos/mralexgray/ANTrackBar/events', 'assignees_url': 'https://api.github.com/repos/mralexgray/ANTrackBar/assignees{/user}', 'branches_url': 'https://api.github.com/repos/mralexgray/ANTrackBar/branches{/branch}', 'tags_url': 'https://api.github.com/repos/mralexgray/ANTrackBar/tags', 'blobs_url': 'https://api.github.com/repos/mralexgray/ANTrackBar/git/blobs{/sha}', 'git_tags_url': 'https://api.github.com/repos/mralexgray/ANTrackBar/git/tags{/sha}', 'git_refs_url': 'https://api.github.com/repos/mralexgray/ANTrackBar/git/refs{/sha}', 'trees_url': 'https://api.github.com/repos/mralexgray/ANTrackBar/git/trees{/sha}', 'statuses_url': 'https://api.github.com/repos/mralexgray/ANTrackBar/statuses/{sha}', 'languages_url': 'https://api.github.com/repos/mralexgray/ANTrackBar/languages', 'stargazers_url': 'https://api.github.com/repos/mralexgray/ANTrackBar/stargazers', 'contributors_url': 'https://api.github.com/repos/mralexgray/ANTrackBar/contributors', 'subscribers_url': 'https://api.github.com/repos/mralexgray/ANTrackBar/subscribers', 'subscription_url': 'https://api.github.com/repos/mralexgray/ANTrackBar/subscription', 'commits_url': 'https://api.github.com/repos/mralexgray/ANTrackBar/commits{/sha}', 'git_commits_url': 'https://api.github.com/repos/mralexgray/ANTrackBar/git/commits{/sha}', 'comments_url': 'https://api.github.com/repos/mralexgray/ANTrackBar/comments{/number}', 'issue_comment_url': 'https://api.github.com/repos/mralexgray/ANTrackBar/issues/comments{/number}', 'contents_url': 'https://api.github.com/repos/mralexgray/ANTrackBar/contents/{+path}', 'compare_url': 'https://api.github.com/repos/mralexgray/ANTrackBar/compare/{base}...{head}', 'merges_url': 'https://api.github.com/repos/mralexgray/ANTrackBar/merges', 'archive_url': 'https://api.github.com/repos/mralexgray/ANTrackBar/{archive_format}{/ref}', 'downloads_url': 'https://api.github.com/repos/mralexgray/ANTrackBar/downloads', 'issues_url': 'https://api.github.com/repos/mralexgray/ANTrackBar/issues{/number}', 'pulls_url': 'https://api.github.com/repos/mralexgray/ANTrackBar/pulls{/number}', 'milestones_url': 'https://api.github.com/repos/mralexgray/ANTrackBar/milestones{/number}', 'notifications_url': 'https://api.github.com/repos/mralexgray/ANTrackBar/notifications{?since,all,participating}', 'labels_url': 'https://api.github.com/repos/mralexgray/ANTrackBar/labels{/name}', 'releases_url': 'https://api.github.com/repos/mralexgray/ANTrackBar/releases{/id}', 'deployments_url': 'https://api.github.com/repos/mralexgray/ANTrackBar/deployments', 'created_at': '2012-07-26T08:17:22Z', 'updated_at': '2013-01-11T10:29:56Z', 'pushed_at': '2012-03-09T01:40:02Z', 'git_url': 'git://github.com/mralexgray/ANTrackBar.git', 'ssh_url': 'git@github.com:mralexgray/ANTrackBar.git', 'clone_url': 'https://github.com/mralexgray/ANTrackBar.git', 'svn_url': 'https://github.com/mralexgray/ANTrackBar', 'homepage': '', 'size': 94, 'stargazers_count': 2, 'watchers_count': 2, 'language': 'Objective-C', 'has_issues': False, 'has_projects': True, 'has_downloads': True, 'has_wiki': True, 'has_pages': False, 'has_discussions': False, 'forks_count': 0, 'mirror_url': None, 'archived': False, 'disabled': False, 'open_issues_count': 0, 'license': None, 'allow_forking': True, 'is_template': False, 'web_commit_signoff_required': False, 'topics': [], 'visibility': 'public', 'forks': 0, 'open_issues': 0, 'watchers': 2, 'default_branch': 'master'}, {'id': 16240152, 'node_id': 'MDEwOlJlcG9zaXRvcnkxNjI0MDE1Mg==', 'name': 'AOP-in-Objective-C', 'full_name': 'mralexgray/AOP-in-Objective-C', 'private': False, 'owner': {'login': 'mralexgray', 'id': 262517, 'node_id': 'MDQ6VXNlcjI2MjUxNw==', 'avatar_url': 'https://avatars.githubusercontent.com/u/262517?v=4', 'gravatar_id': '', 'url': 'https://api.github.com/users/mralexgray', 'html_url': 'https://github.com/mralexgray', 'followers_url': 'https://api.github.com/users/mralexgray/followers', 'following_url': 'https://api.github.com/users/mralexgray/following{/other_user}', 'gists_url': 'https://api.github.com/users/mralexgray/gists{/gist_id}', 'starred_url': 'https://api.github.com/users/mralexgray/starred{/owner}{/repo}', 'subscriptions_url': 'https://api.github.com/users/mralexgray/subscriptions', 'organizations_url': 'https://api.github.com/users/mralexgray/orgs', 'repos_url': 'https://api.github.com/users/mralexgray/repos', 'events_url': 'https://api.github.com/users/mralexgray/events{/privacy}', 'received_events_url': 'https://api.github.com/users/mralexgray/received_events', 'type': 'User', 'site_admin': False}, 'html_url': 'https://github.com/mralexgray/AOP-in-Objective-C', 'description': 'An NSProxy based library for easily enabling AOP like functionality in Objective-C.', 'fork': True, 'url': 'https://api.github.com/repos/mralexgray/AOP-in-Objective-C', 'forks_url': 'https://api.github.com/repos/mralexgray/AOP-in-Objective-C/forks', 'keys_url': 'https://api.github.com/repos/mralexgray/AOP-in-Objective-C/keys{/key_id}', 'collaborators_url': 'https://api.github.com/repos/mralexgray/AOP-in-Objective-C/collaborators{/collaborator}', 'teams_url': 'https://api.github.com/repos/mralexgray/AOP-in-Objective-C/teams', 'hooks_url': 'https://api.github.com/repos/mralexgray/AOP-in-Objective-C/hooks', 'issue_events_url': 'https://api.github.com/repos/mralexgray/AOP-in-Objective-C/issues/events{/number}', 'events_url': 'https://api.github.com/repos/mralexgray/AOP-in-Objective-C/events', 'assignees_url': 'https://api.github.com/repos/mralexgray/AOP-in-Objective-C/assignees{/user}', 'branches_url': 'https://api.github.com/repos/mralexgray/AOP-in-Objective-C/branches{/branch}', 'tags_url': 'https://api.github.com/repos/mralexgray/AOP-in-Objective-C/tags', 'blobs_url': 'https://api.github.com/repos/mralexgray/AOP-in-Objective-C/git/blobs{/sha}', 'git_tags_url': 'https://api.github.com/repos/mralexgray/AOP-in-Objective-C/git/tags{/sha}', 'git_refs_url': 'https://api.github.com/repos/mralexgray/AOP-in-Objective-C/git/refs{/sha}', 'trees_url': 'https://api.github.com/repos/mralexgray/AOP-in-Objective-C/git/trees{/sha}', 'statuses_url': 'https://api.github.com/repos/mralexgray/AOP-in-Objective-C/statuses/{sha}', 'languages_url': 'https://api.github.com/repos/mralexgray/AOP-in-Objective-C/languages', 'stargazers_url': 'https://api.github.com/repos/mralexgray/AOP-in-Objective-C/stargazers', 'contributors_url': 'https://api.github.com/repos/mralexgray/AOP-in-Objective-C/contributors', 'subscribers_url': 'https://api.github.com/repos/mralexgray/AOP-in-Objective-C/subscribers', 'subscription_url': 'https://api.github.com/repos/mralexgray/AOP-in-Objective-C/subscription', 'commits_url': 'https://api.github.com/repos/mralexgray/AOP-in-Objective-C/commits{/sha}', 'git_commits_url': 'https://api.github.com/repos/mralexgray/AOP-in-Objective-C/git/commits{/sha}', 'comments_url': 'https://api.github.com/repos/mralexgray/AOP-in-Objective-C/comments{/number}', 'issue_comment_url': 'https://api.github.com/repos/mralexgray/AOP-in-Objective-C/issues/comments{/number}', 'contents_url': 'https://api.github.com/repos/mralexgray/AOP-in-Objective-C/contents/{+path}', 'compare_url': 'https://api.github.com/repos/mralexgray/AOP-in-Objective-C/compare/{base}...{head}', 'merges_url': 'https://api.github.com/repos/mralexgray/AOP-in-Objective-C/merges', 'archive_url': 'https://api.github.com/repos/mralexgray/AOP-in-Objective-C/{archive_format}{/ref}', 'downloads_url': 'https://api.github.com/repos/mralexgray/AOP-in-Objective-C/downloads', 'issues_url': 'https://api.github.com/repos/mralexgray/AOP-in-Objective-C/issues{/number}', 'pulls_url': 'https://api.github.com/repos/mralexgray/AOP-in-Objective-C/pulls{/number}', 'milestones_url': 'https://api.github.com/repos/mralexgray/AOP-in-Objective-C/milestones{/number}', 'notifications_url': 'https://api.github.com/repos/mralexgray/AOP-in-Objective-C/notifications{?since,all,participating}', 'labels_url': 'https://api.github.com/repos/mralexgray/AOP-in-Objective-C/labels{/name}', 'releases_url': 'https://api.github.com/repos/mralexgray/AOP-in-Objective-C/releases{/id}', 'deployments_url': 'https://api.github.com/repos/mralexgray/AOP-in-Objective-C/deployments', 'created_at': '2014-01-25T21:18:04Z', 'updated_at': '2014-06-19T19:38:12Z', 'pushed_at': '2014-02-12T16:23:20Z', 'git_url': 'git://github.com/mralexgray/AOP-in-Objective-C.git', 'ssh_url': 'git@github.com:mralexgray/AOP-in-Objective-C.git', 'clone_url': 'https://github.com/mralexgray/AOP-in-Objective-C.git', 'svn_url': 'https://github.com/mralexgray/AOP-in-Objective-C', 'homepage': 'http://innoli.hu/en/opensource/', 'size': 340, 'stargazers_count': 0, 'watchers_count': 0, 'language': 'Objective-C', 'has_issues': False, 'has_projects': True, 'has_downloads': True, 'has_wiki': True, 'has_pages': False, 'has_discussions': False, 'forks_count': 1, 'mirror_url': None, 'archived': False, 'disabled': False, 'open_issues_count': 0, 'license': None, 'allow_forking': True, 'is_template': False, 'web_commit_signoff_required': False, 'topics': [], 'visibility': 'public', 'forks': 1, 'open_issues': 0, 'watchers': 0, 'default_branch': 'travis-coveralls'}, {'id': 13141936, 'node_id': 'MDEwOlJlcG9zaXRvcnkxMzE0MTkzNg==', 'name': 'Apaxy', 'full_name': 'mralexgray/Apaxy', 'private': False, 'owner': {'login': 'mralexgray', 'id': 262517, 'node_id': 'MDQ6VXNlcjI2MjUxNw==', 'avatar_url': 'https://avatars.githubusercontent.com/u/262517?v=4', 'gravatar_id': '', 'url': 'https://api.github.com/users/mralexgray', 'html_url': 'https://github.com/mralexgray', 'followers_url': 'https://api.github.com/users/mralexgray/followers', 'following_url': 'https://api.github.com/users/mralexgray/following{/other_user}', 'gists_url': 'https://api.github.com/users/mralexgray/gists{/gist_id}', 'starred_url': 'https://api.github.com/users/mralexgray/starred{/owner}{/repo}', 'subscriptions_url': 'https://api.github.com/users/mralexgray/subscriptions', 'organizations_url': 'https://api.github.com/users/mralexgray/orgs', 'repos_url': 'https://api.github.com/users/mralexgray/repos', 'events_url': 'https://api.github.com/users/mralexgray/events{/privacy}', 'received_events_url': 'https://api.github.com/users/mralexgray/received_events', 'type': 'User', 'site_admin': False}, 'html_url': 'https://github.com/mralexgray/Apaxy', 'description': 'A simple, customisable theme for your Apache directory listing.', 'fork': True, 'url': 'https://api.github.com/repos/mralexgray/Apaxy', 'forks_url': 'https://api.github.com/repos/mralexgray/Apaxy/forks', 'keys_url': 'https://api.github.com/repos/mralexgray/Apaxy/keys{/key_id}', 'collaborators_url': 'https://api.github.com/repos/mralexgray/Apaxy/collaborators{/collaborator}', 'teams_url': 'https://api.github.com/repos/mralexgray/Apaxy/teams', 'hooks_url': 'https://api.github.com/repos/mralexgray/Apaxy/hooks', 'issue_events_url': 'https://api.github.com/repos/mralexgray/Apaxy/issues/events{/number}', 'events_url': 'https://api.github.com/repos/mralexgray/Apaxy/events', 'assignees_url': 'https://api.github.com/repos/mralexgray/Apaxy/assignees{/user}', 'branches_url': 'https://api.github.com/repos/mralexgray/Apaxy/branches{/branch}', 'tags_url': 'https://api.github.com/repos/mralexgray/Apaxy/tags', 'blobs_url': 'https://api.github.com/repos/mralexgray/Apaxy/git/blobs{/sha}', 'git_tags_url': 'https://api.github.com/repos/mralexgray/Apaxy/git/tags{/sha}', 'git_refs_url': 'https://api.github.com/repos/mralexgray/Apaxy/git/refs{/sha}', 'trees_url': 'https://api.github.com/repos/mralexgray/Apaxy/git/trees{/sha}', 'statuses_url': 'https://api.github.com/repos/mralexgray/Apaxy/statuses/{sha}', 'languages_url': 'https://api.github.com/repos/mralexgray/Apaxy/languages', 'stargazers_url': 'https://api.github.com/repos/mralexgray/Apaxy/stargazers', 'contributors_url': 'https://api.github.com/repos/mralexgray/Apaxy/contributors', 'subscribers_url': 'https://api.github.com/repos/mralexgray/Apaxy/subscribers', 'subscription_url': 'https://api.github.com/repos/mralexgray/Apaxy/subscription', 'commits_url': 'https://api.github.com/repos/mralexgray/Apaxy/commits{/sha}', 'git_commits_url': 'https://api.github.com/repos/mralexgray/Apaxy/git/commits{/sha}', 'comments_url': 'https://api.github.com/repos/mralexgray/Apaxy/comments{/number}', 'issue_comment_url': 'https://api.github.com/repos/mralexgray/Apaxy/issues/comments{/number}', 'contents_url': 'https://api.github.com/repos/mralexgray/Apaxy/contents/{+path}', 'compare_url': 'https://api.github.com/repos/mralexgray/Apaxy/compare/{base}...{head}', 'merges_url': 'https://api.github.com/repos/mralexgray/Apaxy/merges', 'archive_url': 'https://api.github.com/repos/mralexgray/Apaxy/{archive_format}{/ref}', 'downloads_url': 'https://api.github.com/repos/mralexgray/Apaxy/downloads', 'issues_url': 'https://api.github.com/repos/mralexgray/Apaxy/issues{/number}', 'pulls_url': 'https://api.github.com/repos/mralexgray/Apaxy/pulls{/number}', 'milestones_url': 'https://api.github.com/repos/mralexgray/Apaxy/milestones{/number}', 'notifications_url': 'https://api.github.com/repos/mralexgray/Apaxy/notifications{?since,all,participating}', 'labels_url': 'https://api.github.com/repos/mralexgray/Apaxy/labels{/name}', 'releases_url': 'https://api.github.com/repos/mralexgray/Apaxy/releases{/id}', 'deployments_url': 'https://api.github.com/repos/mralexgray/Apaxy/deployments', 'created_at': '2013-09-27T05:05:35Z', 'updated_at': '2018-02-16T21:40:24Z', 'pushed_at': '2013-08-02T16:01:32Z', 'git_url': 'git://github.com/mralexgray/Apaxy.git', 'ssh_url': 'git@github.com:mralexgray/Apaxy.git', 'clone_url': 'https://github.com/mralexgray/Apaxy.git', 'svn_url': 'https://github.com/mralexgray/Apaxy', 'homepage': None, 'size': 113, 'stargazers_count': 0, 'watchers_count': 0, 'language': 'CSS', 'has_issues': False, 'has_projects': True, 'has_downloads': True, 'has_wiki': True, 'has_pages': False, 'has_discussions': False, 'forks_count': 0, 'mirror_url': None, 'archived': False, 'disabled': False, 'open_issues_count': 0, 'license': {'key': 'unlicense', 'name': 'The Unlicense', 'spdx_id': 'Unlicense', 'url': 'https://api.github.com/licenses/unlicense', 'node_id': 'MDc6TGljZW5zZTE1'}, 'allow_forking': True, 'is_template': False, 'web_commit_signoff_required': False, 'topics': [], 'visibility': 'public', 'forks': 0, 'open_issues': 0, 'watchers': 0, 'default_branch': 'master'}, {'id': 20027360, 'node_id': 'MDEwOlJlcG9zaXRvcnkyMDAyNzM2MA==', 'name': 'app', 'full_name': 'mralexgray/app', 'private': False, 'owner': {'login': 'mralexgray', 'id': 262517, 'node_id': 'MDQ6VXNlcjI2MjUxNw==', 'avatar_url': 'https://avatars.githubusercontent.com/u/262517?v=4', 'gravatar_id': '', 'url': 'https://api.github.com/users/mralexgray', 'html_url': 'https://github.com/mralexgray', 'followers_url': 'https://api.github.com/users/mralexgray/followers', 'following_url': 'https://api.github.com/users/mralexgray/following{/other_user}', 'gists_url': 'https://api.github.com/users/mralexgray/gists{/gist_id}', 'starred_url': 'https://api.github.com/users/mralexgray/starred{/owner}{/repo}', 'subscriptions_url': 'https://api.github.com/users/mralexgray/subscriptions', 'organizations_url': 'https://api.github.com/users/mralexgray/orgs', 'repos_url': 'https://api.github.com/users/mralexgray/repos', 'events_url': 'https://api.github.com/users/mralexgray/events{/privacy}', 'received_events_url': 'https://api.github.com/users/mralexgray/received_events', 'type': 'User', 'site_admin': False}, 'html_url': 'https://github.com/mralexgray/app', 'description': 'Instant mobile web app creation', 'fork': True, 'url': 'https://api.github.com/repos/mralexgray/app', 'forks_url': 'https://api.github.com/repos/mralexgray/app/forks', 'keys_url': 'https://api.github.com/repos/mralexgray/app/keys{/key_id}', 'collaborators_url': 'https://api.github.com/repos/mralexgray/app/collaborators{/collaborator}', 'teams_url': 'https://api.github.com/repos/mralexgray/app/teams', 'hooks_url': 'https://api.github.com/repos/mralexgray/app/hooks', 'issue_events_url': 'https://api.github.com/repos/mralexgray/app/issues/events{/number}', 'events_url': 'https://api.github.com/repos/mralexgray/app/events', 'assignees_url': 'https://api.github.com/repos/mralexgray/app/assignees{/user}', 'branches_url': 'https://api.github.com/repos/mralexgray/app/branches{/branch}', 'tags_url': 'https://api.github.com/repos/mralexgray/app/tags', 'blobs_url': 'https://api.github.com/repos/mralexgray/app/git/blobs{/sha}', 'git_tags_url': 'https://api.github.com/repos/mralexgray/app/git/tags{/sha}', 'git_refs_url': 'https://api.github.com/repos/mralexgray/app/git/refs{/sha}', 'trees_url': 'https://api.github.com/repos/mralexgray/app/git/trees{/sha}', 'statuses_url': 'https://api.github.com/repos/mralexgray/app/statuses/{sha}', 'languages_url': 'https://api.github.com/repos/mralexgray/app/languages', 'stargazers_url': 'https://api.github.com/repos/mralexgray/app/stargazers', 'contributors_url': 'https://api.github.com/repos/mralexgray/app/contributors', 'subscribers_url': 'https://api.github.com/repos/mralexgray/app/subscribers', 'subscription_url': 'https://api.github.com/repos/mralexgray/app/subscription', 'commits_url': 'https://api.github.com/repos/mralexgray/app/commits{/sha}', 'git_commits_url': 'https://api.github.com/repos/mralexgray/app/git/commits{/sha}', 'comments_url': 'https://api.github.com/repos/mralexgray/app/comments{/number}', 'issue_comment_url': 'https://api.github.com/repos/mralexgray/app/issues/comments{/number}', 'contents_url': 'https://api.github.com/repos/mralexgray/app/contents/{+path}', 'compare_url': 'https://api.github.com/repos/mralexgray/app/compare/{base}...{head}', 'merges_url': 'https://api.github.com/repos/mralexgray/app/merges', 'archive_url': 'https://api.github.com/repos/mralexgray/app/{archive_format}{/ref}', 'downloads_url': 'https://api.github.com/repos/mralexgray/app/downloads', 'issues_url': 'https://api.github.com/repos/mralexgray/app/issues{/number}', 'pulls_url': 'https://api.github.com/repos/mralexgray/app/pulls{/number}', 'milestones_url': 'https://api.github.com/repos/mralexgray/app/milestones{/number}', 'notifications_url': 'https://api.github.com/repos/mralexgray/app/notifications{?since,all,participating}', 'labels_url': 'https://api.github.com/repos/mralexgray/app/labels{/name}', 'releases_url': 'https://api.github.com/repos/mralexgray/app/releases{/id}', 'deployments_url': 'https://api.github.com/repos/mralexgray/app/deployments', 'created_at': '2014-05-21T15:54:20Z', 'updated_at': '2014-05-21T15:54:22Z', 'pushed_at': '2014-05-20T19:51:38Z', 'git_url': 'git://github.com/mralexgray/app.git', 'ssh_url': 'git@github.com:mralexgray/app.git', 'clone_url': 'https://github.com/mralexgray/app.git', 'svn_url': 'https://github.com/mralexgray/app', 'homepage': None, 'size': 1890, 'stargazers_count': 0, 'watchers_count': 0, 'language': 'JavaScript', 'has_issues': False, 'has_projects': True, 'has_downloads': True, 'has_wiki': True, 'has_pages': False, 'has_discussions': False, 'forks_count': 0, 'mirror_url': None, 'archived': False, 'disabled': False, 'open_issues_count': 0, 'license': {'key': 'other', 'name': 'Other', 'spdx_id': 'NOASSERTION', 'url': None, 'node_id': 'MDc6TGljZW5zZTA='}, 'allow_forking': True, 'is_template': False, 'web_commit_signoff_required': False, 'topics': [], 'visibility': 'public', 'forks': 0, 'open_issues': 0, 'watchers': 0, 'default_branch': 'master'}]\n"
          ]
        }
      ]
    },
    {
      "cell_type": "markdown",
      "source": [
        "## Monitore e Gerencie o Desempenho\n",
        "\n",
        "- Monitore e gerencie o desempenho do código.\n",
        "- Identifique e resolva gargalos de desempenho e problemas de escalabilidade.\n"
      ],
      "metadata": {
        "id": "oVh6sL1vKNCR"
      }
    },
    {
      "cell_type": "code",
      "source": [
        "# Exemplo de otimização de código\n",
        "# Utilize estruturas de dados eficientes\n",
        "lista_numeros = [1, 2, 3, 4, 5]\n",
        "soma = sum(lista_numeros)  # Evita um loop explícito\n",
        "\n",
        "# Use algoritmos eficientes\n",
        "sorted_lista = sorted(lista_numeros)  # Utiliza o algoritmo de ordenação eficiente do Python"
      ],
      "metadata": {
        "id": "cwPi25zmJ4yV"
      },
      "execution_count": null,
      "outputs": []
    },
    {
      "cell_type": "markdown",
      "source": [
        "## Boas Práticas para o Uso de Variáveis, Tipos de Dados e Operadores\n",
        "\n",
        "- Utilize nomes significativos para variáveis, funções e constantes.\n",
        "- Escolha nomes claros e descritivos que reflitam o propósito daquela estrutura no programa.\n"
      ],
      "metadata": {
        "id": "T1qa39XZKVrF"
      }
    },
    {
      "cell_type": "code",
      "source": [
        "# Exemplo de uso de nomes significativos\n",
        "nome = \"João\"\n",
        "idade = 25"
      ],
      "metadata": {
        "id": "ya35xb70KSoE"
      },
      "execution_count": null,
      "outputs": []
    },
    {
      "cell_type": "markdown",
      "source": [
        "## Utilize Tipos de Dados Adequados\n",
        "\n",
        "- Utilize tipos de dados apropriados para as variáveis, evitando conversões desnecessárias.\n",
        "- Isso melhora a eficiência e legibilidade do código.\n"
      ],
      "metadata": {
        "id": "Xs4zVAjNKco3"
      }
    },
    {
      "cell_type": "code",
      "source": [
        "# Exemplo de uso de tipos de dados adequados\n",
        "# Utilize int em vez de float para números inteiros\n",
        "idade = 25\n",
        "\n",
        "# Utilize str em vez de int para strings\n",
        "nome = \"João\""
      ],
      "metadata": {
        "id": "VOA5WFk9Kavd"
      },
      "execution_count": null,
      "outputs": []
    },
    {
      "cell_type": "markdown",
      "source": [
        "## Inicialize Variáveis Antes de Utilizá-las\n",
        "\n",
        "- Inicialize as variáveis antes de utilizá-las para evitar comportamentos inesperados.\n",
        "- Isso ajuda a evitar erros e torna o código mais robusto.\n"
      ],
      "metadata": {
        "id": "BS99QdYuKk8X"
      }
    },
    {
      "cell_type": "code",
      "source": [
        "# Exemplo de inicialização de variáveis\n",
        "numero = 0\n",
        "total = 0.0"
      ],
      "metadata": {
        "id": "h8_8wT9hKikj"
      },
      "execution_count": null,
      "outputs": []
    },
    {
      "cell_type": "markdown",
      "source": [
        "## Utilize Constantes para Melhorar a Legibilidade\n",
        "\n",
        "- Utilize constantes em vez de valores literais para melhorar a legibilidade do código.\n",
        "- Isso torna o código mais compreensível e facilita a manutenção."
      ],
      "metadata": {
        "id": "ECducOJ3KtZS"
      }
    },
    {
      "cell_type": "code",
      "source": [
        "# Exemplo de uso de constantes\n",
        "TAXA_JUROS = 0.05\n",
        "LIMITE_IDADE = 18"
      ],
      "metadata": {
        "id": "Z0-lgFt-KrUd"
      },
      "execution_count": null,
      "outputs": []
    },
    {
      "cell_type": "markdown",
      "source": [
        "## Utilize Parênteses em Expressões com Múltiplos Operadores\n",
        "\n",
        "- Utilize parênteses para evitar ambiguidades em expressões com múltiplos operadores.\n",
        "- Isso torna o código mais claro e evita comportamentos inesperados.\n"
      ],
      "metadata": {
        "id": "Xd-PjYnxK4OM"
      }
    },
    {
      "cell_type": "code",
      "source": [
        "valor1 = 1\n",
        "valor2 = 2\n",
        "valor3 = 3\n",
        "# Exemplo de uso de parênteses em expressões\n",
        "resultado = (valor1 + valor2) * valor3"
      ],
      "metadata": {
        "id": "iqPU3tR1K2Gb"
      },
      "execution_count": null,
      "outputs": []
    },
    {
      "cell_type": "markdown",
      "source": [
        "# Boas Práticas para Implementação de Controle de Fluxos\n",
        "\n",
        "- Use declarações condicionais e loops apropriadamente para evitar código redundante e repetitivo.\n",
        "- Isso melhora a eficiência do código e facilita a sua manutenção.\n"
      ],
      "metadata": {
        "id": "ZJgw5-yFLG0P"
      }
    },
    {
      "cell_type": "code",
      "source": [
        "# Exemplo de uso de declaração condicional\n",
        "if idade >= 18:\n",
        "    print(\"Você é maior de idade\")\n",
        "else:\n",
        "    print(\"Você é menor de idade\")\n"
      ],
      "metadata": {
        "colab": {
          "base_uri": "https://localhost:8080/"
        },
        "id": "vpD1o6rkK82n",
        "outputId": "722a094f-e0c7-43a5-8bb9-b95fcb02adec"
      },
      "execution_count": null,
      "outputs": [
        {
          "output_type": "stream",
          "name": "stdout",
          "text": [
            "Você é maior de idade\n"
          ]
        }
      ]
    },
    {
      "cell_type": "markdown",
      "source": [
        "## Utilize o Operador Lógico and em Declarações Condicionais\n",
        "\n",
        "- Utilize o operador lógico **and** em declarações condicionais para evitar execuções desnecessárias.\n",
        "- Isso melhora a eficiência do código, pois o código após o operador && só será executado se a condição anterior for verdadeira.\n"
      ],
      "metadata": {
        "id": "caYKrcdkLgIl"
      }
    },
    {
      "cell_type": "code",
      "source": [
        "# Exemplo de uso do operador lógico &&\n",
        "if idade >= 18 and idade <= 65:\n",
        "    print(\"Você está na idade adulta\")"
      ],
      "metadata": {
        "colab": {
          "base_uri": "https://localhost:8080/"
        },
        "id": "Ia3rYYPSLZRz",
        "outputId": "04c9e0ee-9947-4f8e-d658-7d39c7c6543c"
      },
      "execution_count": null,
      "outputs": [
        {
          "output_type": "stream",
          "name": "stdout",
          "text": [
            "Você está na idade adulta\n"
          ]
        }
      ]
    },
    {
      "cell_type": "markdown",
      "source": [
        "## Evite Loops Infinitos ou Mal Formatados\n",
        "\n",
        "- Evite loops infinitos ou mal formatados que podem levar a problemas de desempenho ou falhas do programa.\n",
        "- Certifique-se de que o loop tenha uma condição de parada adequada.\n"
      ],
      "metadata": {
        "id": "TM3zmln-Louz"
      }
    },
    {
      "cell_type": "code",
      "source": [
        "condicao = True\n",
        "# Exemplo de loop infinito\n",
        "while True:\n",
        "    # Código do loop\n",
        "    ...\n",
        "    # Condição de parada\n",
        "    if condicao:\n",
        "        break"
      ],
      "metadata": {
        "id": "l73UnlxGLmxt"
      },
      "execution_count": null,
      "outputs": []
    },
    {
      "cell_type": "markdown",
      "source": [
        "## Utilize Nomes de Variáveis Claros e Descritivos\n",
        "\n",
        "- Utilize nomes de variáveis claros e descritivos para tornar o código mais legível.\n",
        "- Escolha nomes que reflitam o propósito e conteúdo da variável.\n"
      ],
      "metadata": {
        "id": "m3_DtiBkL4cy"
      }
    },
    {
      "cell_type": "code",
      "source": [
        "# Exemplo de uso de nomes de variáveis claros\n",
        "total_vendas = 1000\n",
        "quantidade_produtos = 50"
      ],
      "metadata": {
        "id": "_utuxT7bLwJs"
      },
      "execution_count": null,
      "outputs": []
    },
    {
      "cell_type": "markdown",
      "source": [
        "# Boas Práticas para Uso e Implementação de Funções\n",
        "\n",
        "- Nomeie as funções com nomes claros e significativos.\n",
        "- Isso facilita a compreensão do propósito e funcionalidade da função.\n"
      ],
      "metadata": {
        "id": "FO5pHQ6AMAAK"
      }
    },
    {
      "cell_type": "code",
      "source": [
        "# Exemplo de nomeação clara de função\n",
        "def calcular_area_retangulo(comprimento, largura):\n",
        "    area = comprimento * largura\n",
        "    return area"
      ],
      "metadata": {
        "id": "itYvsFmjL89D"
      },
      "execution_count": null,
      "outputs": []
    },
    {
      "cell_type": "markdown",
      "source": [
        "## Limite o Tamanho das Funções\n",
        "\n",
        "- Limite o tamanho das funções para facilitar a leitura e manutenção do código.\n",
        "- Funções muito longas e complexas podem ser difíceis de entender e modificar.\n"
      ],
      "metadata": {
        "id": "1e-yjaGeMHk5"
      }
    },
    {
      "cell_type": "code",
      "source": [
        "# Exemplo de função bem estruturada e de tamanho limitado\n",
        "def calcular_media(valores):\n",
        "    soma = 0\n",
        "    for valor in valores:\n",
        "        soma += valor\n",
        "    media = soma / len(valores)\n",
        "    return media"
      ],
      "metadata": {
        "id": "43Tr2rGtMFe5"
      },
      "execution_count": null,
      "outputs": []
    },
    {
      "cell_type": "markdown",
      "source": [
        "## Declare as Funções Antes de Usá-las\n",
        "\n",
        "- Declare as funções antes de usá-las para evitar erros de compilação.\n",
        "- Isso garante que o interpretador Python reconheça a função antes de sua utilização.\n"
      ],
      "metadata": {
        "id": "k7LtKZEBMQlo"
      }
    },
    {
      "cell_type": "code",
      "source": [
        "# Exemplo de declaração de função antes de usá-la\n",
        "def calcular_area_circulo(raio):\n",
        "    return 3.14 * raio * raio\n",
        "\n",
        "area = calcular_area_circulo(5)"
      ],
      "metadata": {
        "id": "RjbsTyazMOoI"
      },
      "execution_count": null,
      "outputs": []
    },
    {
      "cell_type": "markdown",
      "source": [
        "## Documente as Funções\n",
        "\n",
        "- Documente as funções com comentários claros e precisos.\n",
        "- Isso facilita a compreensão da função, seus parâmetros e retorno.\n"
      ],
      "metadata": {
        "id": "I81rAdV1MXbb"
      }
    },
    {
      "cell_type": "code",
      "source": [
        "# Exemplo de documentação de função\n",
        "def calcular_imposto(salario):\n",
        "    \"\"\"\n",
        "    Calcula o valor do imposto de renda com base no salário informado.\n",
        "    Parâmetros:\n",
        "    - salario: salário bruto do contribuinte\n",
        "    Retorna:\n",
        "    - valor do imposto de renda a ser pago\n",
        "    \"\"\"\n",
        "    imposto = salario * 0.15\n",
        "    return imposto"
      ],
      "metadata": {
        "id": "8dOL0JR1MVo8"
      },
      "execution_count": null,
      "outputs": []
    },
    {
      "cell_type": "markdown",
      "source": [
        "## Use Parâmetros de Entrada e Saída Adequadamente\n",
        "\n",
        "- Utilize parâmetros de entrada e saída de forma adequada.\n",
        "- Evite passar parâmetros desnecessários ou inseguros.\n"
      ],
      "metadata": {
        "id": "a890UdDNMfq-"
      }
    },
    {
      "cell_type": "code",
      "source": [
        "# Exemplo de uso adequado de parâmetros de entrada e saída\n",
        "def calcular_salario_liquido(salario_bruto, descontos):\n",
        "    salario_liquido = salario_bruto - descontos\n",
        "    return salario_liquido\n"
      ],
      "metadata": {
        "id": "DY10BKcGMdqQ"
      },
      "execution_count": null,
      "outputs": []
    },
    {
      "cell_type": "markdown",
      "source": [
        "# Boas Práticas para I/O (Entrada/Saída)\n",
        "\n",
        "- Utilize boas práticas ao lidar com a entrada e saída de dados em seu programa.\n",
        "- Isso inclui validar a entrada, utilizar nomes descritivos, tratar erros adequadamente, evitar sobrecarga e utilizar formatação adequada."
      ],
      "metadata": {
        "id": "b0SgWSV1MoVa"
      }
    },
    {
      "cell_type": "markdown",
      "source": [
        "## Sempre Verifique a Entrada de Dados\n",
        "\n",
        "- Verifique se a entrada de dados está no formato esperado antes de processá-la.\n",
        "- Isso ajuda a evitar erros de execução causados por dados inválidos.\n"
      ],
      "metadata": {
        "id": "M77ZGReRMui0"
      }
    },
    {
      "cell_type": "code",
      "source": [
        "# Exemplo de verificação da entrada de dados\n",
        "idade = input(\"Digite sua idade: \")\n",
        "if idade.isdigit():\n",
        "    idade = int(idade)\n",
        "    # Código para processar a idade\n",
        "else:\n",
        "    print(\"Entrada inválida! Digite um número inteiro.\")"
      ],
      "metadata": {
        "colab": {
          "base_uri": "https://localhost:8080/"
        },
        "id": "ikTrEEA9Mk8M",
        "outputId": "d278d25e-a2b3-488c-ca0e-40b0f36372f2"
      },
      "execution_count": null,
      "outputs": [
        {
          "name": "stdout",
          "output_type": "stream",
          "text": [
            "Digite sua idade: 10\n"
          ]
        }
      ]
    },
    {
      "cell_type": "markdown",
      "source": [
        "## Use Nomes Descritivos\n",
        "\n",
        "- Utilize nomes descritivos para variáveis, funções e arquivos relacionados à entrada e saída de dados.\n",
        "- Isso ajuda a entender o propósito e contexto dos dados.\n"
      ],
      "metadata": {
        "id": "YH-tu0gKM32J"
      }
    },
    {
      "cell_type": "code",
      "source": [
        "# Exemplo de nomeação descritiva de variável\n",
        "nome_usuario = input(\"Digite seu nome: \")"
      ],
      "metadata": {
        "colab": {
          "base_uri": "https://localhost:8080/"
        },
        "id": "3qxKB48eMz7r",
        "outputId": "262a19fa-2366-4676-b250-d279e15e50d2"
      },
      "execution_count": null,
      "outputs": [
        {
          "name": "stdout",
          "output_type": "stream",
          "text": [
            "Digite seu nome: armando\n"
          ]
        }
      ]
    },
    {
      "cell_type": "markdown",
      "source": [
        "## Faça a Validação e o Tratamento de Erros Adequados\n",
        "\n",
        "- Realize a validação e tratamento adequados de erros ao lidar com entrada/saída de dados.\n",
        "- Isso ajuda a evitar falhas de execução e resultados inesperados.\n"
      ],
      "metadata": {
        "id": "-B7vgcnLM-q5"
      }
    },
    {
      "cell_type": "code",
      "source": [
        "# Exemplo de tratamento de erro de abertura de arquivo\n",
        "try:\n",
        "    arquivo = open(\"dados.txt\", \"r\")\n",
        "    # Código para processar o arquivo\n",
        "    arquivo.close()\n",
        "except IOError:\n",
        "    print(\"Erro ao abrir o arquivo!\")"
      ],
      "metadata": {
        "colab": {
          "base_uri": "https://localhost:8080/"
        },
        "id": "NMklyoi1M8P8",
        "outputId": "1d452af4-8c72-4bc0-9537-f60e15864c9f"
      },
      "execution_count": null,
      "outputs": [
        {
          "output_type": "stream",
          "name": "stdout",
          "text": [
            "Erro ao abrir o arquivo!\n"
          ]
        }
      ]
    },
    {
      "cell_type": "markdown",
      "source": [
        "## Limite o Uso de Funções de I/O em Loops\n",
        "\n",
        "- Evite o uso excessivo de funções de entrada/saída de dados em loops.\n",
        "- Isso pode causar sobrecarga e lentidão no programa.\n"
      ],
      "metadata": {
        "id": "ofnkzCn3NFbw"
      }
    },
    {
      "cell_type": "code",
      "source": [
        "# Exemplo de uso adequado de função de leitura em loop\n",
        "lista_nomes = []\n",
        "while True:\n",
        "    nome = input(\"Digite um nome (ou 'sair' para encerrar): \")\n",
        "    if nome == \"sair\":\n",
        "        break\n",
        "    lista_nomes.append(nome)\n",
        "print(lista_nomes)"
      ],
      "metadata": {
        "colab": {
          "base_uri": "https://localhost:8080/"
        },
        "id": "sMwyyI-zNDe2",
        "outputId": "d7577f8a-ce5e-4ff9-be01-fe986ff81a62"
      },
      "execution_count": null,
      "outputs": [
        {
          "output_type": "stream",
          "name": "stdout",
          "text": [
            "Digite um nome (ou 'sair' para encerrar): Armando\n",
            "Digite um nome (ou 'sair' para encerrar): Maria\n",
            "Digite um nome (ou 'sair' para encerrar): Carla\n",
            "Digite um nome (ou 'sair' para encerrar): sair\n",
            "['Armando', 'Maria', 'Carla']\n"
          ]
        }
      ]
    },
    {
      "cell_type": "markdown",
      "source": [
        "## Utilize Formatação Adequada\n",
        "\n",
        "- Utilize formatação adequada para exibição de saída de dados.\n",
        "- Isso facilita a leitura e interpretação por parte do usuário.\n"
      ],
      "metadata": {
        "id": "1585BKK8NNkA"
      }
    },
    {
      "cell_type": "code",
      "source": [
        "# Exemplo de formatação adequada para exibição de dados\n",
        "nome = \"João\"\n",
        "idade = 25\n",
        "print(f\"Nome: {nome}, Idade: {idade}\")\n"
      ],
      "metadata": {
        "colab": {
          "base_uri": "https://localhost:8080/"
        },
        "id": "dKq5JWr0NKZz",
        "outputId": "cf2e3ab7-d78d-4d3b-ed5c-ef6b28dad7f3"
      },
      "execution_count": null,
      "outputs": [
        {
          "output_type": "stream",
          "name": "stdout",
          "text": [
            "Nome: João, Idade: 25\n"
          ]
        }
      ]
    },
    {
      "cell_type": "markdown",
      "source": [
        "# Boas Práticas para Criação e Manipulação de Arquivos .txt\n",
        "\n",
        "- Utilize boas práticas ao lidar com a criação e manipulação de arquivos .txt em seu programa.\n",
        "- Isso inclui verificar a abertura do arquivo e fechá-lo adequadamente.\n",
        "\n",
        "Verifique a Abertura do Arquivo\n",
        "\n",
        "- Verifique se a abertura do arquivo foi bem sucedida antes de realizar qualquer operação de escrita ou leitura.\n",
        "- Isso ajuda a evitar erros e falhas durante a manipulação do arquivo.\n",
        "\n"
      ],
      "metadata": {
        "id": "dg2Th_KTNV4V"
      }
    },
    {
      "cell_type": "code",
      "source": [
        "# Exemplo de verificação da abertura do arquivo\n",
        "try:\n",
        "    arquivo = open(\"dados.txt\", \"r\")\n",
        "    # Código para ler o arquivo\n",
        "    arquivo.close()\n",
        "except IOError:\n",
        "    print(\"Erro ao abrir o arquivo!\")"
      ],
      "metadata": {
        "colab": {
          "base_uri": "https://localhost:8080/"
        },
        "id": "wrs185JSNTOp",
        "outputId": "4b199115-9a51-4f77-e0f1-6475f00b5627"
      },
      "execution_count": null,
      "outputs": [
        {
          "output_type": "stream",
          "name": "stdout",
          "text": [
            "Erro ao abrir o arquivo!\n"
          ]
        }
      ]
    },
    {
      "cell_type": "markdown",
      "source": [
        "## Feche o Arquivo Após a Finalização\n",
        "\n",
        "- Não se esqueça de fechar o arquivo após a finalização das operações.\n",
        "- Isso ajuda a evitar vazamentos de recursos e perda de dados.\n"
      ],
      "metadata": {
        "id": "aynbTAKgNiV2"
      }
    },
    {
      "cell_type": "code",
      "source": [
        "try:\n",
        "    arquivo = open(\"dados.txt\", \"w\")\n",
        "    # Código para escrever no arquivo\n",
        "finally:\n",
        "    arquivo.close()"
      ],
      "metadata": {
        "id": "nyhP0qfsNgRd"
      },
      "execution_count": null,
      "outputs": []
    }
  ]
}