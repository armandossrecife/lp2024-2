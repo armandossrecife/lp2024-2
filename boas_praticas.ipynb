{
  "nbformat": 4,
  "nbformat_minor": 0,
  "metadata": {
    "colab": {
      "provenance": [],
      "authorship_tag": "ABX9TyN7rDGmIn5uDPkhAqjGsXsV",
      "include_colab_link": true
    },
    "kernelspec": {
      "name": "python3",
      "display_name": "Python 3"
    },
    "language_info": {
      "name": "python"
    }
  },
  "cells": [
    {
      "cell_type": "markdown",
      "metadata": {
        "id": "view-in-github",
        "colab_type": "text"
      },
      "source": [
        "<a href=\"https://colab.research.google.com/github/armandossrecife/lp2024-2/blob/main/boas_praticas.ipynb\" target=\"_parent\"><img src=\"https://colab.research.google.com/assets/colab-badge.svg\" alt=\"Open In Colab\"/></a>"
      ]
    },
    {
      "cell_type": "markdown",
      "source": [
        "# Boas Práticas de Programação"
      ],
      "metadata": {
        "id": "6axozNq4GH81"
      }
    },
    {
      "cell_type": "markdown",
      "source": [
        "## Geral\n",
        "\n",
        "Geral de Boas práticas de programação\n",
        "\n",
        "Aqui estão algumas boas práticas de programação em Python que podem ajudar a escrever código mais legível, eficiente e de fácil manutenção:\n",
        "\n",
        "1. Siga a PEP 8: A PEP 8 é um guia de estilo para a escrita de código Python. Ela define convenções para formatação de código, nomeação de variáveis e funções, uso de espaços em branco, entre outros aspectos. Seguir as diretrizes da PEP 8 ajuda a manter um estilo consistente e facilita a leitura e compreensão do código.\n",
        "\n",
        "2. Escreva código legível: Escolha nomes descritivos para variáveis, funções e classes. Comente o código quando necessário para explicar a lógica ou o propósito de determinadas partes. Quebre linhas longas em múltiplas linhas para melhorar a legibilidade.\n",
        "\n",
        "3. Utilize estruturas de dados adequadas: Python possui uma ampla gama de estruturas de dados integradas, como listas, dicionários, conjuntos, etc. Escolha a estrutura de dados mais apropriada para cada caso, levando em consideração a eficiência e a semântica do código.\n",
        "\n",
        "4. Evite repetição de código: Identifique trechos de código que se repetem e os coloque em funções ou métodos reutilizáveis. Isso torna o código mais conciso, mais fácil de manter e evita a duplicação de esforços.\n",
        "\n",
        "5. Faça uso de bibliotecas e módulos: Aproveite as bibliotecas e módulos disponíveis na comunidade Python. Isso permite que você reutilize soluções já implementadas e evite reinventar a roda. Sempre que possível, procure bibliotecas confiáveis e amplamente utilizadas para tarefas comuns.\n",
        "\n",
        "6. Trate exceções de forma adequada: Utilize blocos try-except para capturar e tratar exceções de maneira apropriada. Isso ajuda a garantir que o código seja robusto e evita que erros inesperados interrompam a execução do programa.\n",
        "\n",
        "7. Escreva testes unitários: Desenvolva testes unitários para verificar o comportamento correto do seu código. Isso ajuda a identificar problemas antecipadamente, facilita a depuração e melhora a confiabilidade do sistema.\n",
        "\n",
        "8. Documente o código: Utilize docstrings para documentar suas funções, métodos e classes. Forneça informações claras sobre o propósito, os parâmetros e os valores de retorno das suas funções. Isso ajuda outros desenvolvedores a entenderem e utilizarem seu código.\n",
        "\n",
        "9. Mantenha o código organizado: Utilize espaços em branco e indentação adequados para tornar a estrutura do código clara e consistente. Organize seus arquivos e diretórios de forma lógica e consistente.\n",
        "\n",
        "10. Atualize-se constantemente: Aprenda e explore as novas funcionalidades e recursos do Python. A linguagem está em constante evolução, e estar atualizado com as novidades pode ajudar a melhorar a qualidade e a eficiência do seu código.\n",
        "\n",
        "Lembrando que essas são apenas algumas boas práticas gerais. Cada projeto pode ter suas próprias necessidades e requisitos específicos. O importante é sempre buscar escrever um código claro, eficiente e de fácil manutenção."
      ],
      "metadata": {
        "id": "qJAWk4XpGKr0"
      }
    },
    {
      "cell_type": "markdown",
      "source": [
        "# Introdução\n",
        "\n",
        "As melhores práticas de programação são importantes para escrever código claro, legível e de fácil manutenção. Nesta apresentação, abordaremos algumas dessas práticas, juntamente com exemplos em Python."
      ],
      "metadata": {
        "id": "D00yGG-ZGU5C"
      }
    },
    {
      "cell_type": "markdown",
      "source": [
        "## Utilize Nomes Significativos\n",
        "\n",
        "- Escolha nomes claros e descritivos para variáveis, funções e estruturas.\n",
        "- Reflita o propósito da estrutura no programa.\n"
      ],
      "metadata": {
        "id": "s1gRBgGDGakY"
      }
    },
    {
      "cell_type": "code",
      "source": [
        "# Exemplo de nome significativo para variável\n",
        "idade = 25\n",
        "\n",
        "# Exemplo de nome significativo para função\n",
        "def calcular_media(notas):\n",
        "    # Código para calcular a média das notas\n",
        "    pass"
      ],
      "metadata": {
        "id": "_To7DcmPGeRb"
      },
      "execution_count": null,
      "outputs": []
    },
    {
      "cell_type": "markdown",
      "source": [
        "## Utilize Comentários\n",
        "\n",
        "- Explique o que o código faz e como funciona.\n",
        "- Facilita a compreensão e manutenção do código por outros programadores.\n"
      ],
      "metadata": {
        "id": "po4f2S1EGn8_"
      }
    },
    {
      "cell_type": "code",
      "source": [
        "# Função para calcular o fatorial de um número\n",
        "def calcular_fatorial(n):\n",
        "    \"\"\"\n",
        "    Esta função calcula o fatorial de um número inteiro positivo.\n",
        "    \"\"\"\n",
        "    # Código para calcular o fatorial\n",
        "    pass\n"
      ],
      "metadata": {
        "id": "s4FngYiIGq-R"
      },
      "execution_count": null,
      "outputs": []
    },
    {
      "cell_type": "markdown",
      "source": [
        "## Organize o Código\n",
        "\n",
        "- Utilize indentação para destacar blocos de código.\n",
        "- Utilize espaços em branco de forma adequada.\n",
        "- Escolha um estilo de codificação consistente.\n"
      ],
      "metadata": {
        "id": "2sSW05RPGuDD"
      }
    },
    {
      "cell_type": "code",
      "source": [
        "condicao=True\n",
        "# Exemplo de organização de código\n",
        "if condicao:\n",
        "    # Bloco de código 1\n",
        "    pass\n",
        "else:\n",
        "    # Bloco de código 2\n",
        "    pass"
      ],
      "metadata": {
        "id": "pfDMqP9oGs-C"
      },
      "execution_count": null,
      "outputs": []
    },
    {
      "cell_type": "markdown",
      "source": [
        "## Valide Entradas de Usuário\n",
        "\n",
        "- Verifique e valide todas as entradas de usuário.\n",
        "- Inclui entradas de arquivos, teclado e formulários da web.\n"
      ],
      "metadata": {
        "id": "CyTlKParG_Mi"
      }
    },
    {
      "cell_type": "code",
      "source": [
        "# Exemplo de validação de entrada de usuário\n",
        "numero = input(\"Digite um número inteiro positivo: \")\n",
        "if not numero.isdigit():\n",
        "    print(\"Erro: Entrada inválida. Digite um número inteiro positivo.\")"
      ],
      "metadata": {
        "colab": {
          "base_uri": "https://localhost:8080/"
        },
        "id": "i3VHRA-tHCkG",
        "outputId": "e59655db-ea94-47e1-ea3c-4a63cfea8362"
      },
      "execution_count": null,
      "outputs": [
        {
          "name": "stdout",
          "output_type": "stream",
          "text": [
            "Digite um número inteiro positivo: 14\n"
          ]
        }
      ]
    },
    {
      "cell_type": "code",
      "source": [
        "entrada_invalida = True\n",
        "while entrada_invalida:\n",
        "  # Exemplo de validação de entrada de usuário\n",
        "  numero = input(\"Digite um número inteiro positivo: \")\n",
        "  if not numero.isdigit():\n",
        "      print(\"Erro: Entrada inválida. Digite um número inteiro positivo.\")\n",
        "  else:\n",
        "    entrada_invalida = False"
      ],
      "metadata": {
        "id": "kqMyYZG9HesE",
        "outputId": "3adbcd9f-487d-4351-db91-f295e4132d57",
        "colab": {
          "base_uri": "https://localhost:8080/"
        }
      },
      "execution_count": null,
      "outputs": [
        {
          "name": "stdout",
          "output_type": "stream",
          "text": [
            "Digite um número inteiro positivo: 345\n"
          ]
        }
      ]
    },
    {
      "cell_type": "code",
      "source": [
        "entrada_invalida = True\n",
        "while entrada_invalida:\n",
        "  try:\n",
        "    numero = int(input(\"Digite um número inteiro: \"))\n",
        "    entrada_invalida = False\n",
        "  except:\n",
        "    print('Entrada inválida! Digite um número inteiro')"
      ],
      "metadata": {
        "id": "mVBcaa_OGuav",
        "outputId": "e6630449-7570-4ff8-ae9e-459f7b605b2a",
        "colab": {
          "base_uri": "https://localhost:8080/"
        }
      },
      "execution_count": null,
      "outputs": [
        {
          "name": "stdout",
          "output_type": "stream",
          "text": [
            "Digite um número inteiro: sa\n",
            "Entrada inválida! Digite um número inteiro\n",
            "Digite um número inteiro: a.1\n",
            "Entrada inválida! Digite um número inteiro\n",
            "Digite um número inteiro: 1.e\n",
            "Entrada inválida! Digite um número inteiro\n",
            "Digite um número inteiro: -12\n"
          ]
        }
      ]
    },
    {
      "cell_type": "markdown",
      "source": [
        "## Trate Erros Adequadamente\n",
        "\n",
        "- Trate erros de entrada/saída, alocação de memória e outras exceções.\n",
        "- Utilize blocos try-except para capturar e tratar exceções.\n"
      ],
      "metadata": {
        "id": "EspJ6xnvHJ0E"
      }
    },
    {
      "cell_type": "code",
      "source": [
        "# Exemplo de tratamento de erro\n",
        "try:\n",
        "    # Código que pode gerar uma exceção\n",
        "    pass\n",
        "except Exception as e:\n",
        "    # Tratamento da exceção\n",
        "    pass"
      ],
      "metadata": {
        "id": "e27qvBX0HF8q"
      },
      "execution_count": null,
      "outputs": []
    },
    {
      "cell_type": "markdown",
      "source": [
        "## Escreva Código Claro e Legível\n",
        "\n",
        "- Utilize nomes significativos e descritivos para variáveis, funções e estruturas."
      ],
      "metadata": {
        "id": "dHSGDapCHUbP"
      }
    },
    {
      "cell_type": "code",
      "source": [
        "# Exemplo de código claro e legível\n",
        "idade = 25\n",
        "nome = \"João\"\n",
        "\n",
        "def calcular_media(notas):\n",
        "    # Código para calcular a média das notas\n",
        "    pass"
      ],
      "metadata": {
        "id": "eOsbrW1PHVBj"
      },
      "execution_count": null,
      "outputs": []
    },
    {
      "cell_type": "markdown",
      "source": [
        "# Escreva Documentação Clara e Completa\n",
        "\n",
        "- Inclua comentários no código para explicar sua funcionalidade.\n",
        "- Crie documentação externa, como guias de usuário.\n",
        "- Torna o código fácil de entender e usar.\n"
      ],
      "metadata": {
        "id": "a9lJaAKaJZOL"
      }
    },
    {
      "cell_type": "code",
      "source": [
        "# Função para calcular a média de uma lista de números\n",
        "def calcular_media(lista):\n",
        "    \"\"\"\n",
        "    Esta função calcula a média de uma lista de números.\n",
        "    Parâmetros:\n",
        "    - lista: lista de números\n",
        "    Retorno:\n",
        "    - média dos números da lista\n",
        "    \"\"\"\n",
        "    # Código para calcular a média\n",
        "    pass"
      ],
      "metadata": {
        "id": "TnXqscYQI3B1"
      },
      "execution_count": null,
      "outputs": []
    },
    {
      "cell_type": "markdown",
      "source": [
        "## Use Padrões de Codificação Consistentes\n",
        "\n",
        "- Utilize padrões de codificação consistentes em todo o código.\n",
        "- Torna o código fácil de ler e entender, mesmo que seja escrito por diferentes programadores.\n"
      ],
      "metadata": {
        "id": "PQnC78-qJkkT"
      }
    },
    {
      "cell_type": "code",
      "source": [
        "# Exemplo de código com padrões de codificação consistentes\n",
        "def calcular_media(lista_numeros):\n",
        "    soma = sum(lista_numeros)\n",
        "    media = soma / len(lista_numeros)\n",
        "    return media"
      ],
      "metadata": {
        "id": "7_lbRKr8JhfQ"
      },
      "execution_count": null,
      "outputs": []
    },
    {
      "cell_type": "markdown",
      "source": [
        "# Adote uma Abordagem Modular\n",
        "\n",
        "- Divida o código em partes menores e mais gerenciáveis.\n",
        "- Torna o código mais fácil de entender, manter e atualizar.\n"
      ],
      "metadata": {
        "id": "hU69jSJjJr_3"
      }
    },
    {
      "cell_type": "code",
      "source": [
        "# Exemplo de código modular\n",
        "# Módulo para cálculos matemáticos\n",
        "def soma(a, b):\n",
        "    return a + b\n",
        "\n",
        "def multiplicacao(a, b):\n",
        "    return a * b\n",
        "\n",
        "# Módulo para cálculos estatísticos\n",
        "def media(lista_numeros):\n",
        "    soma = sum(lista_numeros)\n",
        "    media = soma / len(lista_numeros)\n",
        "    return media"
      ],
      "metadata": {
        "id": "dWKmJlQOJpw9"
      },
      "execution_count": null,
      "outputs": []
    },
    {
      "cell_type": "markdown",
      "source": [
        "## Gerencie as Dependências\n",
        "\n",
        "- Gerencie as dependências do código e utilize bibliotecas de terceiros sempre que possível.\n",
        "- Reduz o tempo de desenvolvimento e melhora a qualidade do código.\n"
      ],
      "metadata": {
        "id": "YRUGOocWJz6y"
      }
    },
    {
      "cell_type": "code",
      "source": [
        "# Exemplo de uso de bibliotecas de terceiros\n",
        "import requests\n",
        "\n",
        "response = requests.get('https://api.github.com/users/mralexgray/repos')\n",
        "data = response.json()\n",
        "\n",
        "print(data)"
      ],
      "metadata": {
        "colab": {
          "base_uri": "https://localhost:8080/"
        },
        "id": "Zle8_8j2Jxd2",
        "outputId": "6f9b3e8e-46cf-4bc6-a6f0-884b191faab6"
      },
      "execution_count": null,
      "outputs": [
        {
          "output_type": "stream",
          "name": "stdout",
          "text": [
            "[{'id': 6104546, 'default_branch': 'master'}]\n"
          ]
        }
      ]
    },
    {
      "cell_type": "markdown",
      "source": [
        "## Monitore e Gerencie o Desempenho\n",
        "\n",
        "- Monitore e gerencie o desempenho do código.\n",
        "- Identifique e resolva gargalos de desempenho e problemas de escalabilidade.\n"
      ],
      "metadata": {
        "id": "oVh6sL1vKNCR"
      }
    },
    {
      "cell_type": "code",
      "source": [
        "# Exemplo de otimização de código\n",
        "# Utilize estruturas de dados eficientes\n",
        "lista_numeros = [1, 2, 3, 4, 5]\n",
        "soma = sum(lista_numeros)  # Evita um loop explícito\n",
        "\n",
        "# Use algoritmos eficientes\n",
        "sorted_lista = sorted(lista_numeros)  # Utiliza o algoritmo de ordenação eficiente do Python"
      ],
      "metadata": {
        "id": "cwPi25zmJ4yV"
      },
      "execution_count": null,
      "outputs": []
    },
    {
      "cell_type": "markdown",
      "source": [
        "## Boas Práticas para o Uso de Variáveis, Tipos de Dados e Operadores\n",
        "\n",
        "- Utilize nomes significativos para variáveis, funções e constantes.\n",
        "- Escolha nomes claros e descritivos que reflitam o propósito daquela estrutura no programa.\n"
      ],
      "metadata": {
        "id": "T1qa39XZKVrF"
      }
    },
    {
      "cell_type": "code",
      "source": [
        "# Exemplo de uso de nomes significativos\n",
        "nome = \"João\"\n",
        "idade = 25"
      ],
      "metadata": {
        "id": "ya35xb70KSoE"
      },
      "execution_count": null,
      "outputs": []
    },
    {
      "cell_type": "markdown",
      "source": [
        "## Utilize Tipos de Dados Adequados\n",
        "\n",
        "- Utilize tipos de dados apropriados para as variáveis, evitando conversões desnecessárias.\n",
        "- Isso melhora a eficiência e legibilidade do código.\n"
      ],
      "metadata": {
        "id": "Xs4zVAjNKco3"
      }
    },
    {
      "cell_type": "code",
      "source": [
        "# Exemplo de uso de tipos de dados adequados\n",
        "# Utilize int em vez de float para números inteiros\n",
        "idade = 25\n",
        "\n",
        "# Utilize str em vez de int para strings\n",
        "nome = \"João\""
      ],
      "metadata": {
        "id": "VOA5WFk9Kavd"
      },
      "execution_count": null,
      "outputs": []
    },
    {
      "cell_type": "markdown",
      "source": [
        "## Inicialize Variáveis Antes de Utilizá-las\n",
        "\n",
        "- Inicialize as variáveis antes de utilizá-las para evitar comportamentos inesperados.\n",
        "- Isso ajuda a evitar erros e torna o código mais robusto.\n"
      ],
      "metadata": {
        "id": "BS99QdYuKk8X"
      }
    },
    {
      "cell_type": "code",
      "source": [
        "# Exemplo de inicialização de variáveis\n",
        "numero = 0\n",
        "total = 0.0"
      ],
      "metadata": {
        "id": "h8_8wT9hKikj"
      },
      "execution_count": null,
      "outputs": []
    },
    {
      "cell_type": "markdown",
      "source": [
        "## Utilize Constantes para Melhorar a Legibilidade\n",
        "\n",
        "- Utilize constantes em vez de valores literais para melhorar a legibilidade do código.\n",
        "- Isso torna o código mais compreensível e facilita a manutenção."
      ],
      "metadata": {
        "id": "ECducOJ3KtZS"
      }
    },
    {
      "cell_type": "code",
      "source": [
        "# Exemplo de uso de constantes\n",
        "TAXA_JUROS = 0.05\n",
        "LIMITE_IDADE = 18"
      ],
      "metadata": {
        "id": "Z0-lgFt-KrUd"
      },
      "execution_count": null,
      "outputs": []
    },
    {
      "cell_type": "markdown",
      "source": [
        "## Utilize Parênteses em Expressões com Múltiplos Operadores\n",
        "\n",
        "- Utilize parênteses para evitar ambiguidades em expressões com múltiplos operadores.\n",
        "- Isso torna o código mais claro e evita comportamentos inesperados.\n"
      ],
      "metadata": {
        "id": "Xd-PjYnxK4OM"
      }
    },
    {
      "cell_type": "code",
      "source": [
        "valor1 = 1\n",
        "valor2 = 2\n",
        "valor3 = 3\n",
        "# Exemplo de uso de parênteses em expressões\n",
        "resultado = (valor1 + valor2) * valor3"
      ],
      "metadata": {
        "id": "iqPU3tR1K2Gb"
      },
      "execution_count": null,
      "outputs": []
    },
    {
      "cell_type": "markdown",
      "source": [
        "# Boas Práticas para Implementação de Controle de Fluxos\n",
        "\n",
        "- Use declarações condicionais e loops apropriadamente para evitar código redundante e repetitivo.\n",
        "- Isso melhora a eficiência do código e facilita a sua manutenção.\n"
      ],
      "metadata": {
        "id": "ZJgw5-yFLG0P"
      }
    },
    {
      "cell_type": "code",
      "source": [
        "# Exemplo de uso de declaração condicional\n",
        "if idade >= 18:\n",
        "    print(\"Você é maior de idade\")\n",
        "else:\n",
        "    print(\"Você é menor de idade\")\n"
      ],
      "metadata": {
        "colab": {
          "base_uri": "https://localhost:8080/"
        },
        "id": "vpD1o6rkK82n",
        "outputId": "722a094f-e0c7-43a5-8bb9-b95fcb02adec"
      },
      "execution_count": null,
      "outputs": [
        {
          "output_type": "stream",
          "name": "stdout",
          "text": [
            "Você é maior de idade\n"
          ]
        }
      ]
    },
    {
      "cell_type": "markdown",
      "source": [
        "## Utilize o Operador Lógico and em Declarações Condicionais\n",
        "\n",
        "- Utilize o operador lógico **and** em declarações condicionais para evitar execuções desnecessárias.\n",
        "- Isso melhora a eficiência do código, pois o código após o operador && só será executado se a condição anterior for verdadeira.\n"
      ],
      "metadata": {
        "id": "caYKrcdkLgIl"
      }
    },
    {
      "cell_type": "code",
      "source": [
        "# Exemplo de uso do operador lógico &&\n",
        "if idade >= 18 and idade <= 65:\n",
        "    print(\"Você está na idade adulta\")"
      ],
      "metadata": {
        "colab": {
          "base_uri": "https://localhost:8080/"
        },
        "id": "Ia3rYYPSLZRz",
        "outputId": "04c9e0ee-9947-4f8e-d658-7d39c7c6543c"
      },
      "execution_count": null,
      "outputs": [
        {
          "output_type": "stream",
          "name": "stdout",
          "text": [
            "Você está na idade adulta\n"
          ]
        }
      ]
    },
    {
      "cell_type": "markdown",
      "source": [
        "## Evite Loops Infinitos ou Mal Formatados\n",
        "\n",
        "- Evite loops infinitos ou mal formatados que podem levar a problemas de desempenho ou falhas do programa.\n",
        "- Certifique-se de que o loop tenha uma condição de parada adequada.\n"
      ],
      "metadata": {
        "id": "TM3zmln-Louz"
      }
    },
    {
      "cell_type": "code",
      "source": [
        "condicao = True\n",
        "# Exemplo de loop infinito\n",
        "while True:\n",
        "    # Código do loop\n",
        "    ...\n",
        "    # Condição de parada\n",
        "    if condicao:\n",
        "        break"
      ],
      "metadata": {
        "id": "l73UnlxGLmxt"
      },
      "execution_count": null,
      "outputs": []
    },
    {
      "cell_type": "markdown",
      "source": [
        "## Utilize Nomes de Variáveis Claros e Descritivos\n",
        "\n",
        "- Utilize nomes de variáveis claros e descritivos para tornar o código mais legível.\n",
        "- Escolha nomes que reflitam o propósito e conteúdo da variável.\n"
      ],
      "metadata": {
        "id": "m3_DtiBkL4cy"
      }
    },
    {
      "cell_type": "code",
      "source": [
        "# Exemplo de uso de nomes de variáveis claros\n",
        "total_vendas = 1000\n",
        "quantidade_produtos = 50"
      ],
      "metadata": {
        "id": "_utuxT7bLwJs"
      },
      "execution_count": null,
      "outputs": []
    },
    {
      "cell_type": "markdown",
      "source": [
        "# Boas Práticas para Uso e Implementação de Funções\n",
        "\n",
        "- Nomeie as funções com nomes claros e significativos.\n",
        "- Isso facilita a compreensão do propósito e funcionalidade da função.\n"
      ],
      "metadata": {
        "id": "FO5pHQ6AMAAK"
      }
    },
    {
      "cell_type": "code",
      "source": [
        "# Exemplo de nomeação clara de função\n",
        "def calcular_area_retangulo(comprimento, largura):\n",
        "    area = comprimento * largura\n",
        "    return area"
      ],
      "metadata": {
        "id": "itYvsFmjL89D"
      },
      "execution_count": null,
      "outputs": []
    },
    {
      "cell_type": "markdown",
      "source": [
        "## Limite o Tamanho das Funções\n",
        "\n",
        "- Limite o tamanho das funções para facilitar a leitura e manutenção do código.\n",
        "- Funções muito longas e complexas podem ser difíceis de entender e modificar.\n"
      ],
      "metadata": {
        "id": "1e-yjaGeMHk5"
      }
    },
    {
      "cell_type": "code",
      "source": [
        "# Exemplo de função bem estruturada e de tamanho limitado\n",
        "def calcular_media(valores):\n",
        "    soma = 0\n",
        "    for valor in valores:\n",
        "        soma += valor\n",
        "    media = soma / len(valores)\n",
        "    return media"
      ],
      "metadata": {
        "id": "43Tr2rGtMFe5"
      },
      "execution_count": null,
      "outputs": []
    },
    {
      "cell_type": "markdown",
      "source": [
        "## Declare as Funções Antes de Usá-las\n",
        "\n",
        "- Declare as funções antes de usá-las para evitar erros de compilação.\n",
        "- Isso garante que o interpretador Python reconheça a função antes de sua utilização.\n"
      ],
      "metadata": {
        "id": "k7LtKZEBMQlo"
      }
    },
    {
      "cell_type": "code",
      "source": [
        "# Exemplo de declaração de função antes de usá-la\n",
        "def calcular_area_circulo(raio):\n",
        "    return 3.14 * raio * raio\n",
        "\n",
        "area = calcular_area_circulo(5)"
      ],
      "metadata": {
        "id": "RjbsTyazMOoI"
      },
      "execution_count": null,
      "outputs": []
    },
    {
      "cell_type": "markdown",
      "source": [
        "## Documente as Funções\n",
        "\n",
        "- Documente as funções com comentários claros e precisos.\n",
        "- Isso facilita a compreensão da função, seus parâmetros e retorno.\n"
      ],
      "metadata": {
        "id": "I81rAdV1MXbb"
      }
    },
    {
      "cell_type": "code",
      "source": [
        "# Exemplo de documentação de função\n",
        "def calcular_imposto(salario):\n",
        "    \"\"\"\n",
        "    Calcula o valor do imposto de renda com base no salário informado.\n",
        "    Parâmetros:\n",
        "    - salario: salário bruto do contribuinte\n",
        "    Retorna:\n",
        "    - valor do imposto de renda a ser pago\n",
        "    \"\"\"\n",
        "    imposto = salario * 0.15\n",
        "    return imposto"
      ],
      "metadata": {
        "id": "8dOL0JR1MVo8"
      },
      "execution_count": null,
      "outputs": []
    },
    {
      "cell_type": "markdown",
      "source": [
        "## Use Parâmetros de Entrada e Saída Adequadamente\n",
        "\n",
        "- Utilize parâmetros de entrada e saída de forma adequada.\n",
        "- Evite passar parâmetros desnecessários ou inseguros.\n"
      ],
      "metadata": {
        "id": "a890UdDNMfq-"
      }
    },
    {
      "cell_type": "code",
      "source": [
        "# Exemplo de uso adequado de parâmetros de entrada e saída\n",
        "def calcular_salario_liquido(salario_bruto, descontos):\n",
        "    salario_liquido = salario_bruto - descontos\n",
        "    return salario_liquido\n"
      ],
      "metadata": {
        "id": "DY10BKcGMdqQ"
      },
      "execution_count": null,
      "outputs": []
    },
    {
      "cell_type": "markdown",
      "source": [
        "# Boas Práticas para I/O (Entrada/Saída)\n",
        "\n",
        "- Utilize boas práticas ao lidar com a entrada e saída de dados em seu programa.\n",
        "- Isso inclui validar a entrada, utilizar nomes descritivos, tratar erros adequadamente, evitar sobrecarga e utilizar formatação adequada."
      ],
      "metadata": {
        "id": "b0SgWSV1MoVa"
      }
    },
    {
      "cell_type": "markdown",
      "source": [
        "## Sempre Verifique a Entrada de Dados\n",
        "\n",
        "- Verifique se a entrada de dados está no formato esperado antes de processá-la.\n",
        "- Isso ajuda a evitar erros de execução causados por dados inválidos.\n"
      ],
      "metadata": {
        "id": "M77ZGReRMui0"
      }
    },
    {
      "cell_type": "code",
      "source": [
        "# Exemplo de verificação da entrada de dados\n",
        "idade = input(\"Digite sua idade: \")\n",
        "if idade.isdigit():\n",
        "    idade = int(idade)\n",
        "    # Código para processar a idade\n",
        "else:\n",
        "    print(\"Entrada inválida! Digite um número inteiro.\")"
      ],
      "metadata": {
        "colab": {
          "base_uri": "https://localhost:8080/"
        },
        "id": "ikTrEEA9Mk8M",
        "outputId": "d278d25e-a2b3-488c-ca0e-40b0f36372f2"
      },
      "execution_count": null,
      "outputs": [
        {
          "name": "stdout",
          "output_type": "stream",
          "text": [
            "Digite sua idade: 10\n"
          ]
        }
      ]
    },
    {
      "cell_type": "markdown",
      "source": [
        "## Use Nomes Descritivos\n",
        "\n",
        "- Utilize nomes descritivos para variáveis, funções e arquivos relacionados à entrada e saída de dados.\n",
        "- Isso ajuda a entender o propósito e contexto dos dados.\n"
      ],
      "metadata": {
        "id": "YH-tu0gKM32J"
      }
    },
    {
      "cell_type": "code",
      "source": [
        "# Exemplo de nomeação descritiva de variável\n",
        "nome_usuario = input(\"Digite seu nome: \")"
      ],
      "metadata": {
        "colab": {
          "base_uri": "https://localhost:8080/"
        },
        "id": "3qxKB48eMz7r",
        "outputId": "262a19fa-2366-4676-b250-d279e15e50d2"
      },
      "execution_count": null,
      "outputs": [
        {
          "name": "stdout",
          "output_type": "stream",
          "text": [
            "Digite seu nome: armando\n"
          ]
        }
      ]
    },
    {
      "cell_type": "markdown",
      "source": [
        "## Faça a Validação e o Tratamento de Erros Adequados\n",
        "\n",
        "- Realize a validação e tratamento adequados de erros ao lidar com entrada/saída de dados.\n",
        "- Isso ajuda a evitar falhas de execução e resultados inesperados.\n"
      ],
      "metadata": {
        "id": "-B7vgcnLM-q5"
      }
    },
    {
      "cell_type": "code",
      "source": [
        "# Exemplo de tratamento de erro de abertura de arquivo\n",
        "try:\n",
        "    arquivo = open(\"dados.txt\", \"r\")\n",
        "    # Código para processar o arquivo\n",
        "    arquivo.close()\n",
        "except IOError:\n",
        "    print(\"Erro ao abrir o arquivo!\")"
      ],
      "metadata": {
        "colab": {
          "base_uri": "https://localhost:8080/"
        },
        "id": "NMklyoi1M8P8",
        "outputId": "1d452af4-8c72-4bc0-9537-f60e15864c9f"
      },
      "execution_count": null,
      "outputs": [
        {
          "output_type": "stream",
          "name": "stdout",
          "text": [
            "Erro ao abrir o arquivo!\n"
          ]
        }
      ]
    },
    {
      "cell_type": "markdown",
      "source": [
        "## Limite o Uso de Funções de I/O em Loops\n",
        "\n",
        "- Evite o uso excessivo de funções de entrada/saída de dados em loops.\n",
        "- Isso pode causar sobrecarga e lentidão no programa.\n"
      ],
      "metadata": {
        "id": "ofnkzCn3NFbw"
      }
    },
    {
      "cell_type": "code",
      "source": [
        "# Exemplo de uso adequado de função de leitura em loop\n",
        "lista_nomes = []\n",
        "while True:\n",
        "    nome = input(\"Digite um nome (ou 'sair' para encerrar): \")\n",
        "    if nome == \"sair\":\n",
        "        break\n",
        "    lista_nomes.append(nome)\n",
        "print(lista_nomes)"
      ],
      "metadata": {
        "colab": {
          "base_uri": "https://localhost:8080/"
        },
        "id": "sMwyyI-zNDe2",
        "outputId": "d7577f8a-ce5e-4ff9-be01-fe986ff81a62"
      },
      "execution_count": null,
      "outputs": [
        {
          "output_type": "stream",
          "name": "stdout",
          "text": [
            "Digite um nome (ou 'sair' para encerrar): Armando\n",
            "Digite um nome (ou 'sair' para encerrar): Maria\n",
            "Digite um nome (ou 'sair' para encerrar): Carla\n",
            "Digite um nome (ou 'sair' para encerrar): sair\n",
            "['Armando', 'Maria', 'Carla']\n"
          ]
        }
      ]
    },
    {
      "cell_type": "markdown",
      "source": [
        "## Utilize Formatação Adequada\n",
        "\n",
        "- Utilize formatação adequada para exibição de saída de dados.\n",
        "- Isso facilita a leitura e interpretação por parte do usuário.\n"
      ],
      "metadata": {
        "id": "1585BKK8NNkA"
      }
    },
    {
      "cell_type": "code",
      "source": [
        "# Exemplo de formatação adequada para exibição de dados\n",
        "nome = \"João\"\n",
        "idade = 25\n",
        "print(f\"Nome: {nome}, Idade: {idade}\")\n"
      ],
      "metadata": {
        "colab": {
          "base_uri": "https://localhost:8080/"
        },
        "id": "dKq5JWr0NKZz",
        "outputId": "cf2e3ab7-d78d-4d3b-ed5c-ef6b28dad7f3"
      },
      "execution_count": null,
      "outputs": [
        {
          "output_type": "stream",
          "name": "stdout",
          "text": [
            "Nome: João, Idade: 25\n"
          ]
        }
      ]
    },
    {
      "cell_type": "markdown",
      "source": [
        "# Boas Práticas para Criação e Manipulação de Arquivos .txt\n",
        "\n",
        "- Utilize boas práticas ao lidar com a criação e manipulação de arquivos .txt em seu programa.\n",
        "- Isso inclui verificar a abertura do arquivo e fechá-lo adequadamente.\n",
        "\n",
        "Verifique a Abertura do Arquivo\n",
        "\n",
        "- Verifique se a abertura do arquivo foi bem sucedida antes de realizar qualquer operação de escrita ou leitura.\n",
        "- Isso ajuda a evitar erros e falhas durante a manipulação do arquivo.\n",
        "\n"
      ],
      "metadata": {
        "id": "dg2Th_KTNV4V"
      }
    },
    {
      "cell_type": "code",
      "source": [
        "# Exemplo de verificação da abertura do arquivo\n",
        "try:\n",
        "    arquivo = open(\"dados.txt\", \"r\")\n",
        "    # Código para ler o arquivo\n",
        "    arquivo.close()\n",
        "except IOError:\n",
        "    print(\"Erro ao abrir o arquivo!\")"
      ],
      "metadata": {
        "colab": {
          "base_uri": "https://localhost:8080/"
        },
        "id": "wrs185JSNTOp",
        "outputId": "4b199115-9a51-4f77-e0f1-6475f00b5627"
      },
      "execution_count": null,
      "outputs": [
        {
          "output_type": "stream",
          "name": "stdout",
          "text": [
            "Erro ao abrir o arquivo!\n"
          ]
        }
      ]
    },
    {
      "cell_type": "markdown",
      "source": [
        "## Feche o Arquivo Após a Finalização\n",
        "\n",
        "- Não se esqueça de fechar o arquivo após a finalização das operações.\n",
        "- Isso ajuda a evitar vazamentos de recursos e perda de dados.\n"
      ],
      "metadata": {
        "id": "aynbTAKgNiV2"
      }
    },
    {
      "cell_type": "code",
      "source": [
        "try:\n",
        "    arquivo = open(\"dados.txt\", \"w\")\n",
        "    # Código para escrever no arquivo\n",
        "finally:\n",
        "    arquivo.close()"
      ],
      "metadata": {
        "id": "nyhP0qfsNgRd"
      },
      "execution_count": null,
      "outputs": []
    }
  ]
}
