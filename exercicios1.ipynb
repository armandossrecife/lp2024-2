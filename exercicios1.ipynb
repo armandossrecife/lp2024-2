{
  "nbformat": 4,
  "nbformat_minor": 0,
  "metadata": {
    "colab": {
      "provenance": [],
      "authorship_tag": "ABX9TyPnj2f+q4OP5GFVmvdjXPiV",
      "include_colab_link": true
    },
    "kernelspec": {
      "name": "python3",
      "display_name": "Python 3"
    },
    "language_info": {
      "name": "python"
    }
  },
  "cells": [
    {
      "cell_type": "markdown",
      "metadata": {
        "id": "view-in-github",
        "colab_type": "text"
      },
      "source": [
        "<a href=\"https://colab.research.google.com/github/armandossrecife/lp2024-2/blob/main/exercicios1.ipynb\" target=\"_parent\"><img src=\"https://colab.research.google.com/assets/colab-badge.svg\" alt=\"Open In Colab\"/></a>"
      ]
    },
    {
      "cell_type": "markdown",
      "source": [
        "# Exercícios Ifs e Loops (For e while)"
      ],
      "metadata": {
        "id": "z5JGJicNu1Kw"
      }
    },
    {
      "cell_type": "markdown",
      "source": [
        "\n",
        "## 1. Crie um programa em python, que o usuário informa o nome, o ano de nascimento e o seu CPF. Logo após o programa deve exibir o nome (com todos os caracteres em maiúsculo) do usuário, sua idade atual (em 2023) e o CPF informado (formatação XXX.XXX.XXX-XX)."
      ],
      "metadata": {
        "id": "kV_0_CO8xjeF"
      }
    },
    {
      "cell_type": "code",
      "execution_count": null,
      "metadata": {
        "id": "D5hSgluQu0s5"
      },
      "outputs": [],
      "source": [
        "## Coloque seu código aqui..."
      ]
    },
    {
      "cell_type": "markdown",
      "source": [
        "## 2. Dada a seguinte lista de nomes: ['Maria', 'João', 'Antônio', 'Francisca', 'Carla'] e seguinte lista de sexo: ['F', 'M', 'M', 'F', 'F'].\n",
        "\n",
        "- a) Calcule quantos homens ('M') e quantas mulheres ('F') tem na lista de nomes.\n",
        "\n",
        "- b) Crie uma listagem que mostre apenas os homens\n",
        "\n",
        "- c) Crie uma listagem que mostre apenas as mulheres."
      ],
      "metadata": {
        "id": "Jd6AM7Oay5u9"
      }
    },
    {
      "cell_type": "code",
      "source": [
        "## Coloque seu código aqui..."
      ],
      "metadata": {
        "id": "kp0xGAd_0SPE"
      },
      "execution_count": null,
      "outputs": []
    },
    {
      "cell_type": "markdown",
      "source": [
        "## 3. Crie um programa em Python que simule a escolha de opções de um menu:\n",
        "\n",
        "Menu de opções:\n",
        "\n",
        "1. Opção 1\n",
        "2. Opção 2\n",
        "3. Opção 3\n",
        "4. SAIR\n",
        "\n",
        "Digite sua opção:\n",
        "\n",
        "Se o usuário informar uma opção válida, o programa deve mostrar:\n",
        "- Você escolheu a opção 1, o programa continua\n",
        "- Você escolheu a opção 2, o programa continua\n",
        "- Você escolheu a opção 3, o programa continua\n",
        "- Você escolheu a opção SAIR, encerra o programa\n",
        "\n",
        "Se o usuário informar uma opção diferente de 1, 2, 3 ou 4, o programa deve mostrar a mensagem: \"Opção inválida! Tente novamente\" enquanto o usuário não escolher uma opção válida."
      ],
      "metadata": {
        "id": "BqNQGZuQ-Jx_"
      }
    },
    {
      "cell_type": "code",
      "source": [
        "## Coloque seu código aqui..."
      ],
      "metadata": {
        "id": "NugXSXkA-h8g"
      },
      "execution_count": null,
      "outputs": []
    },
    {
      "cell_type": "markdown",
      "source": [
        "## 4. Crie um programa que simula o jogo de adivinhação de um número inteiro.\n",
        "\n",
        "- O programa deve gerar um número inteiro \"mágico\" entre 0 e 100\n",
        "- O usuário deve informar seu nome\n",
        "- O programa deve mostrar uma mensagem de boas vindas e mostrar a regra principal do jogo: \"Olá {nome_usuario}, tente adivinhar um número inteiro entre 0 e 100.\"\n",
        "- O programa deve pedir para o usuário informar seu palpite\n",
        "- O programa deve checar se o usuário acertou o número \"mágico\"\n",
        "- Caso o usuário acerte o número mágico. O programa deve encerrar o jogo e mostrar a mensagem \"{nome_usuario}, você acertou o número mágico: {numero_magico}\".\n",
        "- Enquanto o palpite do usuário não for igual ao número \"mágico\" o programa deve continuar perguntando outro palpite\n",
        "- Se o palpite for menor que numero_magico, o programa deve mostrar: \"Tente um número maior\", se não deve mostrar: \"Tente um número menor\""
      ],
      "metadata": {
        "id": "mYwOrWzg4rx1"
      }
    },
    {
      "cell_type": "markdown",
      "source": [
        "Você pode usar o módulo random do Python para gerar um número inteiro aleatório.\n",
        "```python\n",
        "import random\n",
        "numero_aleatorio = random.randint(1, 10)  # Gera um número entre 1 e 10 (inclusive).\n",
        "```"
      ],
      "metadata": {
        "id": "_6GKXvXC6k-J"
      }
    },
    {
      "cell_type": "code",
      "source": [
        "## Coloque seu código aqui..."
      ],
      "metadata": {
        "id": "I1R2ncS1039D"
      },
      "execution_count": null,
      "outputs": []
    }
  ]
}